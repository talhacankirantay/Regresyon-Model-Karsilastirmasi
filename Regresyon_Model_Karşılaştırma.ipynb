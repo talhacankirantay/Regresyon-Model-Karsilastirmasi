{
 "cells": [
  {
   "cell_type": "code",
   "execution_count": 1,
   "id": "12ef0549-94f9-4972-85cd-eebb964ee1f1",
   "metadata": {},
   "outputs": [],
   "source": [
    "# -*- coding: utf-8 -*-"
   ]
  },
  {
   "cell_type": "code",
   "execution_count": 2,
   "id": "97395ddb-3ea3-4a4b-ab1b-655ea1e25757",
   "metadata": {},
   "outputs": [],
   "source": [
    "# Talha Can Kırantay - 173322003 - İstatistiksel Yazılımlar Ödevi"
   ]
  },
  {
   "cell_type": "code",
   "execution_count": 3,
   "id": "64cba83e-db7f-4c17-88fb-840617a08183",
   "metadata": {},
   "outputs": [],
   "source": [
    "# Bu projedeki amaç bir şirketin kısa vadeli borçlarını ödeyebilme kapasitesini gösteren metriğin aşağıda açıklanmış belirli bağımsız değişkenlere göre\n",
    "# bir doğrusal regresyon modeliyle tahmin edilmesidir."
   ]
  },
  {
   "cell_type": "code",
   "execution_count": 4,
   "id": "daf4cbf0-9b6b-4ed5-949a-0d1508fea930",
   "metadata": {},
   "outputs": [
    {
     "name": "stdout",
     "output_type": "stream",
     "text": [
      "Requirement already satisfied: xgboost in c:\\users\\cnkrn\\anaconda3\\lib\\site-packages (3.0.0)\n",
      "Requirement already satisfied: numpy in c:\\users\\cnkrn\\anaconda3\\lib\\site-packages (from xgboost) (1.26.4)\n",
      "Requirement already satisfied: scipy in c:\\users\\cnkrn\\anaconda3\\lib\\site-packages (from xgboost) (1.13.1)\n"
     ]
    }
   ],
   "source": [
    "!pip install xgboost"
   ]
  },
  {
   "cell_type": "code",
   "execution_count": 5,
   "id": "de30454a-c511-4ffa-81a8-9f3d7207a373",
   "metadata": {},
   "outputs": [],
   "source": [
    "import numpy as np\n",
    "import pandas as pd\n",
    "np.set_printoptions(suppress=True)\n",
    "import seaborn as sbn\n",
    "import matplotlib.pyplot as plt\n",
    "import statsmodels.api as sm\n",
    "import statsmodels.formula.api as smf\n",
    "from sklearn.linear_model import LinearRegression\n",
    "from sklearn.metrics import mean_squared_error,r2_score,root_mean_squared_error\n",
    "from sklearn.model_selection import train_test_split\n",
    "from sklearn.metrics import mean_absolute_percentage_error\n",
    "from sklearn.preprocessing import scale\n",
    "from sklearn.decomposition import PCA\n",
    "from sklearn import model_selection\n",
    "from sklearn.model_selection import KFold \n",
    "from sklearn.cross_decomposition import PLSRegression\n",
    "from sklearn.model_selection import cross_val_predict\n",
    "from sklearn.linear_model import Ridge\n",
    "from sklearn.linear_model import Lasso\n",
    "from sklearn.linear_model import LassoCV\n",
    "from sklearn.model_selection import GridSearchCV\n",
    "from sklearn.neighbors import KNeighborsRegressor\n",
    "from sklearn.svm import SVR\n",
    "from sklearn.preprocessing import StandardScaler\n",
    "from sklearn.neural_network import MLPRegressor\n",
    "from IPython.core.interactiveshell import InteractiveShell\n",
    "InteractiveShell.ast_node_interactivity = \"all\"\n",
    "import warnings\n",
    "warnings.filterwarnings(\"ignore\")\n",
    "\n",
    "from sklearn.tree import DecisionTreeRegressor \n",
    "from sklearn.ensemble import BaggingRegressor\n",
    "from sklearn.ensemble import RandomForestRegressor\n",
    "from sklearn.ensemble import GradientBoostingRegressor\n",
    "from xgboost import XGBRegressor"
   ]
  },
  {
   "cell_type": "code",
   "execution_count": 6,
   "id": "f68d9b11-0c0d-4fb7-9dab-4147c8b08df7",
   "metadata": {},
   "outputs": [],
   "source": [
    "np.set_printoptions(suppress=True)"
   ]
  },
  {
   "cell_type": "code",
   "execution_count": 7,
   "id": "38bf67d3-6eb7-4c4c-baf1-12893dbedeac",
   "metadata": {},
   "outputs": [],
   "source": [
    "dat=pd.read_csv(\"C:/Users/cnkrn/Desktop/fundamentals.csv\")"
   ]
  },
  {
   "cell_type": "code",
   "execution_count": 8,
   "id": "a7bc2838-822f-446a-a1f2-2d5b64136713",
   "metadata": {},
   "outputs": [
    {
     "data": {
      "text/html": [
       "<div>\n",
       "<style scoped>\n",
       "    .dataframe tbody tr th:only-of-type {\n",
       "        vertical-align: middle;\n",
       "    }\n",
       "\n",
       "    .dataframe tbody tr th {\n",
       "        vertical-align: top;\n",
       "    }\n",
       "\n",
       "    .dataframe thead th {\n",
       "        text-align: right;\n",
       "    }\n",
       "</style>\n",
       "<table border=\"1\" class=\"dataframe\">\n",
       "  <thead>\n",
       "    <tr style=\"text-align: right;\">\n",
       "      <th></th>\n",
       "      <th>Unnamed: 0</th>\n",
       "      <th>Ticker Symbol</th>\n",
       "      <th>Period Ending</th>\n",
       "      <th>Accounts Payable</th>\n",
       "      <th>Accounts Receivable</th>\n",
       "      <th>Add'l income/expense items</th>\n",
       "      <th>After Tax ROE</th>\n",
       "      <th>Capital Expenditures</th>\n",
       "      <th>Capital Surplus</th>\n",
       "      <th>Cash Ratio</th>\n",
       "      <th>...</th>\n",
       "      <th>Total Current Assets</th>\n",
       "      <th>Total Current Liabilities</th>\n",
       "      <th>Total Equity</th>\n",
       "      <th>Total Liabilities</th>\n",
       "      <th>Total Liabilities &amp; Equity</th>\n",
       "      <th>Total Revenue</th>\n",
       "      <th>Treasury Stock</th>\n",
       "      <th>For Year</th>\n",
       "      <th>Earnings Per Share</th>\n",
       "      <th>Estimated Shares Outstanding</th>\n",
       "    </tr>\n",
       "  </thead>\n",
       "  <tbody>\n",
       "    <tr>\n",
       "      <th>0</th>\n",
       "      <td>0</td>\n",
       "      <td>AAL</td>\n",
       "      <td>2012-12-31</td>\n",
       "      <td>3.068000e+09</td>\n",
       "      <td>-222000000.0</td>\n",
       "      <td>-1.961000e+09</td>\n",
       "      <td>23.0</td>\n",
       "      <td>-1.888000e+09</td>\n",
       "      <td>4.695000e+09</td>\n",
       "      <td>53.0</td>\n",
       "      <td>...</td>\n",
       "      <td>7.072000e+09</td>\n",
       "      <td>9.011000e+09</td>\n",
       "      <td>-7.987000e+09</td>\n",
       "      <td>2.489100e+10</td>\n",
       "      <td>1.690400e+10</td>\n",
       "      <td>2.485500e+10</td>\n",
       "      <td>-367000000.0</td>\n",
       "      <td>2012.0</td>\n",
       "      <td>-5.60</td>\n",
       "      <td>3.350000e+08</td>\n",
       "    </tr>\n",
       "    <tr>\n",
       "      <th>1</th>\n",
       "      <td>1</td>\n",
       "      <td>AAL</td>\n",
       "      <td>2013-12-31</td>\n",
       "      <td>4.975000e+09</td>\n",
       "      <td>-93000000.0</td>\n",
       "      <td>-2.723000e+09</td>\n",
       "      <td>67.0</td>\n",
       "      <td>-3.114000e+09</td>\n",
       "      <td>1.059200e+10</td>\n",
       "      <td>75.0</td>\n",
       "      <td>...</td>\n",
       "      <td>1.432300e+10</td>\n",
       "      <td>1.380600e+10</td>\n",
       "      <td>-2.731000e+09</td>\n",
       "      <td>4.500900e+10</td>\n",
       "      <td>4.227800e+10</td>\n",
       "      <td>2.674300e+10</td>\n",
       "      <td>0.0</td>\n",
       "      <td>2013.0</td>\n",
       "      <td>-11.25</td>\n",
       "      <td>1.630222e+08</td>\n",
       "    </tr>\n",
       "    <tr>\n",
       "      <th>2</th>\n",
       "      <td>2</td>\n",
       "      <td>AAL</td>\n",
       "      <td>2014-12-31</td>\n",
       "      <td>4.668000e+09</td>\n",
       "      <td>-160000000.0</td>\n",
       "      <td>-1.500000e+08</td>\n",
       "      <td>143.0</td>\n",
       "      <td>-5.311000e+09</td>\n",
       "      <td>1.513500e+10</td>\n",
       "      <td>60.0</td>\n",
       "      <td>...</td>\n",
       "      <td>1.175000e+10</td>\n",
       "      <td>1.340400e+10</td>\n",
       "      <td>2.021000e+09</td>\n",
       "      <td>4.120400e+10</td>\n",
       "      <td>4.322500e+10</td>\n",
       "      <td>4.265000e+10</td>\n",
       "      <td>0.0</td>\n",
       "      <td>2014.0</td>\n",
       "      <td>4.02</td>\n",
       "      <td>7.169154e+08</td>\n",
       "    </tr>\n",
       "    <tr>\n",
       "      <th>3</th>\n",
       "      <td>3</td>\n",
       "      <td>AAL</td>\n",
       "      <td>2015-12-31</td>\n",
       "      <td>5.102000e+09</td>\n",
       "      <td>352000000.0</td>\n",
       "      <td>-7.080000e+08</td>\n",
       "      <td>135.0</td>\n",
       "      <td>-6.151000e+09</td>\n",
       "      <td>1.159100e+10</td>\n",
       "      <td>51.0</td>\n",
       "      <td>...</td>\n",
       "      <td>9.985000e+09</td>\n",
       "      <td>1.360500e+10</td>\n",
       "      <td>5.635000e+09</td>\n",
       "      <td>4.278000e+10</td>\n",
       "      <td>4.841500e+10</td>\n",
       "      <td>4.099000e+10</td>\n",
       "      <td>0.0</td>\n",
       "      <td>2015.0</td>\n",
       "      <td>11.39</td>\n",
       "      <td>6.681299e+08</td>\n",
       "    </tr>\n",
       "    <tr>\n",
       "      <th>4</th>\n",
       "      <td>4</td>\n",
       "      <td>AAP</td>\n",
       "      <td>2012-12-29</td>\n",
       "      <td>2.409453e+09</td>\n",
       "      <td>-89482000.0</td>\n",
       "      <td>6.000000e+05</td>\n",
       "      <td>32.0</td>\n",
       "      <td>-2.711820e+08</td>\n",
       "      <td>5.202150e+08</td>\n",
       "      <td>23.0</td>\n",
       "      <td>...</td>\n",
       "      <td>3.184200e+09</td>\n",
       "      <td>2.559638e+09</td>\n",
       "      <td>1.210694e+09</td>\n",
       "      <td>3.403120e+09</td>\n",
       "      <td>4.613814e+09</td>\n",
       "      <td>6.205003e+09</td>\n",
       "      <td>-27095000.0</td>\n",
       "      <td>2012.0</td>\n",
       "      <td>5.29</td>\n",
       "      <td>7.328355e+07</td>\n",
       "    </tr>\n",
       "  </tbody>\n",
       "</table>\n",
       "<p>5 rows × 79 columns</p>\n",
       "</div>"
      ],
      "text/plain": [
       "   Unnamed: 0 Ticker Symbol Period Ending  Accounts Payable  \\\n",
       "0           0           AAL    2012-12-31      3.068000e+09   \n",
       "1           1           AAL    2013-12-31      4.975000e+09   \n",
       "2           2           AAL    2014-12-31      4.668000e+09   \n",
       "3           3           AAL    2015-12-31      5.102000e+09   \n",
       "4           4           AAP    2012-12-29      2.409453e+09   \n",
       "\n",
       "   Accounts Receivable  Add'l income/expense items  After Tax ROE  \\\n",
       "0         -222000000.0               -1.961000e+09           23.0   \n",
       "1          -93000000.0               -2.723000e+09           67.0   \n",
       "2         -160000000.0               -1.500000e+08          143.0   \n",
       "3          352000000.0               -7.080000e+08          135.0   \n",
       "4          -89482000.0                6.000000e+05           32.0   \n",
       "\n",
       "   Capital Expenditures  Capital Surplus  Cash Ratio  ...  \\\n",
       "0         -1.888000e+09     4.695000e+09        53.0  ...   \n",
       "1         -3.114000e+09     1.059200e+10        75.0  ...   \n",
       "2         -5.311000e+09     1.513500e+10        60.0  ...   \n",
       "3         -6.151000e+09     1.159100e+10        51.0  ...   \n",
       "4         -2.711820e+08     5.202150e+08        23.0  ...   \n",
       "\n",
       "   Total Current Assets  Total Current Liabilities  Total Equity  \\\n",
       "0          7.072000e+09               9.011000e+09 -7.987000e+09   \n",
       "1          1.432300e+10               1.380600e+10 -2.731000e+09   \n",
       "2          1.175000e+10               1.340400e+10  2.021000e+09   \n",
       "3          9.985000e+09               1.360500e+10  5.635000e+09   \n",
       "4          3.184200e+09               2.559638e+09  1.210694e+09   \n",
       "\n",
       "   Total Liabilities  Total Liabilities & Equity  Total Revenue  \\\n",
       "0       2.489100e+10                1.690400e+10   2.485500e+10   \n",
       "1       4.500900e+10                4.227800e+10   2.674300e+10   \n",
       "2       4.120400e+10                4.322500e+10   4.265000e+10   \n",
       "3       4.278000e+10                4.841500e+10   4.099000e+10   \n",
       "4       3.403120e+09                4.613814e+09   6.205003e+09   \n",
       "\n",
       "   Treasury Stock  For Year  Earnings Per Share  Estimated Shares Outstanding  \n",
       "0    -367000000.0    2012.0               -5.60                  3.350000e+08  \n",
       "1             0.0    2013.0              -11.25                  1.630222e+08  \n",
       "2             0.0    2014.0                4.02                  7.169154e+08  \n",
       "3             0.0    2015.0               11.39                  6.681299e+08  \n",
       "4     -27095000.0    2012.0                5.29                  7.328355e+07  \n",
       "\n",
       "[5 rows x 79 columns]"
      ]
     },
     "execution_count": 8,
     "metadata": {},
     "output_type": "execute_result"
    }
   ],
   "source": [
    "dat.head()"
   ]
  },
  {
   "cell_type": "code",
   "execution_count": 9,
   "id": "62f00650-4de9-426e-bc29-cc5e06595127",
   "metadata": {},
   "outputs": [
    {
     "data": {
      "text/plain": [
       "Unnamed: 0                        int64\n",
       "Ticker Symbol                    object\n",
       "Period Ending                    object\n",
       "Accounts Payable                float64\n",
       "Accounts Receivable             float64\n",
       "                                 ...   \n",
       "Total Revenue                   float64\n",
       "Treasury Stock                  float64\n",
       "For Year                        float64\n",
       "Earnings Per Share              float64\n",
       "Estimated Shares Outstanding    float64\n",
       "Length: 79, dtype: object"
      ]
     },
     "execution_count": 9,
     "metadata": {},
     "output_type": "execute_result"
    }
   ],
   "source": [
    "dat.dtypes"
   ]
  },
  {
   "cell_type": "code",
   "execution_count": 10,
   "id": "26dc3549-de5b-481c-baab-017fa5169ba9",
   "metadata": {},
   "outputs": [
    {
     "data": {
      "text/plain": [
       "(1781, 79)"
      ]
     },
     "execution_count": 10,
     "metadata": {},
     "output_type": "execute_result"
    }
   ],
   "source": [
    "dat.shape"
   ]
  },
  {
   "cell_type": "code",
   "execution_count": 11,
   "id": "7a469f81-4950-446d-83d1-bac9556592ef",
   "metadata": {},
   "outputs": [],
   "source": [
    "# Veri setinde 1781 gözlem 79 sütun bulunmakta. Hipotezim doğrultusunda ilgilenmediğim sütunları çıkaracağım."
   ]
  },
  {
   "cell_type": "code",
   "execution_count": 12,
   "id": "78cccfdc-b281-4af3-979f-60a308a88b49",
   "metadata": {},
   "outputs": [],
   "source": [
    "dat_duzenlenmis = [\n",
    "    \"Current Ratio\",\n",
    "    \"Quick Ratio\",\n",
    "    \"Cash Ratio\",\n",
    "    \"Interest Expense\",\n",
    "    \"Fixed Assets\",\n",
    "    \"Other Assets\",\n",
    "    \"Total Current Liabilities\",\n",
    "    \"Total Liabilities\",\n",
    "    \"Short-Term Debt / Current Portion of Long-Term Debt\",\n",
    "    \"Capital Expenditures\",\n",
    "    \"Deferred Liability Charges\",\n",
    "    \"Accounts Payable\",\n",
    "    \"Other Operating Items\"\n",
    "]"
   ]
  },
  {
   "cell_type": "code",
   "execution_count": 13,
   "id": "4c1865a2-4c7d-4386-b8ec-a9a2f4fd85f4",
   "metadata": {},
   "outputs": [],
   "source": [
    "dat_guncel = dat[dat_duzenlenmis]"
   ]
  },
  {
   "cell_type": "code",
   "execution_count": 14,
   "id": "a1bb64d0-f3f1-48e2-8565-ff4d5aa1f8c4",
   "metadata": {},
   "outputs": [
    {
     "data": {
      "text/html": [
       "<div>\n",
       "<style scoped>\n",
       "    .dataframe tbody tr th:only-of-type {\n",
       "        vertical-align: middle;\n",
       "    }\n",
       "\n",
       "    .dataframe tbody tr th {\n",
       "        vertical-align: top;\n",
       "    }\n",
       "\n",
       "    .dataframe thead th {\n",
       "        text-align: right;\n",
       "    }\n",
       "</style>\n",
       "<table border=\"1\" class=\"dataframe\">\n",
       "  <thead>\n",
       "    <tr style=\"text-align: right;\">\n",
       "      <th></th>\n",
       "      <th>Current Ratio</th>\n",
       "      <th>Quick Ratio</th>\n",
       "      <th>Cash Ratio</th>\n",
       "      <th>Interest Expense</th>\n",
       "      <th>Fixed Assets</th>\n",
       "      <th>Other Assets</th>\n",
       "      <th>Total Current Liabilities</th>\n",
       "      <th>Total Liabilities</th>\n",
       "      <th>Short-Term Debt / Current Portion of Long-Term Debt</th>\n",
       "      <th>Capital Expenditures</th>\n",
       "      <th>Deferred Liability Charges</th>\n",
       "      <th>Accounts Payable</th>\n",
       "      <th>Other Operating Items</th>\n",
       "    </tr>\n",
       "  </thead>\n",
       "  <tbody>\n",
       "    <tr>\n",
       "      <th>0</th>\n",
       "      <td>78.0</td>\n",
       "      <td>72.0</td>\n",
       "      <td>53.0</td>\n",
       "      <td>632000000.0</td>\n",
       "      <td>1.340200e+10</td>\n",
       "      <td>2.167000e+09</td>\n",
       "      <td>9.011000e+09</td>\n",
       "      <td>2.489100e+10</td>\n",
       "      <td>1.419000e+09</td>\n",
       "      <td>-1.888000e+09</td>\n",
       "      <td>223000000.0</td>\n",
       "      <td>3.068000e+09</td>\n",
       "      <td>8.450000e+08</td>\n",
       "    </tr>\n",
       "    <tr>\n",
       "      <th>1</th>\n",
       "      <td>104.0</td>\n",
       "      <td>96.0</td>\n",
       "      <td>75.0</td>\n",
       "      <td>856000000.0</td>\n",
       "      <td>1.925900e+10</td>\n",
       "      <td>2.299000e+09</td>\n",
       "      <td>1.380600e+10</td>\n",
       "      <td>4.500900e+10</td>\n",
       "      <td>1.446000e+09</td>\n",
       "      <td>-3.114000e+09</td>\n",
       "      <td>935000000.0</td>\n",
       "      <td>4.975000e+09</td>\n",
       "      <td>8.530000e+08</td>\n",
       "    </tr>\n",
       "    <tr>\n",
       "      <th>2</th>\n",
       "      <td>88.0</td>\n",
       "      <td>80.0</td>\n",
       "      <td>60.0</td>\n",
       "      <td>887000000.0</td>\n",
       "      <td>2.308400e+10</td>\n",
       "      <td>2.060000e+09</td>\n",
       "      <td>1.340400e+10</td>\n",
       "      <td>4.120400e+10</td>\n",
       "      <td>1.677000e+09</td>\n",
       "      <td>-5.311000e+09</td>\n",
       "      <td>829000000.0</td>\n",
       "      <td>4.668000e+09</td>\n",
       "      <td>1.295000e+09</td>\n",
       "    </tr>\n",
       "    <tr>\n",
       "      <th>3</th>\n",
       "      <td>73.0</td>\n",
       "      <td>67.0</td>\n",
       "      <td>51.0</td>\n",
       "      <td>880000000.0</td>\n",
       "      <td>2.751000e+10</td>\n",
       "      <td>2.103000e+09</td>\n",
       "      <td>1.360500e+10</td>\n",
       "      <td>4.278000e+10</td>\n",
       "      <td>2.231000e+09</td>\n",
       "      <td>-6.151000e+09</td>\n",
       "      <td>667000000.0</td>\n",
       "      <td>5.102000e+09</td>\n",
       "      <td>1.364000e+09</td>\n",
       "    </tr>\n",
       "    <tr>\n",
       "      <th>4</th>\n",
       "      <td>124.0</td>\n",
       "      <td>34.0</td>\n",
       "      <td>23.0</td>\n",
       "      <td>33841000.0</td>\n",
       "      <td>1.292547e+09</td>\n",
       "      <td>3.183300e+07</td>\n",
       "      <td>2.559638e+09</td>\n",
       "      <td>3.403120e+09</td>\n",
       "      <td>6.270000e+05</td>\n",
       "      <td>-2.711820e+08</td>\n",
       "      <td>0.0</td>\n",
       "      <td>2.409453e+09</td>\n",
       "      <td>0.000000e+00</td>\n",
       "    </tr>\n",
       "    <tr>\n",
       "      <th>...</th>\n",
       "      <td>...</td>\n",
       "      <td>...</td>\n",
       "      <td>...</td>\n",
       "      <td>...</td>\n",
       "      <td>...</td>\n",
       "      <td>...</td>\n",
       "      <td>...</td>\n",
       "      <td>...</td>\n",
       "      <td>...</td>\n",
       "      <td>...</td>\n",
       "      <td>...</td>\n",
       "      <td>...</td>\n",
       "      <td>...</td>\n",
       "    </tr>\n",
       "    <tr>\n",
       "      <th>1776</th>\n",
       "      <td>NaN</td>\n",
       "      <td>NaN</td>\n",
       "      <td>NaN</td>\n",
       "      <td>68867000.0</td>\n",
       "      <td>9.125540e+08</td>\n",
       "      <td>9.219190e+08</td>\n",
       "      <td>0.000000e+00</td>\n",
       "      <td>5.216201e+10</td>\n",
       "      <td>3.469870e+08</td>\n",
       "      <td>-1.573610e+08</td>\n",
       "      <td>0.0</td>\n",
       "      <td>0.000000e+00</td>\n",
       "      <td>4.928200e+07</td>\n",
       "    </tr>\n",
       "    <tr>\n",
       "      <th>1777</th>\n",
       "      <td>237.0</td>\n",
       "      <td>146.0</td>\n",
       "      <td>43.0</td>\n",
       "      <td>113000000.0</td>\n",
       "      <td>1.295000e+09</td>\n",
       "      <td>5.800000e+07</td>\n",
       "      <td>1.415000e+09</td>\n",
       "      <td>5.618000e+09</td>\n",
       "      <td>1.500000e+07</td>\n",
       "      <td>-1.840000e+08</td>\n",
       "      <td>322000000.0</td>\n",
       "      <td>1.381000e+09</td>\n",
       "      <td>6.000000e+07</td>\n",
       "    </tr>\n",
       "    <tr>\n",
       "      <th>1778</th>\n",
       "      <td>319.0</td>\n",
       "      <td>200.0</td>\n",
       "      <td>81.0</td>\n",
       "      <td>117000000.0</td>\n",
       "      <td>1.318000e+09</td>\n",
       "      <td>4.800000e+07</td>\n",
       "      <td>1.086000e+09</td>\n",
       "      <td>5.277000e+09</td>\n",
       "      <td>7.000000e+06</td>\n",
       "      <td>-1.800000e+08</td>\n",
       "      <td>277000000.0</td>\n",
       "      <td>1.071000e+09</td>\n",
       "      <td>6.000000e+07</td>\n",
       "    </tr>\n",
       "    <tr>\n",
       "      <th>1779</th>\n",
       "      <td>215.0</td>\n",
       "      <td>133.0</td>\n",
       "      <td>65.0</td>\n",
       "      <td>124000000.0</td>\n",
       "      <td>1.307000e+09</td>\n",
       "      <td>4.900000e+07</td>\n",
       "      <td>1.781000e+09</td>\n",
       "      <td>6.845000e+09</td>\n",
       "      <td>4.050000e+08</td>\n",
       "      <td>-2.240000e+08</td>\n",
       "      <td>264000000.0</td>\n",
       "      <td>1.313000e+09</td>\n",
       "      <td>6.100000e+07</td>\n",
       "    </tr>\n",
       "    <tr>\n",
       "      <th>1780</th>\n",
       "      <td>303.0</td>\n",
       "      <td>169.0</td>\n",
       "      <td>65.0</td>\n",
       "      <td>166000000.0</td>\n",
       "      <td>1.381000e+09</td>\n",
       "      <td>7.300000e+07</td>\n",
       "      <td>1.117000e+09</td>\n",
       "      <td>6.162000e+09</td>\n",
       "      <td>0.000000e+00</td>\n",
       "      <td>-2.160000e+08</td>\n",
       "      <td>244000000.0</td>\n",
       "      <td>1.076000e+09</td>\n",
       "      <td>8.500000e+07</td>\n",
       "    </tr>\n",
       "  </tbody>\n",
       "</table>\n",
       "<p>1781 rows × 13 columns</p>\n",
       "</div>"
      ],
      "text/plain": [
       "      Current Ratio  Quick Ratio  Cash Ratio  Interest Expense  Fixed Assets  \\\n",
       "0              78.0         72.0        53.0       632000000.0  1.340200e+10   \n",
       "1             104.0         96.0        75.0       856000000.0  1.925900e+10   \n",
       "2              88.0         80.0        60.0       887000000.0  2.308400e+10   \n",
       "3              73.0         67.0        51.0       880000000.0  2.751000e+10   \n",
       "4             124.0         34.0        23.0        33841000.0  1.292547e+09   \n",
       "...             ...          ...         ...               ...           ...   \n",
       "1776            NaN          NaN         NaN        68867000.0  9.125540e+08   \n",
       "1777          237.0        146.0        43.0       113000000.0  1.295000e+09   \n",
       "1778          319.0        200.0        81.0       117000000.0  1.318000e+09   \n",
       "1779          215.0        133.0        65.0       124000000.0  1.307000e+09   \n",
       "1780          303.0        169.0        65.0       166000000.0  1.381000e+09   \n",
       "\n",
       "      Other Assets  Total Current Liabilities  Total Liabilities  \\\n",
       "0     2.167000e+09               9.011000e+09       2.489100e+10   \n",
       "1     2.299000e+09               1.380600e+10       4.500900e+10   \n",
       "2     2.060000e+09               1.340400e+10       4.120400e+10   \n",
       "3     2.103000e+09               1.360500e+10       4.278000e+10   \n",
       "4     3.183300e+07               2.559638e+09       3.403120e+09   \n",
       "...            ...                        ...                ...   \n",
       "1776  9.219190e+08               0.000000e+00       5.216201e+10   \n",
       "1777  5.800000e+07               1.415000e+09       5.618000e+09   \n",
       "1778  4.800000e+07               1.086000e+09       5.277000e+09   \n",
       "1779  4.900000e+07               1.781000e+09       6.845000e+09   \n",
       "1780  7.300000e+07               1.117000e+09       6.162000e+09   \n",
       "\n",
       "      Short-Term Debt / Current Portion of Long-Term Debt  \\\n",
       "0                                          1.419000e+09     \n",
       "1                                          1.446000e+09     \n",
       "2                                          1.677000e+09     \n",
       "3                                          2.231000e+09     \n",
       "4                                          6.270000e+05     \n",
       "...                                                 ...     \n",
       "1776                                       3.469870e+08     \n",
       "1777                                       1.500000e+07     \n",
       "1778                                       7.000000e+06     \n",
       "1779                                       4.050000e+08     \n",
       "1780                                       0.000000e+00     \n",
       "\n",
       "      Capital Expenditures  Deferred Liability Charges  Accounts Payable  \\\n",
       "0            -1.888000e+09                 223000000.0      3.068000e+09   \n",
       "1            -3.114000e+09                 935000000.0      4.975000e+09   \n",
       "2            -5.311000e+09                 829000000.0      4.668000e+09   \n",
       "3            -6.151000e+09                 667000000.0      5.102000e+09   \n",
       "4            -2.711820e+08                         0.0      2.409453e+09   \n",
       "...                    ...                         ...               ...   \n",
       "1776         -1.573610e+08                         0.0      0.000000e+00   \n",
       "1777         -1.840000e+08                 322000000.0      1.381000e+09   \n",
       "1778         -1.800000e+08                 277000000.0      1.071000e+09   \n",
       "1779         -2.240000e+08                 264000000.0      1.313000e+09   \n",
       "1780         -2.160000e+08                 244000000.0      1.076000e+09   \n",
       "\n",
       "      Other Operating Items  \n",
       "0              8.450000e+08  \n",
       "1              8.530000e+08  \n",
       "2              1.295000e+09  \n",
       "3              1.364000e+09  \n",
       "4              0.000000e+00  \n",
       "...                     ...  \n",
       "1776           4.928200e+07  \n",
       "1777           6.000000e+07  \n",
       "1778           6.000000e+07  \n",
       "1779           6.100000e+07  \n",
       "1780           8.500000e+07  \n",
       "\n",
       "[1781 rows x 13 columns]"
      ]
     },
     "execution_count": 14,
     "metadata": {},
     "output_type": "execute_result"
    }
   ],
   "source": [
    "dat_guncel"
   ]
  },
  {
   "cell_type": "code",
   "execution_count": 15,
   "id": "9223455f-fbd5-4a77-98d3-8fe3f0e67f7f",
   "metadata": {},
   "outputs": [],
   "source": [
    "# 12 Bağımsız 1 bağımlı değişkenle çalışacağız.\n",
    "# değişkenlerin açıklaması\n",
    "# Bağımlı Değişkenimiz Current Ratio: Kısa vadeli borçların ödenebilme kapasitesini gösteren bir likidite göstergesidir.\n",
    "# Quick Ratio: Nakit, menkul kıymetler ve alacakların kısa vadeli borçlara oranı. Likiditeyi gösterir.\n",
    "# Cash Ratio: Sadece nakit ve nakit benzerlerinin kısa vadeli borçlara oranı. En muhafazakar likidite göstergesi.\n",
    "# Interest Expense: Faiz giderleri. Şirketin borçlarından kaynaklanan faiz maliyetini gösterir.\n",
    "# Fixed Assets: Maddi duran varlıklar. Binalar, makineler, araçlar gibi uzun vadeli varlıklar.\n",
    "# Other Assets: Ana kalemlere girmeyen varlıklar. Patentler, marka değerleri gibi maddi olmayan varlıklar olabilir.\n",
    "# Total Current Liabilities: Tüm kısa vadeli borçlar. 1 yıl içinde ödenmesi gereken yükümlülükler.\n",
    "# Total Liabilities: Şirketin toplam borçları. Hem kısa hem uzun vadeli borçlar dahil.\n",
    "# Short-Term Debt / Current Portion of Long-Term Debt: Kısa vadeli borçlar ve uzun vadeli borçların bir yıl içinde ödenecek kısmı.\n",
    "# Capital Expenditures: Sermaye harcamaları. Duran varlıkların satın alınması için yapılan yatırım harcamaları.\n",
    "# Deffered Liability Charges: Ertelenmiş yükümlülük giderleri. Gelecekte gerçekleşecek ama bugünden kayda alınmış yükümlülükler.\n",
    "# Accounts Payable: Ticari borçlar. Mal ve hizmet alımlarından doğan borçlar.\n",
    "# Other Operating Items: Ana faaliyet dışı ama operasyonla ilişkili diğer kalemler."
   ]
  },
  {
   "cell_type": "code",
   "execution_count": 16,
   "id": "4968d76c-4df1-43e1-92d3-c90cf6a4db82",
   "metadata": {},
   "outputs": [
    {
     "data": {
      "text/html": [
       "<div>\n",
       "<style scoped>\n",
       "    .dataframe tbody tr th:only-of-type {\n",
       "        vertical-align: middle;\n",
       "    }\n",
       "\n",
       "    .dataframe tbody tr th {\n",
       "        vertical-align: top;\n",
       "    }\n",
       "\n",
       "    .dataframe thead th {\n",
       "        text-align: right;\n",
       "    }\n",
       "</style>\n",
       "<table border=\"1\" class=\"dataframe\">\n",
       "  <thead>\n",
       "    <tr style=\"text-align: right;\">\n",
       "      <th></th>\n",
       "      <th>Current Ratio</th>\n",
       "      <th>Quick Ratio</th>\n",
       "      <th>Cash Ratio</th>\n",
       "      <th>Interest Expense</th>\n",
       "      <th>Fixed Assets</th>\n",
       "      <th>Other Assets</th>\n",
       "      <th>Total Current Liabilities</th>\n",
       "      <th>Total Liabilities</th>\n",
       "      <th>Short-Term Debt / Current Portion of Long-Term Debt</th>\n",
       "      <th>Capital Expenditures</th>\n",
       "      <th>Deferred Liability Charges</th>\n",
       "      <th>Accounts Payable</th>\n",
       "      <th>Other Operating Items</th>\n",
       "    </tr>\n",
       "  </thead>\n",
       "  <tbody>\n",
       "    <tr>\n",
       "      <th>0</th>\n",
       "      <td>78.0</td>\n",
       "      <td>72.0</td>\n",
       "      <td>53.0</td>\n",
       "      <td>632000000.0</td>\n",
       "      <td>1.340200e+10</td>\n",
       "      <td>2.167000e+09</td>\n",
       "      <td>9.011000e+09</td>\n",
       "      <td>2.489100e+10</td>\n",
       "      <td>1.419000e+09</td>\n",
       "      <td>-1.888000e+09</td>\n",
       "      <td>223000000.0</td>\n",
       "      <td>3.068000e+09</td>\n",
       "      <td>8.450000e+08</td>\n",
       "    </tr>\n",
       "    <tr>\n",
       "      <th>1</th>\n",
       "      <td>104.0</td>\n",
       "      <td>96.0</td>\n",
       "      <td>75.0</td>\n",
       "      <td>856000000.0</td>\n",
       "      <td>1.925900e+10</td>\n",
       "      <td>2.299000e+09</td>\n",
       "      <td>1.380600e+10</td>\n",
       "      <td>4.500900e+10</td>\n",
       "      <td>1.446000e+09</td>\n",
       "      <td>-3.114000e+09</td>\n",
       "      <td>935000000.0</td>\n",
       "      <td>4.975000e+09</td>\n",
       "      <td>8.530000e+08</td>\n",
       "    </tr>\n",
       "    <tr>\n",
       "      <th>2</th>\n",
       "      <td>88.0</td>\n",
       "      <td>80.0</td>\n",
       "      <td>60.0</td>\n",
       "      <td>887000000.0</td>\n",
       "      <td>2.308400e+10</td>\n",
       "      <td>2.060000e+09</td>\n",
       "      <td>1.340400e+10</td>\n",
       "      <td>4.120400e+10</td>\n",
       "      <td>1.677000e+09</td>\n",
       "      <td>-5.311000e+09</td>\n",
       "      <td>829000000.0</td>\n",
       "      <td>4.668000e+09</td>\n",
       "      <td>1.295000e+09</td>\n",
       "    </tr>\n",
       "    <tr>\n",
       "      <th>3</th>\n",
       "      <td>73.0</td>\n",
       "      <td>67.0</td>\n",
       "      <td>51.0</td>\n",
       "      <td>880000000.0</td>\n",
       "      <td>2.751000e+10</td>\n",
       "      <td>2.103000e+09</td>\n",
       "      <td>1.360500e+10</td>\n",
       "      <td>4.278000e+10</td>\n",
       "      <td>2.231000e+09</td>\n",
       "      <td>-6.151000e+09</td>\n",
       "      <td>667000000.0</td>\n",
       "      <td>5.102000e+09</td>\n",
       "      <td>1.364000e+09</td>\n",
       "    </tr>\n",
       "    <tr>\n",
       "      <th>4</th>\n",
       "      <td>124.0</td>\n",
       "      <td>34.0</td>\n",
       "      <td>23.0</td>\n",
       "      <td>33841000.0</td>\n",
       "      <td>1.292547e+09</td>\n",
       "      <td>3.183300e+07</td>\n",
       "      <td>2.559638e+09</td>\n",
       "      <td>3.403120e+09</td>\n",
       "      <td>6.270000e+05</td>\n",
       "      <td>-2.711820e+08</td>\n",
       "      <td>0.0</td>\n",
       "      <td>2.409453e+09</td>\n",
       "      <td>0.000000e+00</td>\n",
       "    </tr>\n",
       "  </tbody>\n",
       "</table>\n",
       "</div>"
      ],
      "text/plain": [
       "   Current Ratio  Quick Ratio  Cash Ratio  Interest Expense  Fixed Assets  \\\n",
       "0           78.0         72.0        53.0       632000000.0  1.340200e+10   \n",
       "1          104.0         96.0        75.0       856000000.0  1.925900e+10   \n",
       "2           88.0         80.0        60.0       887000000.0  2.308400e+10   \n",
       "3           73.0         67.0        51.0       880000000.0  2.751000e+10   \n",
       "4          124.0         34.0        23.0        33841000.0  1.292547e+09   \n",
       "\n",
       "   Other Assets  Total Current Liabilities  Total Liabilities  \\\n",
       "0  2.167000e+09               9.011000e+09       2.489100e+10   \n",
       "1  2.299000e+09               1.380600e+10       4.500900e+10   \n",
       "2  2.060000e+09               1.340400e+10       4.120400e+10   \n",
       "3  2.103000e+09               1.360500e+10       4.278000e+10   \n",
       "4  3.183300e+07               2.559638e+09       3.403120e+09   \n",
       "\n",
       "   Short-Term Debt / Current Portion of Long-Term Debt  Capital Expenditures  \\\n",
       "0                                       1.419000e+09           -1.888000e+09   \n",
       "1                                       1.446000e+09           -3.114000e+09   \n",
       "2                                       1.677000e+09           -5.311000e+09   \n",
       "3                                       2.231000e+09           -6.151000e+09   \n",
       "4                                       6.270000e+05           -2.711820e+08   \n",
       "\n",
       "   Deferred Liability Charges  Accounts Payable  Other Operating Items  \n",
       "0                 223000000.0      3.068000e+09           8.450000e+08  \n",
       "1                 935000000.0      4.975000e+09           8.530000e+08  \n",
       "2                 829000000.0      4.668000e+09           1.295000e+09  \n",
       "3                 667000000.0      5.102000e+09           1.364000e+09  \n",
       "4                         0.0      2.409453e+09           0.000000e+00  "
      ]
     },
     "execution_count": 16,
     "metadata": {},
     "output_type": "execute_result"
    }
   ],
   "source": [
    "dat_guncel.head()"
   ]
  },
  {
   "cell_type": "code",
   "execution_count": 17,
   "id": "f45c8fb7-cfb6-4257-bce7-9bbdeb07af18",
   "metadata": {},
   "outputs": [
    {
     "data": {
      "text/plain": [
       "Current Ratio                                          float64\n",
       "Quick Ratio                                            float64\n",
       "Cash Ratio                                             float64\n",
       "Interest Expense                                       float64\n",
       "Fixed Assets                                           float64\n",
       "Other Assets                                           float64\n",
       "Total Current Liabilities                              float64\n",
       "Total Liabilities                                      float64\n",
       "Short-Term Debt / Current Portion of Long-Term Debt    float64\n",
       "Capital Expenditures                                   float64\n",
       "Deferred Liability Charges                             float64\n",
       "Accounts Payable                                       float64\n",
       "Other Operating Items                                  float64\n",
       "dtype: object"
      ]
     },
     "execution_count": 17,
     "metadata": {},
     "output_type": "execute_result"
    }
   ],
   "source": [
    "dat_guncel.dtypes"
   ]
  },
  {
   "cell_type": "code",
   "execution_count": 18,
   "id": "50dd79cc-48a2-4765-999a-1423bb882b55",
   "metadata": {},
   "outputs": [
    {
     "data": {
      "text/plain": [
       "(1781, 13)"
      ]
     },
     "execution_count": 18,
     "metadata": {},
     "output_type": "execute_result"
    }
   ],
   "source": [
    "dat_guncel.shape"
   ]
  },
  {
   "cell_type": "code",
   "execution_count": 19,
   "id": "4ce1fe13-f751-48f0-a0f1-deddcd4a1be6",
   "metadata": {},
   "outputs": [
    {
     "name": "stdout",
     "output_type": "stream",
     "text": [
      "<class 'pandas.core.frame.DataFrame'>\n",
      "RangeIndex: 1781 entries, 0 to 1780\n",
      "Data columns (total 13 columns):\n",
      " #   Column                                               Non-Null Count  Dtype  \n",
      "---  ------                                               --------------  -----  \n",
      " 0   Current Ratio                                        1482 non-null   float64\n",
      " 1   Quick Ratio                                          1482 non-null   float64\n",
      " 2   Cash Ratio                                           1482 non-null   float64\n",
      " 3   Interest Expense                                     1781 non-null   float64\n",
      " 4   Fixed Assets                                         1781 non-null   float64\n",
      " 5   Other Assets                                         1781 non-null   float64\n",
      " 6   Total Current Liabilities                            1781 non-null   float64\n",
      " 7   Total Liabilities                                    1781 non-null   float64\n",
      " 8   Short-Term Debt / Current Portion of Long-Term Debt  1781 non-null   float64\n",
      " 9   Capital Expenditures                                 1781 non-null   float64\n",
      " 10  Deferred Liability Charges                           1781 non-null   float64\n",
      " 11  Accounts Payable                                     1781 non-null   float64\n",
      " 12  Other Operating Items                                1781 non-null   float64\n",
      "dtypes: float64(13)\n",
      "memory usage: 181.0 KB\n"
     ]
    }
   ],
   "source": [
    "dat_guncel.info()"
   ]
  },
  {
   "cell_type": "code",
   "execution_count": 20,
   "id": "8c247ef9-35c4-4120-857f-688b855fe342",
   "metadata": {},
   "outputs": [
    {
     "data": {
      "text/plain": [
       "True"
      ]
     },
     "execution_count": 20,
     "metadata": {},
     "output_type": "execute_result"
    }
   ],
   "source": [
    "dat_guncel.isnull().values.any()"
   ]
  },
  {
   "cell_type": "code",
   "execution_count": 21,
   "id": "b20dc96e-7deb-4732-a1b9-2089979ca407",
   "metadata": {},
   "outputs": [],
   "source": [
    "# Görüldüğü üzere NA değerlerimiz var. Temizleyelim."
   ]
  },
  {
   "cell_type": "code",
   "execution_count": 22,
   "id": "c5e008df-4a71-4a6a-8507-9c03e5532dd1",
   "metadata": {},
   "outputs": [],
   "source": [
    "dat_tmz = dat_guncel.dropna()"
   ]
  },
  {
   "cell_type": "code",
   "execution_count": 23,
   "id": "a4f704a3-7cec-4144-84d9-a4e2ef98b085",
   "metadata": {},
   "outputs": [
    {
     "data": {
      "text/plain": [
       "False"
      ]
     },
     "execution_count": 23,
     "metadata": {},
     "output_type": "execute_result"
    }
   ],
   "source": [
    "dat_tmz.isnull().values.any()"
   ]
  },
  {
   "cell_type": "code",
   "execution_count": 24,
   "id": "3200d355-3fd6-431e-9b4c-3b3344ffdb85",
   "metadata": {},
   "outputs": [
    {
     "name": "stdout",
     "output_type": "stream",
     "text": [
      "<class 'pandas.core.frame.DataFrame'>\n",
      "Index: 1482 entries, 0 to 1780\n",
      "Data columns (total 13 columns):\n",
      " #   Column                                               Non-Null Count  Dtype  \n",
      "---  ------                                               --------------  -----  \n",
      " 0   Current Ratio                                        1482 non-null   float64\n",
      " 1   Quick Ratio                                          1482 non-null   float64\n",
      " 2   Cash Ratio                                           1482 non-null   float64\n",
      " 3   Interest Expense                                     1482 non-null   float64\n",
      " 4   Fixed Assets                                         1482 non-null   float64\n",
      " 5   Other Assets                                         1482 non-null   float64\n",
      " 6   Total Current Liabilities                            1482 non-null   float64\n",
      " 7   Total Liabilities                                    1482 non-null   float64\n",
      " 8   Short-Term Debt / Current Portion of Long-Term Debt  1482 non-null   float64\n",
      " 9   Capital Expenditures                                 1482 non-null   float64\n",
      " 10  Deferred Liability Charges                           1482 non-null   float64\n",
      " 11  Accounts Payable                                     1482 non-null   float64\n",
      " 12  Other Operating Items                                1482 non-null   float64\n",
      "dtypes: float64(13)\n",
      "memory usage: 162.1 KB\n"
     ]
    }
   ],
   "source": [
    "dat_tmz.info()"
   ]
  },
  {
   "cell_type": "code",
   "execution_count": 25,
   "id": "a60ee5d5-60b7-41ce-bc88-1e3e2e6591ee",
   "metadata": {},
   "outputs": [],
   "source": [
    "# NA'ları temizleyince 1482 gözleme düştük."
   ]
  },
  {
   "cell_type": "code",
   "execution_count": 26,
   "id": "7192461b-e56b-4f31-b0cf-037216211dc9",
   "metadata": {},
   "outputs": [
    {
     "data": {
      "text/html": [
       "<div>\n",
       "<style scoped>\n",
       "    .dataframe tbody tr th:only-of-type {\n",
       "        vertical-align: middle;\n",
       "    }\n",
       "\n",
       "    .dataframe tbody tr th {\n",
       "        vertical-align: top;\n",
       "    }\n",
       "\n",
       "    .dataframe thead th {\n",
       "        text-align: right;\n",
       "    }\n",
       "</style>\n",
       "<table border=\"1\" class=\"dataframe\">\n",
       "  <thead>\n",
       "    <tr style=\"text-align: right;\">\n",
       "      <th></th>\n",
       "      <th>Current Ratio</th>\n",
       "      <th>Quick Ratio</th>\n",
       "      <th>Cash Ratio</th>\n",
       "      <th>Interest Expense</th>\n",
       "      <th>Fixed Assets</th>\n",
       "      <th>Other Assets</th>\n",
       "      <th>Total Current Liabilities</th>\n",
       "      <th>Total Liabilities</th>\n",
       "      <th>Short-Term Debt / Current Portion of Long-Term Debt</th>\n",
       "      <th>Capital Expenditures</th>\n",
       "      <th>Deferred Liability Charges</th>\n",
       "      <th>Accounts Payable</th>\n",
       "      <th>Other Operating Items</th>\n",
       "    </tr>\n",
       "  </thead>\n",
       "  <tbody>\n",
       "    <tr>\n",
       "      <th>Current Ratio</th>\n",
       "      <td>1.000000</td>\n",
       "      <td>0.934320</td>\n",
       "      <td>0.862804</td>\n",
       "      <td>-0.232349</td>\n",
       "      <td>-0.210888</td>\n",
       "      <td>-0.176403</td>\n",
       "      <td>-0.189102</td>\n",
       "      <td>-0.192062</td>\n",
       "      <td>-0.161351</td>\n",
       "      <td>0.165252</td>\n",
       "      <td>-0.170016</td>\n",
       "      <td>-0.164236</td>\n",
       "      <td>-0.153612</td>\n",
       "    </tr>\n",
       "    <tr>\n",
       "      <th>Quick Ratio</th>\n",
       "      <td>0.934320</td>\n",
       "      <td>1.000000</td>\n",
       "      <td>0.932898</td>\n",
       "      <td>-0.195264</td>\n",
       "      <td>-0.178133</td>\n",
       "      <td>-0.137394</td>\n",
       "      <td>-0.158902</td>\n",
       "      <td>-0.144088</td>\n",
       "      <td>-0.122208</td>\n",
       "      <td>0.123267</td>\n",
       "      <td>-0.126981</td>\n",
       "      <td>-0.159642</td>\n",
       "      <td>-0.110790</td>\n",
       "    </tr>\n",
       "    <tr>\n",
       "      <th>Cash Ratio</th>\n",
       "      <td>0.862804</td>\n",
       "      <td>0.932898</td>\n",
       "      <td>1.000000</td>\n",
       "      <td>-0.163732</td>\n",
       "      <td>-0.152346</td>\n",
       "      <td>-0.127577</td>\n",
       "      <td>-0.116383</td>\n",
       "      <td>-0.129122</td>\n",
       "      <td>-0.098097</td>\n",
       "      <td>0.106233</td>\n",
       "      <td>-0.102146</td>\n",
       "      <td>-0.124794</td>\n",
       "      <td>-0.099373</td>\n",
       "    </tr>\n",
       "    <tr>\n",
       "      <th>Interest Expense</th>\n",
       "      <td>-0.232349</td>\n",
       "      <td>-0.195264</td>\n",
       "      <td>-0.163732</td>\n",
       "      <td>1.000000</td>\n",
       "      <td>0.504452</td>\n",
       "      <td>0.447123</td>\n",
       "      <td>0.373537</td>\n",
       "      <td>0.666561</td>\n",
       "      <td>0.294575</td>\n",
       "      <td>-0.440670</td>\n",
       "      <td>0.570190</td>\n",
       "      <td>0.353875</td>\n",
       "      <td>0.503774</td>\n",
       "    </tr>\n",
       "    <tr>\n",
       "      <th>Fixed Assets</th>\n",
       "      <td>-0.210888</td>\n",
       "      <td>-0.178133</td>\n",
       "      <td>-0.152346</td>\n",
       "      <td>0.504452</td>\n",
       "      <td>1.000000</td>\n",
       "      <td>0.451851</td>\n",
       "      <td>0.555757</td>\n",
       "      <td>0.727906</td>\n",
       "      <td>0.411611</td>\n",
       "      <td>-0.923370</td>\n",
       "      <td>0.827793</td>\n",
       "      <td>0.567360</td>\n",
       "      <td>0.762216</td>\n",
       "    </tr>\n",
       "    <tr>\n",
       "      <th>Other Assets</th>\n",
       "      <td>-0.176403</td>\n",
       "      <td>-0.137394</td>\n",
       "      <td>-0.127577</td>\n",
       "      <td>0.447123</td>\n",
       "      <td>0.451851</td>\n",
       "      <td>1.000000</td>\n",
       "      <td>0.427401</td>\n",
       "      <td>0.559331</td>\n",
       "      <td>0.313792</td>\n",
       "      <td>-0.386928</td>\n",
       "      <td>0.426247</td>\n",
       "      <td>0.354804</td>\n",
       "      <td>0.294553</td>\n",
       "    </tr>\n",
       "    <tr>\n",
       "      <th>Total Current Liabilities</th>\n",
       "      <td>-0.189102</td>\n",
       "      <td>-0.158902</td>\n",
       "      <td>-0.116383</td>\n",
       "      <td>0.373537</td>\n",
       "      <td>0.555757</td>\n",
       "      <td>0.427401</td>\n",
       "      <td>1.000000</td>\n",
       "      <td>0.847083</td>\n",
       "      <td>0.726760</td>\n",
       "      <td>-0.594359</td>\n",
       "      <td>0.410533</td>\n",
       "      <td>0.920040</td>\n",
       "      <td>0.318562</td>\n",
       "    </tr>\n",
       "    <tr>\n",
       "      <th>Total Liabilities</th>\n",
       "      <td>-0.192062</td>\n",
       "      <td>-0.144088</td>\n",
       "      <td>-0.129122</td>\n",
       "      <td>0.666561</td>\n",
       "      <td>0.727906</td>\n",
       "      <td>0.559331</td>\n",
       "      <td>0.847083</td>\n",
       "      <td>1.000000</td>\n",
       "      <td>0.642247</td>\n",
       "      <td>-0.738443</td>\n",
       "      <td>0.697635</td>\n",
       "      <td>0.771474</td>\n",
       "      <td>0.597246</td>\n",
       "    </tr>\n",
       "    <tr>\n",
       "      <th>Short-Term Debt / Current Portion of Long-Term Debt</th>\n",
       "      <td>-0.161351</td>\n",
       "      <td>-0.122208</td>\n",
       "      <td>-0.098097</td>\n",
       "      <td>0.294575</td>\n",
       "      <td>0.411611</td>\n",
       "      <td>0.313792</td>\n",
       "      <td>0.726760</td>\n",
       "      <td>0.642247</td>\n",
       "      <td>1.000000</td>\n",
       "      <td>-0.378957</td>\n",
       "      <td>0.281703</td>\n",
       "      <td>0.490388</td>\n",
       "      <td>0.189507</td>\n",
       "    </tr>\n",
       "    <tr>\n",
       "      <th>Capital Expenditures</th>\n",
       "      <td>0.165252</td>\n",
       "      <td>0.123267</td>\n",
       "      <td>0.106233</td>\n",
       "      <td>-0.440670</td>\n",
       "      <td>-0.923370</td>\n",
       "      <td>-0.386928</td>\n",
       "      <td>-0.594359</td>\n",
       "      <td>-0.738443</td>\n",
       "      <td>-0.378957</td>\n",
       "      <td>1.000000</td>\n",
       "      <td>-0.807209</td>\n",
       "      <td>-0.608823</td>\n",
       "      <td>-0.790479</td>\n",
       "    </tr>\n",
       "    <tr>\n",
       "      <th>Deferred Liability Charges</th>\n",
       "      <td>-0.170016</td>\n",
       "      <td>-0.126981</td>\n",
       "      <td>-0.102146</td>\n",
       "      <td>0.570190</td>\n",
       "      <td>0.827793</td>\n",
       "      <td>0.426247</td>\n",
       "      <td>0.410533</td>\n",
       "      <td>0.697635</td>\n",
       "      <td>0.281703</td>\n",
       "      <td>-0.807209</td>\n",
       "      <td>1.000000</td>\n",
       "      <td>0.402968</td>\n",
       "      <td>0.813107</td>\n",
       "    </tr>\n",
       "    <tr>\n",
       "      <th>Accounts Payable</th>\n",
       "      <td>-0.164236</td>\n",
       "      <td>-0.159642</td>\n",
       "      <td>-0.124794</td>\n",
       "      <td>0.353875</td>\n",
       "      <td>0.567360</td>\n",
       "      <td>0.354804</td>\n",
       "      <td>0.920040</td>\n",
       "      <td>0.771474</td>\n",
       "      <td>0.490388</td>\n",
       "      <td>-0.608823</td>\n",
       "      <td>0.402968</td>\n",
       "      <td>1.000000</td>\n",
       "      <td>0.335867</td>\n",
       "    </tr>\n",
       "    <tr>\n",
       "      <th>Other Operating Items</th>\n",
       "      <td>-0.153612</td>\n",
       "      <td>-0.110790</td>\n",
       "      <td>-0.099373</td>\n",
       "      <td>0.503774</td>\n",
       "      <td>0.762216</td>\n",
       "      <td>0.294553</td>\n",
       "      <td>0.318562</td>\n",
       "      <td>0.597246</td>\n",
       "      <td>0.189507</td>\n",
       "      <td>-0.790479</td>\n",
       "      <td>0.813107</td>\n",
       "      <td>0.335867</td>\n",
       "      <td>1.000000</td>\n",
       "    </tr>\n",
       "  </tbody>\n",
       "</table>\n",
       "</div>"
      ],
      "text/plain": [
       "                                                    Current Ratio  \\\n",
       "Current Ratio                                            1.000000   \n",
       "Quick Ratio                                              0.934320   \n",
       "Cash Ratio                                               0.862804   \n",
       "Interest Expense                                        -0.232349   \n",
       "Fixed Assets                                            -0.210888   \n",
       "Other Assets                                            -0.176403   \n",
       "Total Current Liabilities                               -0.189102   \n",
       "Total Liabilities                                       -0.192062   \n",
       "Short-Term Debt / Current Portion of Long-Term ...      -0.161351   \n",
       "Capital Expenditures                                     0.165252   \n",
       "Deferred Liability Charges                              -0.170016   \n",
       "Accounts Payable                                        -0.164236   \n",
       "Other Operating Items                                   -0.153612   \n",
       "\n",
       "                                                    Quick Ratio  Cash Ratio  \\\n",
       "Current Ratio                                          0.934320    0.862804   \n",
       "Quick Ratio                                            1.000000    0.932898   \n",
       "Cash Ratio                                             0.932898    1.000000   \n",
       "Interest Expense                                      -0.195264   -0.163732   \n",
       "Fixed Assets                                          -0.178133   -0.152346   \n",
       "Other Assets                                          -0.137394   -0.127577   \n",
       "Total Current Liabilities                             -0.158902   -0.116383   \n",
       "Total Liabilities                                     -0.144088   -0.129122   \n",
       "Short-Term Debt / Current Portion of Long-Term ...    -0.122208   -0.098097   \n",
       "Capital Expenditures                                   0.123267    0.106233   \n",
       "Deferred Liability Charges                            -0.126981   -0.102146   \n",
       "Accounts Payable                                      -0.159642   -0.124794   \n",
       "Other Operating Items                                 -0.110790   -0.099373   \n",
       "\n",
       "                                                    Interest Expense  \\\n",
       "Current Ratio                                              -0.232349   \n",
       "Quick Ratio                                                -0.195264   \n",
       "Cash Ratio                                                 -0.163732   \n",
       "Interest Expense                                            1.000000   \n",
       "Fixed Assets                                                0.504452   \n",
       "Other Assets                                                0.447123   \n",
       "Total Current Liabilities                                   0.373537   \n",
       "Total Liabilities                                           0.666561   \n",
       "Short-Term Debt / Current Portion of Long-Term ...          0.294575   \n",
       "Capital Expenditures                                       -0.440670   \n",
       "Deferred Liability Charges                                  0.570190   \n",
       "Accounts Payable                                            0.353875   \n",
       "Other Operating Items                                       0.503774   \n",
       "\n",
       "                                                    Fixed Assets  \\\n",
       "Current Ratio                                          -0.210888   \n",
       "Quick Ratio                                            -0.178133   \n",
       "Cash Ratio                                             -0.152346   \n",
       "Interest Expense                                        0.504452   \n",
       "Fixed Assets                                            1.000000   \n",
       "Other Assets                                            0.451851   \n",
       "Total Current Liabilities                               0.555757   \n",
       "Total Liabilities                                       0.727906   \n",
       "Short-Term Debt / Current Portion of Long-Term ...      0.411611   \n",
       "Capital Expenditures                                   -0.923370   \n",
       "Deferred Liability Charges                              0.827793   \n",
       "Accounts Payable                                        0.567360   \n",
       "Other Operating Items                                   0.762216   \n",
       "\n",
       "                                                    Other Assets  \\\n",
       "Current Ratio                                          -0.176403   \n",
       "Quick Ratio                                            -0.137394   \n",
       "Cash Ratio                                             -0.127577   \n",
       "Interest Expense                                        0.447123   \n",
       "Fixed Assets                                            0.451851   \n",
       "Other Assets                                            1.000000   \n",
       "Total Current Liabilities                               0.427401   \n",
       "Total Liabilities                                       0.559331   \n",
       "Short-Term Debt / Current Portion of Long-Term ...      0.313792   \n",
       "Capital Expenditures                                   -0.386928   \n",
       "Deferred Liability Charges                              0.426247   \n",
       "Accounts Payable                                        0.354804   \n",
       "Other Operating Items                                   0.294553   \n",
       "\n",
       "                                                    Total Current Liabilities  \\\n",
       "Current Ratio                                                       -0.189102   \n",
       "Quick Ratio                                                         -0.158902   \n",
       "Cash Ratio                                                          -0.116383   \n",
       "Interest Expense                                                     0.373537   \n",
       "Fixed Assets                                                         0.555757   \n",
       "Other Assets                                                         0.427401   \n",
       "Total Current Liabilities                                            1.000000   \n",
       "Total Liabilities                                                    0.847083   \n",
       "Short-Term Debt / Current Portion of Long-Term ...                   0.726760   \n",
       "Capital Expenditures                                                -0.594359   \n",
       "Deferred Liability Charges                                           0.410533   \n",
       "Accounts Payable                                                     0.920040   \n",
       "Other Operating Items                                                0.318562   \n",
       "\n",
       "                                                    Total Liabilities  \\\n",
       "Current Ratio                                               -0.192062   \n",
       "Quick Ratio                                                 -0.144088   \n",
       "Cash Ratio                                                  -0.129122   \n",
       "Interest Expense                                             0.666561   \n",
       "Fixed Assets                                                 0.727906   \n",
       "Other Assets                                                 0.559331   \n",
       "Total Current Liabilities                                    0.847083   \n",
       "Total Liabilities                                            1.000000   \n",
       "Short-Term Debt / Current Portion of Long-Term ...           0.642247   \n",
       "Capital Expenditures                                        -0.738443   \n",
       "Deferred Liability Charges                                   0.697635   \n",
       "Accounts Payable                                             0.771474   \n",
       "Other Operating Items                                        0.597246   \n",
       "\n",
       "                                                    Short-Term Debt / Current Portion of Long-Term Debt  \\\n",
       "Current Ratio                                                                               -0.161351     \n",
       "Quick Ratio                                                                                 -0.122208     \n",
       "Cash Ratio                                                                                  -0.098097     \n",
       "Interest Expense                                                                             0.294575     \n",
       "Fixed Assets                                                                                 0.411611     \n",
       "Other Assets                                                                                 0.313792     \n",
       "Total Current Liabilities                                                                    0.726760     \n",
       "Total Liabilities                                                                            0.642247     \n",
       "Short-Term Debt / Current Portion of Long-Term ...                                           1.000000     \n",
       "Capital Expenditures                                                                        -0.378957     \n",
       "Deferred Liability Charges                                                                   0.281703     \n",
       "Accounts Payable                                                                             0.490388     \n",
       "Other Operating Items                                                                        0.189507     \n",
       "\n",
       "                                                    Capital Expenditures  \\\n",
       "Current Ratio                                                   0.165252   \n",
       "Quick Ratio                                                     0.123267   \n",
       "Cash Ratio                                                      0.106233   \n",
       "Interest Expense                                               -0.440670   \n",
       "Fixed Assets                                                   -0.923370   \n",
       "Other Assets                                                   -0.386928   \n",
       "Total Current Liabilities                                      -0.594359   \n",
       "Total Liabilities                                              -0.738443   \n",
       "Short-Term Debt / Current Portion of Long-Term ...             -0.378957   \n",
       "Capital Expenditures                                            1.000000   \n",
       "Deferred Liability Charges                                     -0.807209   \n",
       "Accounts Payable                                               -0.608823   \n",
       "Other Operating Items                                          -0.790479   \n",
       "\n",
       "                                                    Deferred Liability Charges  \\\n",
       "Current Ratio                                                        -0.170016   \n",
       "Quick Ratio                                                          -0.126981   \n",
       "Cash Ratio                                                           -0.102146   \n",
       "Interest Expense                                                      0.570190   \n",
       "Fixed Assets                                                          0.827793   \n",
       "Other Assets                                                          0.426247   \n",
       "Total Current Liabilities                                             0.410533   \n",
       "Total Liabilities                                                     0.697635   \n",
       "Short-Term Debt / Current Portion of Long-Term ...                    0.281703   \n",
       "Capital Expenditures                                                 -0.807209   \n",
       "Deferred Liability Charges                                            1.000000   \n",
       "Accounts Payable                                                      0.402968   \n",
       "Other Operating Items                                                 0.813107   \n",
       "\n",
       "                                                    Accounts Payable  \\\n",
       "Current Ratio                                              -0.164236   \n",
       "Quick Ratio                                                -0.159642   \n",
       "Cash Ratio                                                 -0.124794   \n",
       "Interest Expense                                            0.353875   \n",
       "Fixed Assets                                                0.567360   \n",
       "Other Assets                                                0.354804   \n",
       "Total Current Liabilities                                   0.920040   \n",
       "Total Liabilities                                           0.771474   \n",
       "Short-Term Debt / Current Portion of Long-Term ...          0.490388   \n",
       "Capital Expenditures                                       -0.608823   \n",
       "Deferred Liability Charges                                  0.402968   \n",
       "Accounts Payable                                            1.000000   \n",
       "Other Operating Items                                       0.335867   \n",
       "\n",
       "                                                    Other Operating Items  \n",
       "Current Ratio                                                   -0.153612  \n",
       "Quick Ratio                                                     -0.110790  \n",
       "Cash Ratio                                                      -0.099373  \n",
       "Interest Expense                                                 0.503774  \n",
       "Fixed Assets                                                     0.762216  \n",
       "Other Assets                                                     0.294553  \n",
       "Total Current Liabilities                                        0.318562  \n",
       "Total Liabilities                                                0.597246  \n",
       "Short-Term Debt / Current Portion of Long-Term ...               0.189507  \n",
       "Capital Expenditures                                            -0.790479  \n",
       "Deferred Liability Charges                                       0.813107  \n",
       "Accounts Payable                                                 0.335867  \n",
       "Other Operating Items                                            1.000000  "
      ]
     },
     "execution_count": 26,
     "metadata": {},
     "output_type": "execute_result"
    }
   ],
   "source": [
    "dat_tmz.corr()"
   ]
  },
  {
   "cell_type": "code",
   "execution_count": 27,
   "id": "2fc4ecd4-9e39-4f22-92d5-632f688edbc8",
   "metadata": {},
   "outputs": [],
   "source": [
    "# EN KÜÇÜK KARELER YÖNTEMİ"
   ]
  },
  {
   "cell_type": "code",
   "execution_count": 28,
   "id": "30e4b324-9a9b-4b1f-9542-296651437b9a",
   "metadata": {},
   "outputs": [],
   "source": [
    "y = dat_tmz['Current Ratio']\n",
    "x = dat_tmz.drop('Current Ratio', axis=1)"
   ]
  },
  {
   "cell_type": "code",
   "execution_count": 29,
   "id": "e53083ef-e10b-4259-a704-73364dd5a24b",
   "metadata": {},
   "outputs": [],
   "source": [
    "import statsmodels.formula.api as smf"
   ]
  },
  {
   "cell_type": "code",
   "execution_count": 30,
   "id": "797fe802-79e5-43fd-8d44-389773891e03",
   "metadata": {},
   "outputs": [],
   "source": [
    "dat_tmz = dat_tmz.rename(columns={\n",
    "     \"Current Ratio\": \"Current_Ratio\",\n",
    "     \"Quick Ratio\": \"Quick_Ratio\",\n",
    "     \"Cash Ratio\": \"Cash_Ratio\",\n",
    "     \"Interest Expense\": \"Interest_Expense\",\n",
    "     \"Fixed Assets\": \"Fixed_Assets\",\n",
    "     \"Other Assets\": \"Other_Assets\",\n",
    "     \"Total Current Liabilities\": \"Total_Current_Liabilities\",\n",
    "     \"Total Liabilities\": \"Total_Liabilities\",\n",
    "     \"Short-Term Debt / Current Portion of Long-Term Debt\": \"Short_Term_Debt_Current_Portion_of_Long_Term_Debt\",\n",
    "     \"Capital Expenditures\": \"Capital_Expenditures\",\n",
    "     \"Deferred Liability Charges\": \"Deferred_Liability_Charges\",\n",
    "     \"Accounts Payable\": \"Accounts_Payable\",\n",
    "     \"Other Operating Items\": \"Other_Operating_Items\"\n",
    " })\n",
    " "
   ]
  },
  {
   "cell_type": "code",
   "execution_count": 31,
   "id": "5f2db196-304a-47d0-8e8f-49e707c4e7bf",
   "metadata": {},
   "outputs": [],
   "source": [
    "model = smf.ols(\"Current_Ratio ~ Quick_Ratio + Cash_Ratio + Interest_Expense + Fixed_Assets + Other_Assets + Total_Current_Liabilities + Total_Liabilities + Short_Term_Debt_Current_Portion_of_Long_Term_Debt + Capital_Expenditures + Deferred_Liability_Charges + Accounts_Payable + Other_Operating_Items \",\n",
    "                data=dat_tmz)"
   ]
  },
  {
   "cell_type": "code",
   "execution_count": 32,
   "id": "e40b1629-b5d0-4c38-ad40-5c7098ec5b83",
   "metadata": {},
   "outputs": [],
   "source": [
    "mod1=model.fit()"
   ]
  },
  {
   "cell_type": "code",
   "execution_count": 33,
   "id": "db3b8a71-5aca-4c14-9bcd-9cb91681915f",
   "metadata": {},
   "outputs": [
    {
     "data": {
      "text/html": [
       "<table class=\"simpletable\">\n",
       "<caption>OLS Regression Results</caption>\n",
       "<tr>\n",
       "  <th>Dep. Variable:</th>      <td>Current_Ratio</td>  <th>  R-squared:         </th> <td>   0.882</td> \n",
       "</tr>\n",
       "<tr>\n",
       "  <th>Model:</th>                   <td>OLS</td>       <th>  Adj. R-squared:    </th> <td>   0.881</td> \n",
       "</tr>\n",
       "<tr>\n",
       "  <th>Method:</th>             <td>Least Squares</td>  <th>  F-statistic:       </th> <td>   912.3</td> \n",
       "</tr>\n",
       "<tr>\n",
       "  <th>Date:</th>             <td>Fri, 18 Apr 2025</td> <th>  Prob (F-statistic):</th>  <td>  0.00</td>  \n",
       "</tr>\n",
       "<tr>\n",
       "  <th>Time:</th>                 <td>15:32:43</td>     <th>  Log-Likelihood:    </th> <td> -7712.2</td> \n",
       "</tr>\n",
       "<tr>\n",
       "  <th>No. Observations:</th>      <td>  1482</td>      <th>  AIC:               </th> <td>1.545e+04</td>\n",
       "</tr>\n",
       "<tr>\n",
       "  <th>Df Residuals:</th>          <td>  1469</td>      <th>  BIC:               </th> <td>1.552e+04</td>\n",
       "</tr>\n",
       "<tr>\n",
       "  <th>Df Model:</th>              <td>    12</td>      <th>                     </th>     <td> </td>    \n",
       "</tr>\n",
       "<tr>\n",
       "  <th>Covariance Type:</th>      <td>nonrobust</td>    <th>                     </th>     <td> </td>    \n",
       "</tr>\n",
       "</table>\n",
       "<table class=\"simpletable\">\n",
       "<tr>\n",
       "                          <td></td>                             <th>coef</th>     <th>std err</th>      <th>t</th>      <th>P>|t|</th>  <th>[0.025</th>    <th>0.975]</th>  \n",
       "</tr>\n",
       "<tr>\n",
       "  <th>Intercept</th>                                         <td>   42.4969</td> <td>    2.718</td> <td>   15.634</td> <td> 0.000</td> <td>   37.165</td> <td>   47.829</td>\n",
       "</tr>\n",
       "<tr>\n",
       "  <th>Quick_Ratio</th>                                       <td>    1.0543</td> <td>    0.029</td> <td>   36.953</td> <td> 0.000</td> <td>    0.998</td> <td>    1.110</td>\n",
       "</tr>\n",
       "<tr>\n",
       "  <th>Cash_Ratio</th>                                        <td>   -0.0680</td> <td>    0.032</td> <td>   -2.095</td> <td> 0.036</td> <td>   -0.132</td> <td>   -0.004</td>\n",
       "</tr>\n",
       "<tr>\n",
       "  <th>Interest_Expense</th>                                  <td>-8.937e-09</td> <td> 4.59e-09</td> <td>   -1.946</td> <td> 0.052</td> <td>-1.79e-08</td> <td> 7.24e-11</td>\n",
       "</tr>\n",
       "<tr>\n",
       "  <th>Fixed_Assets</th>                                      <td> 2.083e-10</td> <td>  1.7e-10</td> <td>    1.222</td> <td> 0.222</td> <td>-1.26e-10</td> <td> 5.43e-10</td>\n",
       "</tr>\n",
       "<tr>\n",
       "  <th>Other_Assets</th>                                      <td> -9.65e-10</td> <td> 6.39e-10</td> <td>   -1.511</td> <td> 0.131</td> <td>-2.22e-09</td> <td> 2.88e-10</td>\n",
       "</tr>\n",
       "<tr>\n",
       "  <th>Total_Current_Liabilities</th>                         <td>-2.385e-09</td> <td> 5.97e-10</td> <td>   -3.993</td> <td> 0.000</td> <td>-3.56e-09</td> <td>-1.21e-09</td>\n",
       "</tr>\n",
       "<tr>\n",
       "  <th>Total_Liabilities</th>                                 <td> 7.982e-12</td> <td>  1.5e-10</td> <td>    0.053</td> <td> 0.958</td> <td>-2.87e-10</td> <td> 3.03e-10</td>\n",
       "</tr>\n",
       "<tr>\n",
       "  <th>Short_Term_Debt_Current_Portion_of_Long_Term_Debt</th> <td> 1.058e-09</td> <td> 8.27e-10</td> <td>    1.279</td> <td> 0.201</td> <td>-5.64e-10</td> <td> 2.68e-09</td>\n",
       "</tr>\n",
       "<tr>\n",
       "  <th>Capital_Expenditures</th>                              <td> 2.431e-09</td> <td> 1.14e-09</td> <td>    2.137</td> <td> 0.033</td> <td> 1.99e-10</td> <td> 4.66e-09</td>\n",
       "</tr>\n",
       "<tr>\n",
       "  <th>Deferred_Liability_Charges</th>                        <td> 1.441e-10</td> <td>  5.4e-10</td> <td>    0.267</td> <td> 0.790</td> <td>-9.15e-10</td> <td>  1.2e-09</td>\n",
       "</tr>\n",
       "<tr>\n",
       "  <th>Accounts_Payable</th>                                  <td>  3.21e-09</td> <td> 5.77e-10</td> <td>    5.559</td> <td> 0.000</td> <td> 2.08e-09</td> <td> 4.34e-09</td>\n",
       "</tr>\n",
       "<tr>\n",
       "  <th>Other_Operating_Items</th>                             <td>-1.262e-09</td> <td> 1.11e-09</td> <td>   -1.136</td> <td> 0.256</td> <td>-3.44e-09</td> <td> 9.18e-10</td>\n",
       "</tr>\n",
       "</table>\n",
       "<table class=\"simpletable\">\n",
       "<tr>\n",
       "  <th>Omnibus:</th>       <td>790.838</td> <th>  Durbin-Watson:     </th> <td>   0.591</td>\n",
       "</tr>\n",
       "<tr>\n",
       "  <th>Prob(Omnibus):</th> <td> 0.000</td>  <th>  Jarque-Bera (JB):  </th> <td>7099.436</td>\n",
       "</tr>\n",
       "<tr>\n",
       "  <th>Skew:</th>          <td> 2.334</td>  <th>  Prob(JB):          </th> <td>    0.00</td>\n",
       "</tr>\n",
       "<tr>\n",
       "  <th>Kurtosis:</th>      <td>12.653</td>  <th>  Cond. No.          </th> <td>9.61e+10</td>\n",
       "</tr>\n",
       "</table><br/><br/>Notes:<br/>[1] Standard Errors assume that the covariance matrix of the errors is correctly specified.<br/>[2] The condition number is large, 9.61e+10. This might indicate that there are<br/>strong multicollinearity or other numerical problems."
      ],
      "text/latex": [
       "\\begin{center}\n",
       "\\begin{tabular}{lclc}\n",
       "\\toprule\n",
       "\\textbf{Dep. Variable:}                                            &  Current\\_Ratio  & \\textbf{  R-squared:         } &     0.882   \\\\\n",
       "\\textbf{Model:}                                                    &       OLS        & \\textbf{  Adj. R-squared:    } &     0.881   \\\\\n",
       "\\textbf{Method:}                                                   &  Least Squares   & \\textbf{  F-statistic:       } &     912.3   \\\\\n",
       "\\textbf{Date:}                                                     & Fri, 18 Apr 2025 & \\textbf{  Prob (F-statistic):} &     0.00    \\\\\n",
       "\\textbf{Time:}                                                     &     15:32:43     & \\textbf{  Log-Likelihood:    } &   -7712.2   \\\\\n",
       "\\textbf{No. Observations:}                                         &        1482      & \\textbf{  AIC:               } & 1.545e+04   \\\\\n",
       "\\textbf{Df Residuals:}                                             &        1469      & \\textbf{  BIC:               } & 1.552e+04   \\\\\n",
       "\\textbf{Df Model:}                                                 &          12      & \\textbf{                     } &             \\\\\n",
       "\\textbf{Covariance Type:}                                          &    nonrobust     & \\textbf{                     } &             \\\\\n",
       "\\bottomrule\n",
       "\\end{tabular}\n",
       "\\begin{tabular}{lcccccc}\n",
       "                                                                   & \\textbf{coef} & \\textbf{std err} & \\textbf{t} & \\textbf{P$> |$t$|$} & \\textbf{[0.025} & \\textbf{0.975]}  \\\\\n",
       "\\midrule\n",
       "\\textbf{Intercept}                                                 &      42.4969  &        2.718     &    15.634  &         0.000        &       37.165    &       47.829     \\\\\n",
       "\\textbf{Quick\\_Ratio}                                              &       1.0543  &        0.029     &    36.953  &         0.000        &        0.998    &        1.110     \\\\\n",
       "\\textbf{Cash\\_Ratio}                                               &      -0.0680  &        0.032     &    -2.095  &         0.036        &       -0.132    &       -0.004     \\\\\n",
       "\\textbf{Interest\\_Expense}                                         &   -8.937e-09  &     4.59e-09     &    -1.946  &         0.052        &    -1.79e-08    &     7.24e-11     \\\\\n",
       "\\textbf{Fixed\\_Assets}                                             &    2.083e-10  &      1.7e-10     &     1.222  &         0.222        &    -1.26e-10    &     5.43e-10     \\\\\n",
       "\\textbf{Other\\_Assets}                                             &    -9.65e-10  &     6.39e-10     &    -1.511  &         0.131        &    -2.22e-09    &     2.88e-10     \\\\\n",
       "\\textbf{Total\\_Current\\_Liabilities}                               &   -2.385e-09  &     5.97e-10     &    -3.993  &         0.000        &    -3.56e-09    &    -1.21e-09     \\\\\n",
       "\\textbf{Total\\_Liabilities}                                        &    7.982e-12  &      1.5e-10     &     0.053  &         0.958        &    -2.87e-10    &     3.03e-10     \\\\\n",
       "\\textbf{Short\\_Term\\_Debt\\_Current\\_Portion\\_of\\_Long\\_Term\\_Debt} &    1.058e-09  &     8.27e-10     &     1.279  &         0.201        &    -5.64e-10    &     2.68e-09     \\\\\n",
       "\\textbf{Capital\\_Expenditures}                                     &    2.431e-09  &     1.14e-09     &     2.137  &         0.033        &     1.99e-10    &     4.66e-09     \\\\\n",
       "\\textbf{Deferred\\_Liability\\_Charges}                              &    1.441e-10  &      5.4e-10     &     0.267  &         0.790        &    -9.15e-10    &      1.2e-09     \\\\\n",
       "\\textbf{Accounts\\_Payable}                                         &     3.21e-09  &     5.77e-10     &     5.559  &         0.000        &     2.08e-09    &     4.34e-09     \\\\\n",
       "\\textbf{Other\\_Operating\\_Items}                                   &   -1.262e-09  &     1.11e-09     &    -1.136  &         0.256        &    -3.44e-09    &     9.18e-10     \\\\\n",
       "\\bottomrule\n",
       "\\end{tabular}\n",
       "\\begin{tabular}{lclc}\n",
       "\\textbf{Omnibus:}       & 790.838 & \\textbf{  Durbin-Watson:     } &    0.591  \\\\\n",
       "\\textbf{Prob(Omnibus):} &   0.000 & \\textbf{  Jarque-Bera (JB):  } & 7099.436  \\\\\n",
       "\\textbf{Skew:}          &   2.334 & \\textbf{  Prob(JB):          } &     0.00  \\\\\n",
       "\\textbf{Kurtosis:}      &  12.653 & \\textbf{  Cond. No.          } & 9.61e+10  \\\\\n",
       "\\bottomrule\n",
       "\\end{tabular}\n",
       "%\\caption{OLS Regression Results}\n",
       "\\end{center}\n",
       "\n",
       "Notes: \\newline\n",
       " [1] Standard Errors assume that the covariance matrix of the errors is correctly specified. \\newline\n",
       " [2] The condition number is large, 9.61e+10. This might indicate that there are \\newline\n",
       " strong multicollinearity or other numerical problems."
      ],
      "text/plain": [
       "<class 'statsmodels.iolib.summary.Summary'>\n",
       "\"\"\"\n",
       "                            OLS Regression Results                            \n",
       "==============================================================================\n",
       "Dep. Variable:          Current_Ratio   R-squared:                       0.882\n",
       "Model:                            OLS   Adj. R-squared:                  0.881\n",
       "Method:                 Least Squares   F-statistic:                     912.3\n",
       "Date:                Fri, 18 Apr 2025   Prob (F-statistic):               0.00\n",
       "Time:                        15:32:43   Log-Likelihood:                -7712.2\n",
       "No. Observations:                1482   AIC:                         1.545e+04\n",
       "Df Residuals:                    1469   BIC:                         1.552e+04\n",
       "Df Model:                          12                                         \n",
       "Covariance Type:            nonrobust                                         \n",
       "=====================================================================================================================\n",
       "                                                        coef    std err          t      P>|t|      [0.025      0.975]\n",
       "---------------------------------------------------------------------------------------------------------------------\n",
       "Intercept                                            42.4969      2.718     15.634      0.000      37.165      47.829\n",
       "Quick_Ratio                                           1.0543      0.029     36.953      0.000       0.998       1.110\n",
       "Cash_Ratio                                           -0.0680      0.032     -2.095      0.036      -0.132      -0.004\n",
       "Interest_Expense                                  -8.937e-09   4.59e-09     -1.946      0.052   -1.79e-08    7.24e-11\n",
       "Fixed_Assets                                       2.083e-10    1.7e-10      1.222      0.222   -1.26e-10    5.43e-10\n",
       "Other_Assets                                       -9.65e-10   6.39e-10     -1.511      0.131   -2.22e-09    2.88e-10\n",
       "Total_Current_Liabilities                         -2.385e-09   5.97e-10     -3.993      0.000   -3.56e-09   -1.21e-09\n",
       "Total_Liabilities                                  7.982e-12    1.5e-10      0.053      0.958   -2.87e-10    3.03e-10\n",
       "Short_Term_Debt_Current_Portion_of_Long_Term_Debt  1.058e-09   8.27e-10      1.279      0.201   -5.64e-10    2.68e-09\n",
       "Capital_Expenditures                               2.431e-09   1.14e-09      2.137      0.033    1.99e-10    4.66e-09\n",
       "Deferred_Liability_Charges                         1.441e-10    5.4e-10      0.267      0.790   -9.15e-10     1.2e-09\n",
       "Accounts_Payable                                    3.21e-09   5.77e-10      5.559      0.000    2.08e-09    4.34e-09\n",
       "Other_Operating_Items                             -1.262e-09   1.11e-09     -1.136      0.256   -3.44e-09    9.18e-10\n",
       "==============================================================================\n",
       "Omnibus:                      790.838   Durbin-Watson:                   0.591\n",
       "Prob(Omnibus):                  0.000   Jarque-Bera (JB):             7099.436\n",
       "Skew:                           2.334   Prob(JB):                         0.00\n",
       "Kurtosis:                      12.653   Cond. No.                     9.61e+10\n",
       "==============================================================================\n",
       "\n",
       "Notes:\n",
       "[1] Standard Errors assume that the covariance matrix of the errors is correctly specified.\n",
       "[2] The condition number is large, 9.61e+10. This might indicate that there are\n",
       "strong multicollinearity or other numerical problems.\n",
       "\"\"\""
      ]
     },
     "execution_count": 33,
     "metadata": {},
     "output_type": "execute_result"
    }
   ],
   "source": [
    "mod1.summary()"
   ]
  },
  {
   "cell_type": "code",
   "execution_count": 34,
   "id": "82ffee4e-e09c-4616-ba66-1145800601e2",
   "metadata": {},
   "outputs": [],
   "source": [
    "y_hat0 = mod1.fittedvalues # Tahminler"
   ]
  },
  {
   "cell_type": "code",
   "execution_count": 35,
   "id": "2967e327-6bd2-4946-82fd-0f2a501c2659",
   "metadata": {},
   "outputs": [
    {
     "data": {
      "text/plain": [
       "0        94.281379\n",
       "1       109.162966\n",
       "2        88.339043\n",
       "3        75.548510\n",
       "4        77.710401\n",
       "           ...    \n",
       "1772    264.713291\n",
       "1777    193.340638\n",
       "1778    247.448054\n",
       "1779    177.276986\n",
       "1780    215.222683\n",
       "Length: 1482, dtype: float64"
      ]
     },
     "execution_count": 35,
     "metadata": {},
     "output_type": "execute_result"
    }
   ],
   "source": [
    "y_hat0"
   ]
  },
  {
   "cell_type": "code",
   "execution_count": 36,
   "id": "836bf502-0494-438c-a9ce-c207e49c65ca",
   "metadata": {},
   "outputs": [
    {
     "name": "stdout",
     "output_type": "stream",
     "text": [
      "MSE: 1939.0900340487576\n",
      "R^2: 0.8816909428102331\n",
      "RMSE: 44.03510002314923\n",
      "MAPE: 0.20788061679528363\n"
     ]
    }
   ],
   "source": [
    "# Performans metrikleri\n",
    "print(\"MSE:\", mean_squared_error(y, y_hat0))\n",
    "print(\"R^2:\", r2_score(y, y_hat0))\n",
    "print(\"RMSE:\", np.sqrt(mean_squared_error(y, y_hat0)))\n",
    "print(\"MAPE:\", mean_absolute_percentage_error(y, y_hat0))"
   ]
  },
  {
   "cell_type": "code",
   "execution_count": 37,
   "id": "48edf3f0-5f08-4dc9-a2c6-026d0a9a3537",
   "metadata": {},
   "outputs": [
    {
     "data": {
      "text/plain": [
       "<Axes: xlabel='Current Ratio'>"
      ]
     },
     "execution_count": 37,
     "metadata": {},
     "output_type": "execute_result"
    },
    {
     "data": {
      "text/plain": [
       "Text(0.5, 0, 'Gerçek Current Ratio')"
      ]
     },
     "execution_count": 37,
     "metadata": {},
     "output_type": "execute_result"
    },
    {
     "data": {
      "text/plain": [
       "Text(0, 0.5, 'Tahmin Edilen Current Ratio')"
      ]
     },
     "execution_count": 37,
     "metadata": {},
     "output_type": "execute_result"
    },
    {
     "data": {
      "text/plain": [
       "Text(0.5, 1.0, 'Gerçek vs Tahmin Edilen Current Ratio')"
      ]
     },
     "execution_count": 37,
     "metadata": {},
     "output_type": "execute_result"
    },
    {
     "data": {
      "image/png": "[encoded data removed]",
      "text/plain": [
       "<Figure size 640x480 with 1 Axes>"
      ]
     },
     "metadata": {},
     "output_type": "display_data"
    }
   ],
   "source": [
    "# Grafik\n",
    "sbn.regplot(x=y, y=y_hat0, line_kws={\"color\": \"red\"})\n",
    "plt.xlabel(\"Gerçek Current Ratio\")\n",
    "plt.ylabel(\"Tahmin Edilen Current Ratio\")\n",
    "plt.title(\"Gerçek vs Tahmin Edilen Current Ratio\")\n",
    "plt.show()"
   ]
  },
  {
   "cell_type": "code",
   "execution_count": 38,
   "id": "36b88247-0425-4902-905c-e7c149f9d176",
   "metadata": {},
   "outputs": [],
   "source": [
    "# Modelin Açıklayıcı Gücü: Modelin R-squared değeri 0.882 olup, bağımlı değişken (Current_Ratio) varyansının %88.2'sini açıklayabilmektedir.\n",
    "# Düzeltilmiş R-squared değeri ise 0.881'dir, bu da modelin yüksek açıklayıcılığa sahip olduğunu gösterir."
   ]
  },
  {
   "cell_type": "code",
   "execution_count": 39,
   "id": "7ed9b51b-28c3-4ed2-8b49-b3dd63ca64cc",
   "metadata": {},
   "outputs": [],
   "source": [
    "# Anlamlı Değişkenler:\n",
    "\n",
    "# Quick_Ratio: Pozitif yönlü ve oldukça anlamlı bir etkiye sahiptir (p < 0.001). Current_Ratio üzerinde en güçlü belirleyicidir.\n",
    "\n",
    "# Cash_Ratio: Negatif yönlü ve istatistiksel olarak anlamlıdır (p = 0.036), yani nakit oranı arttıkça Current_Ratio düşme eğilimindedir.\n",
    "\n",
    "# Total_Current_Liabilities: Negatif etkiye sahip ve çok anlamlıdır (p < 0.001), kısa vadeli yükümlülüklerin artışı Current_Ratio'yu düşürür.\n",
    "\n",
    "# Accounts_Payable: Pozitif ve çok anlamlıdır (p < 0.001), tedarikçilere olan borçlar Current_Ratio'yu artırır."
   ]
  },
  {
   "cell_type": "code",
   "execution_count": 40,
   "id": "9832395d-5be4-4437-b91e-9f89fe07c02e",
   "metadata": {},
   "outputs": [],
   "source": [
    "# Sınırda Anlamlı Değişkenler:\n",
    "\n",
    "# Interest_Expense: Negatif etkisi vardır ve p = 0.052 ile sınırda anlamlıdır. \n",
    "# Faiz giderlerinin Current_Ratio üzerinde zayıf bir baskılayıcı etkisi olabilir.\n",
    "\n",
    "# Capital_Expenditures: Pozitif etkiye sahiptir ve p = 0.033 ile anlamlıdır, sermaye harcamaları Current_Ratio'yu artırabilir.\n",
    "\n"
   ]
  },
  {
   "cell_type": "code",
   "execution_count": 41,
   "id": "b8e91eaf-afbe-4b06-a0f6-eb421155241b",
   "metadata": {},
   "outputs": [],
   "source": [
    "# Baktığımız sınırlı testlere göre anlamsız değişkenler:\n",
    "\n",
    "# Fixed_Assets, Other_Assets, Total_Liabilities, Short_Term_Debt_Current_Portion_of_Long_Term_Debt, Deferred_Liability_Charges, Other_Operating_Items\n",
    "#gibi değişkenlerin p > 0.05 olması nedeniyle istatistiksel olarak anlamlı bir etkisi yoktur."
   ]
  },
  {
   "cell_type": "code",
   "execution_count": 42,
   "id": "42ae7d4f-765f-4e79-bfc0-0952255cb379",
   "metadata": {},
   "outputs": [],
   "source": [
    "# Modelin Genel Anlamlılığı: F-istatistiği 912.3 ve p = 0.00 olması, modelin bağımlı değişkeni açıklamada istatistiksel olarak anlamlı olduğunu gösterir."
   ]
  },
  {
   "cell_type": "code",
   "execution_count": 43,
   "id": "51a17dbb-f5d6-4f58-95da-eb8c1896126c",
   "metadata": {},
   "outputs": [],
   "source": [
    "# Multicollinearity Sorunu: Koşul sayısının (Cond. No.) 9.61e+10 gibi çok yüksek olması,\n",
    "# değişkenler arasında şiddetli multicollinearity olduğuna işaret eder. Bu, modelin güvenilirliğini sorgulatabilir."
   ]
  },
  {
   "cell_type": "code",
   "execution_count": 44,
   "id": "8dd58829-c85f-42bd-8d5a-82a6d2cf6b78",
   "metadata": {},
   "outputs": [],
   "source": [
    "# Normallik ve Otokorelasyon:\n",
    "\n",
    "# Omnibus (p = 0.00) ve Jarque-Bera (p = 0.00) testleri, hata terimlerinin normal dağılmadığını gösterir.\n",
    "\n",
    "# Durbin-Watson (0.591): Değerin 2'den uzak olması (özellikle 1'den küçük olması), pozitif otokorelasyon olduğu yönünde bir belirteçtir."
   ]
  },
  {
   "cell_type": "code",
   "execution_count": 45,
   "id": "9fffbb7d-8ba8-4f3e-ae8d-b0ab58634ebb",
   "metadata": {},
   "outputs": [],
   "source": [
    "# Çarpıklık ve Basıklık:\n",
    "\n",
    "# Skewness (2.334): Veriler sağa çarpıktır.\n",
    "\n",
    "# Kurtosis (12.653): Normal dağılıma göre çok daha sivri (leptokurtic) bir yapı vardır, bu da aykırı değerlerin etkisini gösterir."
   ]
  },
  {
   "cell_type": "code",
   "execution_count": 46,
   "id": "8f79bf43-8fe6-4f37-ae44-bfd24bb32579",
   "metadata": {},
   "outputs": [],
   "source": [
    "# Sonuç: Model yüksek açıklayıcılığa sahip olsa da, multicollinearity, normallik ihlali ve otokorelasyon gibi ciddi sorunlar içermektedir."
   ]
  },
  {
   "cell_type": "code",
   "execution_count": 47,
   "id": "a3d998ea-b776-41e0-a655-352f0eec8a67",
   "metadata": {},
   "outputs": [],
   "source": [
    "# LINEAR REGRESSION"
   ]
  },
  {
   "cell_type": "code",
   "execution_count": 48,
   "id": "9d4d2cf0-4a25-4840-87ef-fa4bce0a7ce8",
   "metadata": {},
   "outputs": [],
   "source": [
    "from sklearn.linear_model import LinearRegression"
   ]
  },
  {
   "cell_type": "code",
   "execution_count": 49,
   "id": "2817c8eb-6a3e-4bc2-977f-f8566a4c452f",
   "metadata": {},
   "outputs": [],
   "source": [
    "x = dat_tmz.drop(columns=[\"Current_Ratio\"])\n",
    "y = dat_tmz[\"Current_Ratio\"]"
   ]
  },
  {
   "cell_type": "code",
   "execution_count": 50,
   "id": "e3fa0993-3e82-42f9-b0ad-55d5b89a003a",
   "metadata": {},
   "outputs": [],
   "source": [
    "model2 = LinearRegression()"
   ]
  },
  {
   "cell_type": "code",
   "execution_count": 51,
   "id": "f87b4391-ac9f-4bc3-9c74-2ebc3099b5e1",
   "metadata": {},
   "outputs": [],
   "source": [
    "mod2 = model2.fit(x, y)"
   ]
  },
  {
   "cell_type": "code",
   "execution_count": 52,
   "id": "79b71fb1-6cbd-4795-ae85-03773f6bd6ef",
   "metadata": {},
   "outputs": [
    {
     "name": "stdout",
     "output_type": "stream",
     "text": [
      "MODELDEN ELDE EDİLEN VERİLER\n",
      "\n",
      "Beta0 (intercept): 42.496909083039014\n",
      "Katsayılar (coefficients): [ 1.05425879 -0.06797755 -0.00000001  0.         -0.         -0.\n",
      "  0.          0.          0.          0.          0.         -0.        ]\n",
      "R^2 Score: 0.8816909428102386\n"
     ]
    }
   ],
   "source": [
    "print(\"MODELDEN ELDE EDİLEN VERİLER\\n\")\n",
    "print(\"Beta0 (intercept):\", mod2.intercept_)\n",
    "print(\"Katsayılar (coefficients):\", mod2.coef_)\n",
    "print(\"R^2 Score:\", mod2.score(x, y))\n"
   ]
  },
  {
   "cell_type": "code",
   "execution_count": 53,
   "id": "531ae807-ba53-45b3-8737-c33fe03ed278",
   "metadata": {},
   "outputs": [],
   "source": [
    "# İlk katsayı: 1.054 — Bu muhtemelen Quick_Ratio veya Cash_Ratio. Bu değerin pozitif ve 1'e yakın olması, \n",
    "# bu değişkenin Current_Ratio üzerinde pozitif ve güçlü etkisi olduğunu gösteriyor.\n",
    "\n",
    "# Diğerlerinin çoğu 0, -0, ya da çok küçük negatif/pozitif değerler. Bu, bu değişkenlerin modelde anlamlı bir katkı sunmadığını gösteriyor\n",
    "# (ya da veri setindeki multicollineartyden ötürü etkileri bastırılmış olabilir)."
   ]
  },
  {
   "cell_type": "code",
   "execution_count": 54,
   "id": "d579d7dc-e16d-45c4-8309-ffbc7235a921",
   "metadata": {},
   "outputs": [],
   "source": [
    "# %88.2 gibi oldukça yüksek bir değer, modelin Current_Ratio değişkenindeki değişimin büyük kısmını açıkladığını gösteriyor."
   ]
  },
  {
   "cell_type": "code",
   "execution_count": 55,
   "id": "a7cbb6c5-7707-465f-bd9f-85051dde690f",
   "metadata": {},
   "outputs": [],
   "source": [
    "# Tahminler\n",
    "y_hat3 = mod2.predict(x)"
   ]
  },
  {
   "cell_type": "code",
   "execution_count": 56,
   "id": "431917b6-6158-4ce3-a554-4eb9c46852f0",
   "metadata": {},
   "outputs": [
    {
     "data": {
      "text/plain": [
       "array([ 94.28138504, 109.16297684,  88.33905221, ..., 247.44805149,\n",
       "       177.27698297, 215.22268127])"
      ]
     },
     "execution_count": 56,
     "metadata": {},
     "output_type": "execute_result"
    }
   ],
   "source": [
    "y_hat3"
   ]
  },
  {
   "cell_type": "code",
   "execution_count": 57,
   "id": "f5405b8a-bef8-4948-ada1-521d9392cb6c",
   "metadata": {},
   "outputs": [],
   "source": [
    "# Tahmin değerlerinin büyük kısmı 100-200 aralığında yoğunlaşmış gibi görünse de, bazı uç değerler (örneğin 247.45) modelin aykırı \n",
    "# gözlemlere duyarlı olabileceğini düşündürmektedir."
   ]
  },
  {
   "cell_type": "code",
   "execution_count": 58,
   "id": "e999a752-88a2-4f9a-9ea6-a12f6b3c775f",
   "metadata": {},
   "outputs": [
    {
     "name": "stdout",
     "output_type": "stream",
     "text": [
      "\n",
      "PERFORMANS ÖLÇÜTLERİ\n",
      "\n",
      "MSE: 1939.090034048667\n",
      "R^2 Score: 0.8816909428102386\n",
      "RMSE: 44.0351000231482\n",
      "MAPE: 0.20788061462141624\n"
     ]
    }
   ],
   "source": [
    "# Performans ölçütleri\n",
    "print(\"\\nPERFORMANS ÖLÇÜTLERİ\\n\")\n",
    "print(\"MSE:\", mean_squared_error(y, y_hat3))\n",
    "print(\"R^2 Score:\", r2_score(y, y_hat3))\n",
    "print(\"RMSE:\", np.sqrt(mean_squared_error(y, y_hat3)))\n",
    "print(\"MAPE:\", mean_absolute_percentage_error(y, y_hat3))\n"
   ]
  },
  {
   "cell_type": "code",
   "execution_count": 59,
   "id": "2d29bd78-a79c-4ab2-a88f-e3ec7b1f8805",
   "metadata": {},
   "outputs": [],
   "source": [
    "# MSE (1939.09): Hataların karesi ortalaması yüksek, modelin tahminlerinde önemli sapmalar var.\n",
    "# R-Squared (0.88): Model, bağımlı değişkenin %88'ini açıklıyor, güçlü bir uyum sergiliyor.\n",
    "# RMSE (44.04): Tahminler ortalama ±44 birim hata payına sahip, pratikte kabul edilebilirliği veri ölçeğine bağlı.\n",
    "# MAPE (%20.79): Ortalama %20.8'lik hata oranı, modelin tahminlerinde görece yüksek sapma olduğunu gösteriyor.\n",
    "\n",
    "# Sonuç: Model iyi açıklayıcılığa (R-Squared) sahip ancak hata metrikleri (MSE, MAPE) daha fazla iyileştirme gerektiğini işaret ediyor.\n",
    "\n"
   ]
  },
  {
   "cell_type": "code",
   "execution_count": 60,
   "id": "908263b7-9e82-4158-ae09-b92139b77a93",
   "metadata": {},
   "outputs": [
    {
     "name": "stdout",
     "output_type": "stream",
     "text": [
      "\n",
      "REGPLOT İNCELEMESİ\n"
     ]
    },
    {
     "data": {
      "text/plain": [
       "<Axes: xlabel='Current_Ratio'>"
      ]
     },
     "execution_count": 60,
     "metadata": {},
     "output_type": "execute_result"
    },
    {
     "data": {
      "text/plain": [
       "Text(0.5, 0, 'Gerçek Current Ratio')"
      ]
     },
     "execution_count": 60,
     "metadata": {},
     "output_type": "execute_result"
    },
    {
     "data": {
      "text/plain": [
       "Text(0, 0.5, 'Tahmin Edilen Current Ratio')"
      ]
     },
     "execution_count": 60,
     "metadata": {},
     "output_type": "execute_result"
    },
    {
     "data": {
      "text/plain": [
       "Text(0.5, 1.0, 'Gerçek vs Tahmin Current Ratio (LinearRegression)')"
      ]
     },
     "execution_count": 60,
     "metadata": {},
     "output_type": "execute_result"
    },
    {
     "data": {
      "image/png": "[encoded data removed]",
      "text/plain": [
       "<Figure size 640x480 with 1 Axes>"
      ]
     },
     "metadata": {},
     "output_type": "display_data"
    }
   ],
   "source": [
    "# Regplot çizimi\n",
    "print(\"\\nREGPLOT İNCELEMESİ\")\n",
    "sbn.regplot(x=y, y=y_hat3, line_kws={\"color\": \"red\"})\n",
    "plt.xlabel(\"Gerçek Current Ratio\")\n",
    "plt.ylabel(\"Tahmin Edilen Current Ratio\")\n",
    "plt.title(\"Gerçek vs Tahmin Current Ratio (LinearRegression)\")\n",
    "plt.show()"
   ]
  },
  {
   "cell_type": "code",
   "execution_count": 61,
   "id": "a54835e0-f055-4c63-933e-71238676aca3",
   "metadata": {},
   "outputs": [],
   "source": [
    "# Model genel olarak başarılı, ancak özellikle uç değerlerde daha iyi tahmin için ayarlamalar yapılmalı."
   ]
  },
  {
   "cell_type": "code",
   "execution_count": 62,
   "id": "fac58aee-6cbb-4d4d-9c90-3bd58abb4700",
   "metadata": {},
   "outputs": [],
   "source": [
    "# SIRADAN EN KÜÇÜK KARELER REGRESYON MODELİ - ORDINARY LEAST SQUARES - OLS"
   ]
  },
  {
   "cell_type": "code",
   "execution_count": 63,
   "id": "7f2ec280-7078-4774-90bc-26b52dc5c104",
   "metadata": {},
   "outputs": [],
   "source": [
    "# Test büyüklüğü 0.3 Train büyüklüğü 0.7 olsun.\n",
    "x_train, x_test, y_train, y_test = train_test_split(x, y, test_size=0.3, random_state=42)"
   ]
  },
  {
   "cell_type": "code",
   "execution_count": 64,
   "id": "f81cf2e6-dd7e-4cf6-9aab-7819c69cd191",
   "metadata": {},
   "outputs": [],
   "source": [
    "model3 = sm.OLS(y_train, x_train).fit()"
   ]
  },
  {
   "cell_type": "code",
   "execution_count": 65,
   "id": "ad41c67c-59d3-46c5-b02b-cf1c73bb3e72",
   "metadata": {},
   "outputs": [
    {
     "name": "stdout",
     "output_type": "stream",
     "text": [
      "                                 OLS Regression Results                                \n",
      "=======================================================================================\n",
      "Dep. Variable:          Current_Ratio   R-squared (uncentered):                   0.952\n",
      "Model:                            OLS   Adj. R-squared (uncentered):              0.951\n",
      "Method:                 Least Squares   F-statistic:                              1689.\n",
      "Date:                Fri, 18 Apr 2025   Prob (F-statistic):                        0.00\n",
      "Time:                        15:32:44   Log-Likelihood:                         -5525.1\n",
      "No. Observations:                1037   AIC:                                  1.107e+04\n",
      "Df Residuals:                    1025   BIC:                                  1.113e+04\n",
      "Df Model:                          12                                                  \n",
      "Covariance Type:            nonrobust                                                  \n",
      "=====================================================================================================================\n",
      "                                                        coef    std err          t      P>|t|      [0.025      0.975]\n",
      "---------------------------------------------------------------------------------------------------------------------\n",
      "Quick_Ratio                                           1.3806      0.025     56.312      0.000       1.333       1.429\n",
      "Cash_Ratio                                           -0.3595      0.035    -10.221      0.000      -0.429      -0.290\n",
      "Interest_Expense                                   1.806e-08   5.98e-09      3.020      0.003    6.33e-09    2.98e-08\n",
      "Fixed_Assets                                        4.74e-10   2.45e-10      1.934      0.053   -7.02e-12    9.55e-10\n",
      "Other_Assets                                      -3.724e-10   8.37e-10     -0.445      0.656   -2.01e-09    1.27e-09\n",
      "Total_Current_Liabilities                          3.205e-10   7.83e-10      0.409      0.683   -1.22e-09    1.86e-09\n",
      "Total_Liabilities                                 -6.698e-10    1.9e-10     -3.531      0.000   -1.04e-09   -2.98e-10\n",
      "Short_Term_Debt_Current_Portion_of_Long_Term_Debt -3.118e-10    1.1e-09     -0.283      0.777   -2.47e-09    1.85e-09\n",
      "Capital_Expenditures                                2.45e-09   1.55e-09      1.580      0.115   -5.93e-10    5.49e-09\n",
      "Deferred_Liability_Charges                         8.721e-10   8.03e-10      1.086      0.278   -7.03e-10    2.45e-09\n",
      "Accounts_Payable                                    1.88e-09   7.69e-10      2.447      0.015    3.72e-10    3.39e-09\n",
      "Other_Operating_Items                             -2.784e-09   2.01e-09     -1.388      0.165   -6.72e-09    1.15e-09\n",
      "==============================================================================\n",
      "Omnibus:                      499.171   Durbin-Watson:                   1.937\n",
      "Prob(Omnibus):                  0.000   Jarque-Bera (JB):             3973.050\n",
      "Skew:                           2.052   Prob(JB):                         0.00\n",
      "Kurtosis:                      11.667   Cond. No.                     1.10e+09\n",
      "==============================================================================\n",
      "\n",
      "Notes:\n",
      "[1] R² is computed without centering (uncentered) since the model does not contain a constant.\n",
      "[2] Standard Errors assume that the covariance matrix of the errors is correctly specified.\n",
      "[3] The condition number is large, 1.1e+09. This might indicate that there are\n",
      "strong multicollinearity or other numerical problems.\n"
     ]
    }
   ],
   "source": [
    "print(model3.summary())"
   ]
  },
  {
   "cell_type": "code",
   "execution_count": 66,
   "id": "660ffbae-505e-4a62-aee4-4dfe0b4f8547",
   "metadata": {},
   "outputs": [],
   "source": [
    "#Test Tahminleri\n",
    "y_pred = model3.predict(x_test)"
   ]
  },
  {
   "cell_type": "code",
   "execution_count": 67,
   "id": "cd9cab4e-d66e-4976-8c28-246107467589",
   "metadata": {},
   "outputs": [
    {
     "name": "stdout",
     "output_type": "stream",
     "text": [
      "\n",
      "TEST SETİ PERFORMANSI\n",
      "MSE : 1770.809137891533\n",
      "R^2 : 0.881753266941408\n",
      "RMSE: 42.08098309083966\n",
      "MAPE: 0.1788281953319784\n"
     ]
    }
   ],
   "source": [
    "# Performans metrikleri\n",
    "print(\"\\nTEST SETİ PERFORMANSI\")\n",
    "print(\"MSE :\", mean_squared_error(y_test, y_pred))\n",
    "print(\"R^2 :\", r2_score(y_test, y_pred))\n",
    "print(\"RMSE:\", np.sqrt(mean_squared_error(y_test, y_pred)))\n",
    "print(\"MAPE:\", mean_absolute_percentage_error(y_test, y_pred))"
   ]
  },
  {
   "cell_type": "code",
   "execution_count": 68,
   "id": "fe2a8a68-ec76-4435-a031-aa20ebef2994",
   "metadata": {},
   "outputs": [],
   "source": [
    "# Model Açıklayıcılığı (R² = 0.952)\n",
    "\n",
    "# Model, bağımlı değişkenin (Current_Ratio) varyansının %95.2'sini açıklıyor. Önceki modele göre daha yüksek bir sonuç."
   ]
  },
  {
   "cell_type": "code",
   "execution_count": 69,
   "id": "cd9c3e23-ceb0-4481-af3b-42d4830b079d",
   "metadata": {},
   "outputs": [],
   "source": [
    "# Anlamlı Değişkenler (p < 0.05):\n",
    "\n",
    "# Quick_Ratio (p=0.000): En güçlü pozitif etkiye sahip.\n",
    "\n",
    "# Cash_Ratio (p=0.000): Negatif etkili, yani nakit oranı arttıkça Current_Ratio düşüyor.\n",
    "\n",
    "# Interest_Expense (p=0.003): Pozitif etkili ama katsayı çok küçük (1.8e-08).\n",
    "\n",
    "# Total_Liabilities (p=0.000): Negatif etkili, yükümlülükler arttıkça Current_Ratio azalıyor.\n",
    "\n",
    "# Accounts_Payable (p=0.015): Pozitif etkili, tedarikçi borçları Current_Ratio'yu artırıyor.\n"
   ]
  },
  {
   "cell_type": "code",
   "execution_count": 70,
   "id": "a22ecf55-eeba-437c-8d53-78cc51c6528e",
   "metadata": {},
   "outputs": [],
   "source": [
    "# Sınırda Anlamlı Değişkenler:\n",
    "\n",
    "# Fixed_Assets (p=0.053): Zayıf pozitif etki, anlamlılık sınırında."
   ]
  },
  {
   "cell_type": "code",
   "execution_count": 71,
   "id": "5e5ba703-ae43-42d2-b640-810e20fc7b10",
   "metadata": {},
   "outputs": [],
   "source": [
    "# Anlamsız Değişkenler (p > 0.05):\n",
    "\n",
    "# Other_Assets, Total_Current_Liabilities, Short_Term_Debt, Capital_Expenditures, Deferred_Liability_Charges, Other_Operating_Items."
   ]
  },
  {
   "cell_type": "code",
   "execution_count": 72,
   "id": "b08f0acc-c548-4d3f-a89c-c2c9f991f276",
   "metadata": {},
   "outputs": [],
   "source": [
    "# Multicollinearity Uyarısı (Cond. No. = 1.1e+09)\n",
    "\n",
    "# Çok yüksek koşul sayısı, değişkenler arasında güçlü bağımlılık olduğunu gösteriyor.\n",
    "# Bu katsayıların güvenilirliğini azaltabilir."
   ]
  },
  {
   "cell_type": "code",
   "execution_count": 73,
   "id": "bdff8183-8c9d-4775-b1f6-f61abf6119c4",
   "metadata": {},
   "outputs": [],
   "source": [
    "# Normallik ve Otokorelasyon:\n",
    "\n",
    "# Omnibus (p=0.000) & Jarque-Bera (p=0.00): Hatalar normal dağılmıyor.\n",
    "\n",
    "# Durbin-Watson (1.937): 2'ye yakın olduğu için otokorelasyon yok."
   ]
  },
  {
   "cell_type": "code",
   "execution_count": 74,
   "id": "8e4595b9-27d5-437b-9d03-31176b2727c9",
   "metadata": {},
   "outputs": [],
   "source": [
    "# Test Seti Performansı:\n",
    "# MSE (1770.80): Tahmin hatalarının karesi ortalaması yüksek.\n",
    "\n",
    "# R-squared (0.881): Model, test verisinde de iyi performans gösteriyor (%88 açıklayıcılık).\n",
    "\n",
    "# RMSE (42.08): Tahminler ortalama ±42 birim hata payına sahip.\n",
    "\n",
    "# MAPE (%17.88): Ortalama %18 hata oranı, kabul edilebilir seviyede."
   ]
  },
  {
   "cell_type": "code",
   "execution_count": 75,
   "id": "bdb56681-226c-4dfa-9bb5-3a71bd70ae58",
   "metadata": {},
   "outputs": [],
   "source": [
    "# Model genel olarak başarılı (yüksek R-squared)\n",
    "\n",
    "# Multicollinearity sorunu var.\n",
    "\n",
    "# Hatalar normal dağılmıyor.\n",
    "\n",
    "# Test performansı eğitim performansına yakın, overfitting yok."
   ]
  },
  {
   "cell_type": "code",
   "execution_count": 76,
   "id": "8e0d1179-c1c9-4ea2-a64a-795f0e476cbd",
   "metadata": {},
   "outputs": [
    {
     "name": "stdout",
     "output_type": "stream",
     "text": [
      "egitim: 1037   test: 445\n"
     ]
    }
   ],
   "source": [
    "# TRAIN_TEST SPLIT YÖNTEMİ VE KARŞILAŞTIRILMASI\n",
    "x_egitimset, x_testset, y_egitimset, y_testset = train_test_split(x, y, test_size=0.3, random_state=42)\n",
    "print(\"egitim:\", len(x_egitimset), \"  test:\", len(x_testset))"
   ]
  },
  {
   "cell_type": "code",
   "execution_count": 77,
   "id": "0ffd3595-2147-49bd-a30d-39f0a2ce5cd8",
   "metadata": {},
   "outputs": [],
   "source": [
    "x_testset = x_testset[x_egitimset.columns]"
   ]
  },
  {
   "cell_type": "code",
   "execution_count": 78,
   "id": "5f122829-6a67-45dd-86dd-f9c4bf50d50d",
   "metadata": {},
   "outputs": [],
   "source": [
    "model4 = sm.OLS(y_egitimset, x_egitimset)\n",
    "mod4 = model4.fit()"
   ]
  },
  {
   "cell_type": "code",
   "execution_count": 79,
   "id": "47e3d8bf-bad0-4635-88a3-a2f8924460ab",
   "metadata": {},
   "outputs": [
    {
     "name": "stdout",
     "output_type": "stream",
     "text": [
      "                                 OLS Regression Results                                \n",
      "=======================================================================================\n",
      "Dep. Variable:          Current_Ratio   R-squared (uncentered):                   0.952\n",
      "Model:                            OLS   Adj. R-squared (uncentered):              0.951\n",
      "Method:                 Least Squares   F-statistic:                              1689.\n",
      "Date:                Fri, 18 Apr 2025   Prob (F-statistic):                        0.00\n",
      "Time:                        15:32:44   Log-Likelihood:                         -5525.1\n",
      "No. Observations:                1037   AIC:                                  1.107e+04\n",
      "Df Residuals:                    1025   BIC:                                  1.113e+04\n",
      "Df Model:                          12                                                  \n",
      "Covariance Type:            nonrobust                                                  \n",
      "=====================================================================================================================\n",
      "                                                        coef    std err          t      P>|t|      [0.025      0.975]\n",
      "---------------------------------------------------------------------------------------------------------------------\n",
      "Quick_Ratio                                           1.3806      0.025     56.312      0.000       1.333       1.429\n",
      "Cash_Ratio                                           -0.3595      0.035    -10.221      0.000      -0.429      -0.290\n",
      "Interest_Expense                                   1.806e-08   5.98e-09      3.020      0.003    6.33e-09    2.98e-08\n",
      "Fixed_Assets                                        4.74e-10   2.45e-10      1.934      0.053   -7.02e-12    9.55e-10\n",
      "Other_Assets                                      -3.724e-10   8.37e-10     -0.445      0.656   -2.01e-09    1.27e-09\n",
      "Total_Current_Liabilities                          3.205e-10   7.83e-10      0.409      0.683   -1.22e-09    1.86e-09\n",
      "Total_Liabilities                                 -6.698e-10    1.9e-10     -3.531      0.000   -1.04e-09   -2.98e-10\n",
      "Short_Term_Debt_Current_Portion_of_Long_Term_Debt -3.118e-10    1.1e-09     -0.283      0.777   -2.47e-09    1.85e-09\n",
      "Capital_Expenditures                                2.45e-09   1.55e-09      1.580      0.115   -5.93e-10    5.49e-09\n",
      "Deferred_Liability_Charges                         8.721e-10   8.03e-10      1.086      0.278   -7.03e-10    2.45e-09\n",
      "Accounts_Payable                                    1.88e-09   7.69e-10      2.447      0.015    3.72e-10    3.39e-09\n",
      "Other_Operating_Items                             -2.784e-09   2.01e-09     -1.388      0.165   -6.72e-09    1.15e-09\n",
      "==============================================================================\n",
      "Omnibus:                      499.171   Durbin-Watson:                   1.937\n",
      "Prob(Omnibus):                  0.000   Jarque-Bera (JB):             3973.050\n",
      "Skew:                           2.052   Prob(JB):                         0.00\n",
      "Kurtosis:                      11.667   Cond. No.                     1.10e+09\n",
      "==============================================================================\n",
      "\n",
      "Notes:\n",
      "[1] R² is computed without centering (uncentered) since the model does not contain a constant.\n",
      "[2] Standard Errors assume that the covariance matrix of the errors is correctly specified.\n",
      "[3] The condition number is large, 1.1e+09. This might indicate that there are\n",
      "strong multicollinearity or other numerical problems.\n"
     ]
    }
   ],
   "source": [
    "print(mod4.summary())"
   ]
  },
  {
   "cell_type": "code",
   "execution_count": 80,
   "id": "0a5ee6e0-12aa-4e96-a5a5-8fa174f0ce11",
   "metadata": {},
   "outputs": [],
   "source": [
    "# Bir önceki modelle tamamıyla aynı değerleri barındırıyor. Tüm cümleler tekrarlanabilir."
   ]
  },
  {
   "cell_type": "code",
   "execution_count": 81,
   "id": "cd67f66a-dac3-4b93-a1a5-f89f082b3d6a",
   "metadata": {},
   "outputs": [],
   "source": [
    "# TEST VE EĞİTİM SETİ KARŞILAŞTIRILMASI (mod4 için)"
   ]
  },
  {
   "cell_type": "code",
   "execution_count": 82,
   "id": "138b42d6-16b0-4f75-9d71-edfc2915fb81",
   "metadata": {},
   "outputs": [],
   "source": [
    "y_hat_train = mod4.predict(x_egitimset)\n",
    "y_hat_test  = mod4.predict(x_testset)"
   ]
  },
  {
   "cell_type": "code",
   "execution_count": 83,
   "id": "400b82e3-542a-43e4-a3cd-d895a1378c53",
   "metadata": {},
   "outputs": [
    {
     "name": "stdout",
     "output_type": "stream",
     "text": [
      "EGİTİM VERİSİ MSE : 2484.9632426726857\n",
      "TEST  VERİSİ MSE : 1770.809137891533\n"
     ]
    }
   ],
   "source": [
    "print(\"EGİTİM VERİSİ MSE :\", mean_squared_error(y_egitimset, y_hat_train))\n",
    "print(\"TEST  VERİSİ MSE :\", mean_squared_error(y_testset,  y_hat_test))\n"
   ]
  },
  {
   "cell_type": "code",
   "execution_count": 84,
   "id": "ffc13ab4-c7f8-40ff-aa99-1a0865362722",
   "metadata": {},
   "outputs": [
    {
     "name": "stdout",
     "output_type": "stream",
     "text": [
      "EGİTİM VERİSİ R²  : 0.85378565076485\n",
      "TEST  VERİSİ R²  : 0.881753266941408\n"
     ]
    }
   ],
   "source": [
    "print(\"EGİTİM VERİSİ R²  :\", r2_score(y_egitimset, y_hat_train))\n",
    "print(\"TEST  VERİSİ R²  :\", r2_score(y_testset,  y_hat_test))\n"
   ]
  },
  {
   "cell_type": "code",
   "execution_count": 85,
   "id": "ce0a98eb-acf8-474a-a6db-cb70f9e84b86",
   "metadata": {},
   "outputs": [
    {
     "name": "stdout",
     "output_type": "stream",
     "text": [
      "EGİTİM VERİSİ MAPE: 0.18435398692938768\n",
      "TEST  VERİSİ MAPE: 0.1788281953319784\n"
     ]
    }
   ],
   "source": [
    "print(\"EGİTİM VERİSİ MAPE:\", mean_absolute_percentage_error(y_egitimset, y_hat_train))\n",
    "print(\"TEST  VERİSİ MAPE:\", mean_absolute_percentage_error(y_testset,  y_hat_test))\n"
   ]
  },
  {
   "cell_type": "code",
   "execution_count": 86,
   "id": "f5bb5797-7b2d-441c-b06e-cbe1cf415060",
   "metadata": {},
   "outputs": [
    {
     "name": "stdout",
     "output_type": "stream",
     "text": [
      "EGİTİM VERİSİ RMSE: 49.84940564011456\n",
      "TEST  VERİSİ RMSE: 42.08098309083966\n"
     ]
    }
   ],
   "source": [
    "print(\"EGİTİM VERİSİ RMSE:\", np.sqrt(mean_squared_error(y_egitimset, y_hat_train)))\n",
    "print(\"TEST  VERİSİ RMSE:\", np.sqrt(mean_squared_error(y_testset,  y_hat_test)))"
   ]
  },
  {
   "cell_type": "code",
   "execution_count": 87,
   "id": "3ffa4004-2176-4b8c-b874-1f8725418a85",
   "metadata": {},
   "outputs": [],
   "source": [
    "# Eğitim-Test Uyumu: Test verisindeki R-squared (0.88) eğitim verisindekinden (0.85) yüksek, modelin genelleme yeteneği iyi.\n",
    "\n",
    "# Hata Metrikleri:\n",
    "\n",
    "# Test MSE (1770) eğitim MSE'den (2484) düşük, model test verisinde daha iyi performans gösteriyor.\n",
    "\n",
    "# Test RMSE (42.08) eğitim RMSE'den (49.85) düşük, tahmin hataları test verisinde daha küçük.\n",
    "\n",
    "# MAPE Değerleri:\n",
    "\n",
    "# Test MAPE (%17.88) eğitim MAPE'den (%18.43) daha iyi, model test verisinde daha doğru tahmin yapıyor.\n",
    "\n",
    "# Overfitting Yok: Test metriklerinin eğitimden daha iyi olması overfitting olmadığını gösteriyor.\n",
    "\n",
    "# Model Güvenilirliği: Tüm metriklerde tutarlı performans, modelin güvenilir olduğunu destekliyor."
   ]
  },
  {
   "cell_type": "code",
   "execution_count": 88,
   "id": "69437723-f685-4e0a-9e2a-2e5bc41fa981",
   "metadata": {},
   "outputs": [],
   "source": [
    "# TEMEL BİLEŞENLER REGRESYONU (PCA)\n",
    "pca_model = PCA()\n",
    "x_egitimset_scaled = pca_model.fit_transform(x_egitimset)"
   ]
  },
  {
   "cell_type": "code",
   "execution_count": 89,
   "id": "7f4ec096-b635-42b6-8de2-ffc57e685e73",
   "metadata": {},
   "outputs": [],
   "source": [
    "# LINEER MODEL (T bileşenleri + y)\n",
    "pcamodel1 = LinearRegression()\n",
    "crossval = KFold(n_splits=5, shuffle=True, random_state=42)"
   ]
  },
  {
   "cell_type": "code",
   "execution_count": 90,
   "id": "d9314a83-7fe0-4424-9357-17af3952955d",
   "metadata": {},
   "outputs": [
    {
     "name": "stdout",
     "output_type": "stream",
     "text": [
      "[16519.48049919221, 16503.582746954915, 16594.36945913179, 16551.63728293552, 16684.703320024208, 16574.59791603973, 16612.041156963845, 16619.640505115138, 16364.390950239642, 15727.697452658404, 3891.7135496478586, 2147.0426176551023]\n"
     ]
    }
   ],
   "source": [
    "# En az sayıda bileşenle en iyi tahmin performansını sağlayan PCA bileşen sayısını belirleyelim\n",
    "MSE = []\n",
    "for i in np.arange(1, 13):\n",
    "    score = -1 * model_selection.cross_val_score(\n",
    "        pcamodel1,\n",
    "        x_egitimset_scaled[:, :i],\n",
    "        y_egitimset,\n",
    "        cv=crossval,\n",
    "        scoring=\"neg_mean_squared_error\"\n",
    "    ).mean()\n",
    "    MSE.append(score)\n",
    "print(MSE)"
   ]
  },
  {
   "cell_type": "code",
   "execution_count": 91,
   "id": "ee4ae8a1-9d9e-4294-834c-772d3cb0cab1",
   "metadata": {},
   "outputs": [],
   "source": [
    "# Temel Bileşenlerle Kurulan Model\n",
    "tem_model = LinearRegression()\n",
    "pcaregr = tem_model.fit(x_egitimset_scaled, y_egitimset)\n",
    "ysapkapca = pcaregr.predict(x_egitimset_scaled)"
   ]
  },
  {
   "cell_type": "code",
   "execution_count": 92,
   "id": "144619bd-29cb-4c67-b0db-9641fe0ce248",
   "metadata": {},
   "outputs": [
    {
     "data": {
      "text/plain": [
       "<Axes: xlabel='Current_Ratio'>"
      ]
     },
     "execution_count": 92,
     "metadata": {},
     "output_type": "execute_result"
    },
    {
     "data": {
      "text/plain": [
       "Text(0.5, 0, 'Gerçek Current Ratio')"
      ]
     },
     "execution_count": 92,
     "metadata": {},
     "output_type": "execute_result"
    },
    {
     "data": {
      "text/plain": [
       "Text(0, 0.5, 'Tahmin Current Ratio (PCA)')"
      ]
     },
     "execution_count": 92,
     "metadata": {},
     "output_type": "execute_result"
    },
    {
     "data": {
      "text/plain": [
       "Text(0.5, 1.0, 'Gerçek vs Tahmin Current Ratio – PCA')"
      ]
     },
     "execution_count": 92,
     "metadata": {},
     "output_type": "execute_result"
    },
    {
     "data": {
      "image/png": "[encoded data removed]",
      "text/plain": [
       "<Figure size 640x480 with 1 Axes>"
      ]
     },
     "metadata": {},
     "output_type": "display_data"
    }
   ],
   "source": [
    "sbn.regplot(x=y_egitimset, y=ysapkapca, line_kws={\"color\": \"red\"})\n",
    "plt.xlabel(\"Gerçek Current Ratio\")\n",
    "plt.ylabel(\"Tahmin Current Ratio (PCA)\")\n",
    "plt.title(\"Gerçek vs Tahmin Current Ratio – PCA\")\n",
    "plt.show()"
   ]
  },
  {
   "cell_type": "code",
   "execution_count": 93,
   "id": "358131e1-8636-404e-b8dd-4f14d45b0ae4",
   "metadata": {},
   "outputs": [
    {
     "name": "stdout",
     "output_type": "stream",
     "text": [
      "MSE : 2093.167022070489\n",
      "R^2 : 0.87683880038268\n",
      "RMSE: 45.75114230344953\n",
      "MAPE: 0.2118042736242887\n"
     ]
    }
   ],
   "source": [
    "# Performans metrikleri\n",
    "print(\"MSE :\", mean_squared_error(y_egitimset, ysapkapca))\n",
    "print(\"R^2 :\", r2_score(y_egitimset, ysapkapca))\n",
    "print(\"RMSE:\", np.sqrt(mean_squared_error(y_egitimset, ysapkapca)))\n",
    "print(\"MAPE:\", mean_absolute_percentage_error(y_egitimset, ysapkapca))"
   ]
  },
  {
   "cell_type": "code",
   "execution_count": 94,
   "id": "0e6d211a-5bf7-41e5-9781-a8198e52f6b7",
   "metadata": {},
   "outputs": [],
   "source": [
    "# MSE (2093.17)\n",
    "\n",
    "# Ortalama karesel hata yüksek; modelin tahminlerinde belirgin sapmalar var.\n",
    "\n",
    "# R-squared (0.877)\n",
    "\n",
    "# Model, bağımlı değişkenin %87.7'sini açıklıyor → Yüksek açıklayıcılık.\n",
    "\n",
    "# RMSE (45.75)\n",
    "\n",
    "# Tahminler ortalama ±45.75 birim hata payına sahip.\n",
    "\n",
    "# Birim bağlı: Örneğin, Current Ratio için bu hata kabul edilebilir mi?\n",
    "\n",
    "# MAPE (%21.18)\n",
    "\n",
    "# Ortalama %21'lik hata oranı → Kabul edilebilir sınırda, ancak iyileştirme gerekebilir.\n",
    "\n"
   ]
  },
  {
   "cell_type": "code",
   "execution_count": 95,
   "id": "a0b56bc4-cad0-4ed2-b20b-6f7c44eed053",
   "metadata": {},
   "outputs": [],
   "source": [
    "# Bu metrikler model 3te şöyleydi:\n",
    "# MSE : 1770.809137891533  -> Yükselmiş. Ortalama karesel hata artmış demek.\n",
    "# R^2 : 0.881753266941408  -> Düşmüş. Açıklayıcılık oranımız düştü.\n",
    "# RMSE: 42.08098309083966  -> Yükselmiş. Ortalama hata payımız artmış.\n",
    "# MAPE: 0.1788281953319784 -> Düşmüş. Ortalama hata oranımız azalmış."
   ]
  },
  {
   "cell_type": "code",
   "execution_count": 96,
   "id": "5401bee6-51d2-4d34-821c-486547d2e2ec",
   "metadata": {},
   "outputs": [
    {
     "data": {
      "text/plain": [
       "<Axes: xlabel='Current_Ratio'>"
      ]
     },
     "execution_count": 96,
     "metadata": {},
     "output_type": "execute_result"
    },
    {
     "data": {
      "text/plain": [
       "Text(0.5, 0, 'Gerçek Current Ratio')"
      ]
     },
     "execution_count": 96,
     "metadata": {},
     "output_type": "execute_result"
    },
    {
     "data": {
      "text/plain": [
       "Text(0, 0.5, 'Tahmin Current Ratio (PLS)')"
      ]
     },
     "execution_count": 96,
     "metadata": {},
     "output_type": "execute_result"
    },
    {
     "data": {
      "text/plain": [
       "Text(0.5, 1.0, 'Gerçek vs Tahmin Current Ratio – PLS')"
      ]
     },
     "execution_count": 96,
     "metadata": {},
     "output_type": "execute_result"
    },
    {
     "data": {
      "image/png": "[encoded data removed]",
      "text/plain": [
       "<Figure size 640x480 with 1 Axes>"
      ]
     },
     "metadata": {},
     "output_type": "display_data"
    }
   ],
   "source": [
    "# KISMİ EN KÜÇÜK KARELER REGRESYONU (PLS)\n",
    "\n",
    "plsmodel_01 = PLSRegression().fit(x_egitimset, y_egitimset)\n",
    "ysapka_pls  = plsmodel_01.predict(x_egitimset)\n",
    "sbn.regplot(x=y_egitimset, y=ysapka_pls, line_kws={\"color\": \"red\"})\n",
    "plt.xlabel(\"Gerçek Current Ratio\")\n",
    "plt.ylabel(\"Tahmin Current Ratio (PLS)\")\n",
    "plt.title(\"Gerçek vs Tahmin Current Ratio – PLS\")\n",
    "plt.show()"
   ]
  },
  {
   "cell_type": "code",
   "execution_count": 97,
   "id": "9a729084-c43a-4223-8394-bf4cdd0aca1c",
   "metadata": {},
   "outputs": [],
   "source": [
    "# Optimum Bileşen Sayısı\n",
    "def optimumdeg_pls(x, y, n_comp):\n",
    "    pls = PLSRegression(n_components=n_comp)\n",
    "    y_pred = cross_val_predict(pls, x, y, cv=10)\n",
    "    return (r2_score(y, y_pred),\n",
    "            mean_squared_error(y, y_pred),\n",
    "            mean_absolute_percentage_error(y, y_pred))"
   ]
  },
  {
   "cell_type": "code",
   "execution_count": 98,
   "id": "c617738b-3b5b-4dc1-a64d-fe1eaf95641c",
   "metadata": {},
   "outputs": [],
   "source": [
    "R2, MSE, MAPE = [], [], []\n",
    "for i in range(1, x_egitimset.shape[1]):    \n",
    "    r2, mse, mape = optimumdeg_pls(x_egitimset, y_egitimset, i)\n",
    "    R2.append(r2)\n",
    "    MSE.append(mse)\n",
    "    MAPE.append(mape)"
   ]
  },
  {
   "cell_type": "code",
   "execution_count": 99,
   "id": "f75dedf5-99a9-4357-ab7a-178896a49b2a",
   "metadata": {},
   "outputs": [
    {
     "name": "stdout",
     "output_type": "stream",
     "text": [
      "R2 SCORES\n",
      " [0.6343420093510547, 0.8390231561544662, 0.8531840138891567, 0.8656268740563188, 0.8715954456978794, 0.8730171168690672, 0.874060564316081, 0.8737154489526807, 0.874038000194949, 0.8740221257084669, 0.8738987190837004] \n",
      "\n",
      "MSE SCORES\n",
      " [6214.483536707098, 2735.856924919697, 2495.1882686660642, 2283.7175730000286, 2182.279641510256, 2158.1178501262416, 2140.3841012496523, 2146.24945575841, 2140.7675862626456, 2141.0373786298846, 2143.1347167369245] \n",
      "\n",
      "MAPE SCORES\n",
      " [0.42190258921910545, 0.25328987375285544, 0.23720833281267936, 0.22863090223992152, 0.22021327083519923, 0.21981172025220788, 0.21540665568729042, 0.21594941488927621, 0.21597649145583578, 0.21567808861537444, 0.21583955090919027] \n",
      "\n"
     ]
    }
   ],
   "source": [
    "print(\"R2 SCORES\\n\", R2, \"\\n\")\n",
    "print(\"MSE SCORES\\n\", MSE, \"\\n\")\n",
    "print(\"MAPE SCORES\\n\", MAPE, \"\\n\")"
   ]
  },
  {
   "cell_type": "code",
   "execution_count": 100,
   "id": "abde2a32-d9e5-48ad-a204-e33b575ed1a3",
   "metadata": {},
   "outputs": [],
   "source": [
    "# R-squared için\n",
    "# Başta 0.63 ile başlıyor, sonrasında 2 bileşenle 0.83, 3-4 bileşenden sonra 0.85+ seviyelerine çıkıyor.\n",
    "# 5 bileşenden sonra artık R² neredeyse ~0.874 değerine sabitlenmiş.\n",
    "# Yani 5 PCA bileşeniyle veri setinin varyansının neredeyse tamamını açıklayabiliyoruz. Diğer bileşenler pek gerekli değil."
   ]
  },
  {
   "cell_type": "code",
   "execution_count": 101,
   "id": "527e1042-0734-4118-b371-fefd442860ad",
   "metadata": {},
   "outputs": [],
   "source": [
    "# MSE için\n",
    "# İlk bileşende hata çok yüksek, sonra hızla düşüyor. Özellikle 4-5 bileşen sonrası düşüş yavaşlıyor, yani artık anlamlı bir iyileşme olmuyor.\n",
    "# Minimum MSE değeri 2140 civarında ve bu değer 6-7 bileşenden sonra neredeyse sabit."
   ]
  },
  {
   "cell_type": "code",
   "execution_count": 102,
   "id": "7b0c2d83-daa3-4041-95f4-10e39a9353e4",
   "metadata": {},
   "outputs": [],
   "source": [
    "# MAPE için\n",
    "# Başta %42 gibi yüksek bir yüzde hatayla başlıyor, hızla %22’lere düşüyor.\n",
    "# 6 bileşenden sonra MAPE neredeyse sabitlenmiş.\n",
    "# 5-6 bileşenden sonrası çok ciddi iyileştirme sağlamıyor."
   ]
  },
  {
   "cell_type": "code",
   "execution_count": 103,
   "id": "33289c78-6e15-47ca-86c3-a160e2a0ab97",
   "metadata": {},
   "outputs": [],
   "source": [
    "# Hem R², hem MSE hem de MAPE açısından 5-6 bileşen yeterli."
   ]
  },
  {
   "cell_type": "code",
   "execution_count": 104,
   "id": "c248e9bd-b246-48ef-a010-1413d159d8e7",
   "metadata": {},
   "outputs": [],
   "source": [
    "# RIDGE REGRESYONU"
   ]
  },
  {
   "cell_type": "code",
   "execution_count": 105,
   "id": "eab779bb-474f-4771-b11f-744baa0a2c86",
   "metadata": {},
   "outputs": [
    {
     "name": "stdout",
     "output_type": "stream",
     "text": [
      "R2 : 0.8768388003826726\n",
      "MSE: 2093.1670220706146\n",
      "MAPE: 0.21180428455033282\n",
      "RMSE: 45.7511423034509\n"
     ]
    }
   ],
   "source": [
    "ridgemdl_1 = Ridge(alpha=0.45).fit(x_egitimset, y_egitimset)\n",
    "ysapka_ridge = ridgemdl_1.predict(x_egitimset)\n",
    "print(\"R2 :\", ridgemdl_1.score(x_egitimset, y_egitimset))\n",
    "print(\"MSE:\", mean_squared_error(y_egitimset, ysapka_ridge))\n",
    "print(\"MAPE:\", mean_absolute_percentage_error(y_egitimset, ysapka_ridge))\n",
    "print(\"RMSE:\", np.sqrt(mean_squared_error(y_egitimset, ysapka_ridge)))\n"
   ]
  },
  {
   "cell_type": "code",
   "execution_count": 106,
   "id": "b3339e29-2c38-4f21-b009-12137085b92e",
   "metadata": {},
   "outputs": [
    {
     "name": "stdout",
     "output_type": "stream",
     "text": [
      "R2 SCORES : [0.87683880038268, 0.8768388003826799, 0.8768388003826797, 0.8768388003826767, 0.8768388003826709, 0.8768388003826566, 0.8768388003826435, 0.876838800382598, 0.8768388003825341, 0.8768388003817681, 0.8768388003790325]\n",
      "MSE SCORES: [2093.167022070489, 2093.167022070491, 2093.1670220704955, 2093.1670220705446, 2093.167022070644, 2093.167022070886, 2093.167022071109, 2093.167022071884, 2093.167022072969, 2093.167022085987, 2093.167022132479]\n",
      "MAX R2 : 0.87683880038268 MIN MSE: 2093.167022070489\n"
     ]
    }
   ],
   "source": [
    "# RIDGE ALPHA OPTİMİZASYONU\n",
    "alphas_for = [0.01, 0.05, 0.1, 0.3, 0.5, 0.8, 1, 1.5, 2, 5, 10]\n",
    "R_2, MSE_for = [], []\n",
    "for a in alphas_for:\n",
    "    mdl = Ridge(alpha=a).fit(x_egitimset, y_egitimset)\n",
    "    pred = mdl.predict(x_egitimset)\n",
    "    R_2.append(mdl.score(x_egitimset, y_egitimset))\n",
    "    MSE_for.append(mean_squared_error(y_egitimset, pred))\n",
    "print(\"R2 SCORES :\", R_2)\n",
    "print(\"MSE SCORES:\", MSE_for)\n",
    "print(\"MAX R2 :\", max(R_2), \"MIN MSE:\", min(MSE_for))"
   ]
  },
  {
   "cell_type": "code",
   "execution_count": 107,
   "id": "fdb58221-ee4b-43ae-894d-59796b1042bb",
   "metadata": {},
   "outputs": [
    {
     "name": "stdout",
     "output_type": "stream",
     "text": [
      "LASSO R2 : 0.8768387820367671\n",
      "LASSO MSE: 2093.1673338655983\n"
     ]
    },
    {
     "data": {
      "text/plain": [
       "<Axes: xlabel='Current_Ratio'>"
      ]
     },
     "execution_count": 107,
     "metadata": {},
     "output_type": "execute_result"
    },
    {
     "data": {
      "image/png": "[encoded data removed]",
      "text/plain": [
       "<Figure size 640x480 with 1 Axes>"
      ]
     },
     "metadata": {},
     "output_type": "display_data"
    }
   ],
   "source": [
    "# LASSO REGRESYONU\n",
    "lassomodel_1 = Lasso(alpha=0.35).fit(x_egitimset, y_egitimset)\n",
    "lassopredict = lassomodel_1.predict(x_egitimset)\n",
    "print(\"LASSO R2 :\", lassomodel_1.score(x_egitimset, y_egitimset))\n",
    "print(\"LASSO MSE:\", mean_squared_error(y_egitimset, lassopredict))\n",
    "sbn.regplot(x=y_egitimset, y=lassopredict)"
   ]
  },
  {
   "cell_type": "code",
   "execution_count": 108,
   "id": "4d051308-49ff-498a-8844-c0c36c0770ca",
   "metadata": {},
   "outputs": [
    {
     "name": "stdout",
     "output_type": "stream",
     "text": [
      "Optimum Alpha : 619411011.2352048\n",
      "R2 : 0.11349251184352926\n",
      "MSE: 15066.500202931747\n",
      "RMSE: 122.74567284809574\n",
      "MAPE: 0.5779704891971625\n"
     ]
    }
   ],
   "source": [
    "# LASSO ALPHA OPTİMİZASYONU (CV)\n",
    "lassomodel_2 = LassoCV(cv=7, max_iter=1000, random_state=40).fit(x_egitimset, y_egitimset)\n",
    "lassopredict_2 = lassomodel_2.predict(x_egitimset)\n",
    "print(\"Optimum Alpha :\", lassomodel_2.alpha_)\n",
    "print(\"R2 :\", lassomodel_2.score(x_egitimset, y_egitimset))\n",
    "print(\"MSE:\", mean_squared_error(y_egitimset, lassopredict_2))\n",
    "print(\"RMSE:\", np.sqrt(mean_squared_error(y_egitimset, lassopredict_2)))\n",
    "print(\"MAPE:\", mean_absolute_percentage_error(y_egitimset, lassopredict_2))"
   ]
  },
  {
   "cell_type": "code",
   "execution_count": 109,
   "id": "5fb0c096-a74c-4580-b901-7bb7bdb5931d",
   "metadata": {},
   "outputs": [],
   "source": [
    "# Ridge Regresyonu tercih edilmelidir.\n",
    "# LassoCV'nin aşırı alfa seçmesi, modelin aşırı sadeleşmesine neden oldu.\n",
    "# Ridge, alfa değişiminden daha az etkileniyor ve stabil sonuç veriyor.\n",
    "\n",
    "# Ridge ve basit Lasso (alpha=0.35) benzer performans gösterdi, ancak Ridge'in optimizasyonu daha güvenilir."
   ]
  },
  {
   "cell_type": "code",
   "execution_count": 110,
   "id": "658f8fa1-342c-42bb-b4fa-266fc3113502",
   "metadata": {},
   "outputs": [],
   "source": [
    "# KNN EN YAKIN KOMŞULUK REGRESYONU"
   ]
  },
  {
   "cell_type": "code",
   "execution_count": 111,
   "id": "4e64146a-0bf5-42af-aac5-db7fcc4807d4",
   "metadata": {},
   "outputs": [
    {
     "name": "stdout",
     "output_type": "stream",
     "text": [
      "MSE : 7214.047405978785\n",
      "R^2 : 0.5755280284620106\n"
     ]
    }
   ],
   "source": [
    "knn_1 = KNeighborsRegressor(n_neighbors=5).fit(x_egitimset, y_egitimset)\n",
    "y_hat_knn = knn_1.predict(x_egitimset)\n",
    "print(\"MSE :\", mean_squared_error(y_egitimset, y_hat_knn))\n",
    "print(\"R^2 :\", r2_score(y_egitimset, y_hat_knn))"
   ]
  },
  {
   "cell_type": "code",
   "execution_count": 112,
   "id": "8430ea16-e64b-422c-8d8a-f5a9360eb7ca",
   "metadata": {},
   "outputs": [],
   "source": [
    "# k için basit tarama (1‑20)\n",
    "mse_k, r2_k = [], []\n",
    "for k in range(1, 21):\n",
    "    mdl = KNeighborsRegressor(n_neighbors=k).fit(x_egitimset, y_egitimset)\n",
    "    pred = mdl.predict(x_testset)\n",
    "    mse_k.append(mean_squared_error(y_testset, pred))\n",
    "    r2_k.append(r2_score(y_testset, pred))\n"
   ]
  },
  {
   "cell_type": "code",
   "execution_count": 113,
   "id": "a422f6df-14a4-49e9-afbc-64e4ca215fc8",
   "metadata": {},
   "outputs": [
    {
     "name": "stdout",
     "output_type": "stream",
     "text": [
      "MSE listesi: [8451.608988764045, 7809.079213483146, 8097.520349563046, 8647.935533707865, 8944.008808988763, 9272.6822721598, 9426.94785599633, 9762.56021769663, 9769.019864058815, 9731.335460674158, 9662.598087101867, 9594.435674157303, 9756.268811914102, 9742.093166704884, 9797.277213483145, 9776.848498946629, 9903.191438902064, 9848.85723401304, 9771.937109776214, 9684.846898876405]\n",
      "R² listesi: [0.43563926194783753, 0.47854453343875725, 0.4592837213662785, 0.42252945126551344, 0.40275899899101886, 0.38081165162793507, 0.37051048425663624, 0.34809978821042586, 0.34766844184864254, 0.3501848381627046, 0.3547748132707105, 0.35932639507341235, 0.348519900216972, 0.3494664865537601, 0.3457815421354975, 0.3471456805414048, 0.33870906274049584, 0.3423372585093032, 0.3474736411960876, 0.3532891368923363]\n",
      "min MSE : 7809.079213483146\n",
      "max R² : 0.47854453343875725\n"
     ]
    }
   ],
   "source": [
    "print(\"MSE listesi:\", mse_k)\n",
    "print(\"R² listesi:\", r2_k)\n",
    "print(\"min MSE :\", min(mse_k))\n",
    "print(\"max R² :\", max(r2_k))\n"
   ]
  },
  {
   "cell_type": "code",
   "execution_count": 114,
   "id": "87f10db8-ff9a-43fd-aa29-18751d708c7a",
   "metadata": {},
   "outputs": [
    {
     "name": "stdout",
     "output_type": "stream",
     "text": [
      "En iyi k : 2\n"
     ]
    }
   ],
   "source": [
    "param_grid = {\"n_neighbors\": list(range(1, 15))}\n",
    "grid_knn   = GridSearchCV(KNeighborsRegressor(), param_grid, cv=5).fit(x_egitimset, y_egitimset)\n",
    "best_k     = grid_knn.best_params_[\"n_neighbors\"]\n",
    "print(\"En iyi k :\", best_k)"
   ]
  },
  {
   "cell_type": "code",
   "execution_count": 115,
   "id": "245bdf77-b810-4be2-adab-49e4894eac85",
   "metadata": {},
   "outputs": [
    {
     "name": "stdout",
     "output_type": "stream",
     "text": [
      "BEST MSE : 7809.079213483146\n",
      "BEST R² : 0.47854453343875725\n"
     ]
    }
   ],
   "source": [
    "knn_best = KNeighborsRegressor(n_neighbors=best_k).fit(x_egitimset, y_egitimset)\n",
    "y_hat_best = knn_best.predict(x_testset)\n",
    "print(\"BEST MSE :\", mean_squared_error(y_testset, y_hat_best))\n",
    "print(\"BEST R² :\", r2_score(y_testset, y_hat_best))"
   ]
  },
  {
   "cell_type": "code",
   "execution_count": 116,
   "id": "230ee760-7c25-4d2f-9862-aabc4c328f07",
   "metadata": {},
   "outputs": [],
   "source": [
    "# Eğitim setiyle KNN için\n",
    "# Model eğitim verisinde orta düzey performans gösteriyor.\n",
    "# R² değeri, modelin bağımlı değişkenin yaklaşık %57'sini açıkladığını gösteriyor."
   ]
  },
  {
   "cell_type": "code",
   "execution_count": 117,
   "id": "951c5b62-8ebc-432d-b7d8-4098b280c6d7",
   "metadata": {},
   "outputs": [],
   "source": [
    "#GridSearch için\n",
    "\n",
    "# Optimum k Değeri: 2\n",
    "# Modelin test verisindeki performansı, eğitim verisine göre daha düşük.\n",
    "\n",
    "# k Değerlerinin Etkisi:\n",
    "# k=1-20 aralığında en iyi performans k=2 ile elde edilmiş.\n",
    "# Ancak R-squared değerleri genel olarak düşük (0.34-0.48 arası)."
   ]
  },
  {
   "cell_type": "code",
   "execution_count": 118,
   "id": "b6449e7d-3a58-465a-8c6f-4bf51da25c49",
   "metadata": {},
   "outputs": [],
   "source": [
    "# KNN, bu veri setinde yetersiz kaldı."
   ]
  },
  {
   "cell_type": "code",
   "execution_count": 119,
   "id": "474fc37a-77ff-4c0d-ace4-3c69b6c321ae",
   "metadata": {},
   "outputs": [],
   "source": [
    "# SUPPORT VECTOR MACHINES – DESTEK VEKTÖR MAKİNESİ REGRESYONU"
   ]
  },
  {
   "cell_type": "code",
   "execution_count": 120,
   "id": "51d2bf13-db35-4836-856f-423dc24a90f8",
   "metadata": {},
   "outputs": [],
   "source": [
    "from sklearn.svm import SVR\n",
    "from sklearn.model_selection import GridSearchCV"
   ]
  },
  {
   "cell_type": "code",
   "execution_count": 121,
   "id": "a35cd4ef-1fc7-4c83-8577-68f78e0abc9c",
   "metadata": {},
   "outputs": [],
   "source": [
    "# YAPAY SİNİR AĞLARI (ANN)"
   ]
  },
  {
   "cell_type": "code",
   "execution_count": 122,
   "id": "40886ac1-a74f-4e34-b49c-da58f65ff31b",
   "metadata": {},
   "outputs": [],
   "source": [
    "# Ölçekleme\n",
    "scl = StandardScaler().fit(x_egitimset)\n",
    "x_train_scl = scl.transform(x_egitimset)\n",
    "x_test_scl  = scl.transform(x_testset)\n"
   ]
  },
  {
   "cell_type": "code",
   "execution_count": 123,
   "id": "516602b0-4528-4da7-b4c3-616fab7e6ea6",
   "metadata": {},
   "outputs": [
    {
     "name": "stdout",
     "output_type": "stream",
     "text": [
      "Katman: 3   Gizli: (100,)\n",
      "MSE : 1475.1802400921001\n",
      "R^2 : 0.9014940456704573\n"
     ]
    }
   ],
   "source": [
    "ann_1 = MLPRegressor(random_state=42, max_iter=2000).fit(x_train_scl, y_egitimset)\n",
    "print(\"Katman:\", ann_1.n_layers_, \"  Gizli:\", ann_1.hidden_layer_sizes)\n",
    "print(\"MSE :\", mean_squared_error(y_testset, ann_1.predict(x_test_scl)))\n",
    "print(\"R^2 :\", r2_score(y_testset,  ann_1.predict(x_test_scl)))\n"
   ]
  },
  {
   "cell_type": "code",
   "execution_count": 124,
   "id": "7194878b-f628-45ca-9e1f-9f568e72b88a",
   "metadata": {},
   "outputs": [
    {
     "data": {
      "text/html": [
       "<style>#sk-container-id-1 {\n",
       "  /* Definition of color scheme common for light and dark mode */\n",
       "  --sklearn-color-text: black;\n",
       "  --sklearn-color-line: gray;\n",
       "  /* Definition of color scheme for unfitted estimators */\n",
       "  --sklearn-color-unfitted-level-0: #fff5e6;\n",
       "  --sklearn-color-unfitted-level-1: #f6e4d2;\n",
       "  --sklearn-color-unfitted-level-2: #ffe0b3;\n",
       "  --sklearn-color-unfitted-level-3: chocolate;\n",
       "  /* Definition of color scheme for fitted estimators */\n",
       "  --sklearn-color-fitted-level-0: #f0f8ff;\n",
       "  --sklearn-color-fitted-level-1: #d4ebff;\n",
       "  --sklearn-color-fitted-level-2: #b3dbfd;\n",
       "  --sklearn-color-fitted-level-3: cornflowerblue;\n",
       "\n",
       "  /* Specific color for light theme */\n",
       "  --sklearn-color-text-on-default-background: var(--sg-text-color, var(--theme-code-foreground, var(--jp-content-font-color1, black)));\n",
       "  --sklearn-color-background: var(--sg-background-color, var(--theme-background, var(--jp-layout-color0, white)));\n",
       "  --sklearn-color-border-box: var(--sg-text-color, var(--theme-code-foreground, var(--jp-content-font-color1, black)));\n",
       "  --sklearn-color-icon: #696969;\n",
       "\n",
       "  @media (prefers-color-scheme: dark) {\n",
       "    /* Redefinition of color scheme for dark theme */\n",
       "    --sklearn-color-text-on-default-background: var(--sg-text-color, var(--theme-code-foreground, var(--jp-content-font-color1, white)));\n",
       "    --sklearn-color-background: var(--sg-background-color, var(--theme-background, var(--jp-layout-color0, #111)));\n",
       "    --sklearn-color-border-box: var(--sg-text-color, var(--theme-code-foreground, var(--jp-content-font-color1, white)));\n",
       "    --sklearn-color-icon: #878787;\n",
       "  }\n",
       "}\n",
       "\n",
       "#sk-container-id-1 {\n",
       "  color: var(--sklearn-color-text);\n",
       "}\n",
       "\n",
       "#sk-container-id-1 pre {\n",
       "  padding: 0;\n",
       "}\n",
       "\n",
       "#sk-container-id-1 input.sk-hidden--visually {\n",
       "  border: 0;\n",
       "  clip: rect(1px 1px 1px 1px);\n",
       "  clip: rect(1px, 1px, 1px, 1px);\n",
       "  height: 1px;\n",
       "  margin: -1px;\n",
       "  overflow: hidden;\n",
       "  padding: 0;\n",
       "  position: absolute;\n",
       "  width: 1px;\n",
       "}\n",
       "\n",
       "#sk-container-id-1 div.sk-dashed-wrapped {\n",
       "  border: 1px dashed var(--sklearn-color-line);\n",
       "  margin: 0 0.4em 0.5em 0.4em;\n",
       "  box-sizing: border-box;\n",
       "  padding-bottom: 0.4em;\n",
       "  background-color: var(--sklearn-color-background);\n",
       "}\n",
       "\n",
       "#sk-container-id-1 div.sk-container {\n",
       "  /* jupyter's `normalize.less` sets `[hidden] { display: none; }`\n",
       "     but bootstrap.min.css set `[hidden] { display: none !important; }`\n",
       "     so we also need the `!important` here to be able to override the\n",
       "     default hidden behavior on the sphinx rendered scikit-learn.org.\n",
       "     See: https://github.com/scikit-learn/scikit-learn/issues/21755 */\n",
       "  display: inline-block !important;\n",
       "  position: relative;\n",
       "}\n",
       "\n",
       "#sk-container-id-1 div.sk-text-repr-fallback {\n",
       "  display: none;\n",
       "}\n",
       "\n",
       "div.sk-parallel-item,\n",
       "div.sk-serial,\n",
       "div.sk-item {\n",
       "  /* draw centered vertical line to link estimators */\n",
       "  background-image: linear-gradient(var(--sklearn-color-text-on-default-background), var(--sklearn-color-text-on-default-background));\n",
       "  background-size: 2px 100%;\n",
       "  background-repeat: no-repeat;\n",
       "  background-position: center center;\n",
       "}\n",
       "\n",
       "/* Parallel-specific style estimator block */\n",
       "\n",
       "#sk-container-id-1 div.sk-parallel-item::after {\n",
       "  content: \"\";\n",
       "  width: 100%;\n",
       "  border-bottom: 2px solid var(--sklearn-color-text-on-default-background);\n",
       "  flex-grow: 1;\n",
       "}\n",
       "\n",
       "#sk-container-id-1 div.sk-parallel {\n",
       "  display: flex;\n",
       "  align-items: stretch;\n",
       "  justify-content: center;\n",
       "  background-color: var(--sklearn-color-background);\n",
       "  position: relative;\n",
       "}\n",
       "\n",
       "#sk-container-id-1 div.sk-parallel-item {\n",
       "  display: flex;\n",
       "  flex-direction: column;\n",
       "}\n",
       "\n",
       "#sk-container-id-1 div.sk-parallel-item:first-child::after {\n",
       "  align-self: flex-end;\n",
       "  width: 50%;\n",
       "}\n",
       "\n",
       "#sk-container-id-1 div.sk-parallel-item:last-child::after {\n",
       "  align-self: flex-start;\n",
       "  width: 50%;\n",
       "}\n",
       "\n",
       "#sk-container-id-1 div.sk-parallel-item:only-child::after {\n",
       "  width: 0;\n",
       "}\n",
       "\n",
       "/* Serial-specific style estimator block */\n",
       "\n",
       "#sk-container-id-1 div.sk-serial {\n",
       "  display: flex;\n",
       "  flex-direction: column;\n",
       "  align-items: center;\n",
       "  background-color: var(--sklearn-color-background);\n",
       "  padding-right: 1em;\n",
       "  padding-left: 1em;\n",
       "}\n",
       "\n",
       "\n",
       "/* Toggleable style: style used for estimator/Pipeline/ColumnTransformer box that is\n",
       "clickable and can be expanded/collapsed.\n",
       "- Pipeline and ColumnTransformer use this feature and define the default style\n",
       "- Estimators will overwrite some part of the style using the `sk-estimator` class\n",
       "*/\n",
       "\n",
       "/* Pipeline and ColumnTransformer style (default) */\n",
       "\n",
       "#sk-container-id-1 div.sk-toggleable {\n",
       "  /* Default theme specific background. It is overwritten whether we have a\n",
       "  specific estimator or a Pipeline/ColumnTransformer */\n",
       "  background-color: var(--sklearn-color-background);\n",
       "}\n",
       "\n",
       "/* Toggleable label */\n",
       "#sk-container-id-1 label.sk-toggleable__label {\n",
       "  cursor: pointer;\n",
       "  display: block;\n",
       "  width: 100%;\n",
       "  margin-bottom: 0;\n",
       "  padding: 0.5em;\n",
       "  box-sizing: border-box;\n",
       "  text-align: center;\n",
       "}\n",
       "\n",
       "#sk-container-id-1 label.sk-toggleable__label-arrow:before {\n",
       "  /* Arrow on the left of the label */\n",
       "  content: \"▸\";\n",
       "  float: left;\n",
       "  margin-right: 0.25em;\n",
       "  color: var(--sklearn-color-icon);\n",
       "}\n",
       "\n",
       "#sk-container-id-1 label.sk-toggleable__label-arrow:hover:before {\n",
       "  color: var(--sklearn-color-text);\n",
       "}\n",
       "\n",
       "/* Toggleable content - dropdown */\n",
       "\n",
       "#sk-container-id-1 div.sk-toggleable__content {\n",
       "  max-height: 0;\n",
       "  max-width: 0;\n",
       "  overflow: hidden;\n",
       "  text-align: left;\n",
       "  /* unfitted */\n",
       "  background-color: var(--sklearn-color-unfitted-level-0);\n",
       "}\n",
       "\n",
       "#sk-container-id-1 div.sk-toggleable__content.fitted {\n",
       "  /* fitted */\n",
       "  background-color: var(--sklearn-color-fitted-level-0);\n",
       "}\n",
       "\n",
       "#sk-container-id-1 div.sk-toggleable__content pre {\n",
       "  margin: 0.2em;\n",
       "  border-radius: 0.25em;\n",
       "  color: var(--sklearn-color-text);\n",
       "  /* unfitted */\n",
       "  background-color: var(--sklearn-color-unfitted-level-0);\n",
       "}\n",
       "\n",
       "#sk-container-id-1 div.sk-toggleable__content.fitted pre {\n",
       "  /* unfitted */\n",
       "  background-color: var(--sklearn-color-fitted-level-0);\n",
       "}\n",
       "\n",
       "#sk-container-id-1 input.sk-toggleable__control:checked~div.sk-toggleable__content {\n",
       "  /* Expand drop-down */\n",
       "  max-height: 200px;\n",
       "  max-width: 100%;\n",
       "  overflow: auto;\n",
       "}\n",
       "\n",
       "#sk-container-id-1 input.sk-toggleable__control:checked~label.sk-toggleable__label-arrow:before {\n",
       "  content: \"▾\";\n",
       "}\n",
       "\n",
       "/* Pipeline/ColumnTransformer-specific style */\n",
       "\n",
       "#sk-container-id-1 div.sk-label input.sk-toggleable__control:checked~label.sk-toggleable__label {\n",
       "  color: var(--sklearn-color-text);\n",
       "  background-color: var(--sklearn-color-unfitted-level-2);\n",
       "}\n",
       "\n",
       "#sk-container-id-1 div.sk-label.fitted input.sk-toggleable__control:checked~label.sk-toggleable__label {\n",
       "  background-color: var(--sklearn-color-fitted-level-2);\n",
       "}\n",
       "\n",
       "/* Estimator-specific style */\n",
       "\n",
       "/* Colorize estimator box */\n",
       "#sk-container-id-1 div.sk-estimator input.sk-toggleable__control:checked~label.sk-toggleable__label {\n",
       "  /* unfitted */\n",
       "  background-color: var(--sklearn-color-unfitted-level-2);\n",
       "}\n",
       "\n",
       "#sk-container-id-1 div.sk-estimator.fitted input.sk-toggleable__control:checked~label.sk-toggleable__label {\n",
       "  /* fitted */\n",
       "  background-color: var(--sklearn-color-fitted-level-2);\n",
       "}\n",
       "\n",
       "#sk-container-id-1 div.sk-label label.sk-toggleable__label,\n",
       "#sk-container-id-1 div.sk-label label {\n",
       "  /* The background is the default theme color */\n",
       "  color: var(--sklearn-color-text-on-default-background);\n",
       "}\n",
       "\n",
       "/* On hover, darken the color of the background */\n",
       "#sk-container-id-1 div.sk-label:hover label.sk-toggleable__label {\n",
       "  color: var(--sklearn-color-text);\n",
       "  background-color: var(--sklearn-color-unfitted-level-2);\n",
       "}\n",
       "\n",
       "/* Label box, darken color on hover, fitted */\n",
       "#sk-container-id-1 div.sk-label.fitted:hover label.sk-toggleable__label.fitted {\n",
       "  color: var(--sklearn-color-text);\n",
       "  background-color: var(--sklearn-color-fitted-level-2);\n",
       "}\n",
       "\n",
       "/* Estimator label */\n",
       "\n",
       "#sk-container-id-1 div.sk-label label {\n",
       "  font-family: monospace;\n",
       "  font-weight: bold;\n",
       "  display: inline-block;\n",
       "  line-height: 1.2em;\n",
       "}\n",
       "\n",
       "#sk-container-id-1 div.sk-label-container {\n",
       "  text-align: center;\n",
       "}\n",
       "\n",
       "/* Estimator-specific */\n",
       "#sk-container-id-1 div.sk-estimator {\n",
       "  font-family: monospace;\n",
       "  border: 1px dotted var(--sklearn-color-border-box);\n",
       "  border-radius: 0.25em;\n",
       "  box-sizing: border-box;\n",
       "  margin-bottom: 0.5em;\n",
       "  /* unfitted */\n",
       "  background-color: var(--sklearn-color-unfitted-level-0);\n",
       "}\n",
       "\n",
       "#sk-container-id-1 div.sk-estimator.fitted {\n",
       "  /* fitted */\n",
       "  background-color: var(--sklearn-color-fitted-level-0);\n",
       "}\n",
       "\n",
       "/* on hover */\n",
       "#sk-container-id-1 div.sk-estimator:hover {\n",
       "  /* unfitted */\n",
       "  background-color: var(--sklearn-color-unfitted-level-2);\n",
       "}\n",
       "\n",
       "#sk-container-id-1 div.sk-estimator.fitted:hover {\n",
       "  /* fitted */\n",
       "  background-color: var(--sklearn-color-fitted-level-2);\n",
       "}\n",
       "\n",
       "/* Specification for estimator info (e.g. \"i\" and \"?\") */\n",
       "\n",
       "/* Common style for \"i\" and \"?\" */\n",
       "\n",
       ".sk-estimator-doc-link,\n",
       "a:link.sk-estimator-doc-link,\n",
       "a:visited.sk-estimator-doc-link {\n",
       "  float: right;\n",
       "  font-size: smaller;\n",
       "  line-height: 1em;\n",
       "  font-family: monospace;\n",
       "  background-color: var(--sklearn-color-background);\n",
       "  border-radius: 1em;\n",
       "  height: 1em;\n",
       "  width: 1em;\n",
       "  text-decoration: none !important;\n",
       "  margin-left: 1ex;\n",
       "  /* unfitted */\n",
       "  border: var(--sklearn-color-unfitted-level-1) 1pt solid;\n",
       "  color: var(--sklearn-color-unfitted-level-1);\n",
       "}\n",
       "\n",
       ".sk-estimator-doc-link.fitted,\n",
       "a:link.sk-estimator-doc-link.fitted,\n",
       "a:visited.sk-estimator-doc-link.fitted {\n",
       "  /* fitted */\n",
       "  border: var(--sklearn-color-fitted-level-1) 1pt solid;\n",
       "  color: var(--sklearn-color-fitted-level-1);\n",
       "}\n",
       "\n",
       "/* On hover */\n",
       "div.sk-estimator:hover .sk-estimator-doc-link:hover,\n",
       ".sk-estimator-doc-link:hover,\n",
       "div.sk-label-container:hover .sk-estimator-doc-link:hover,\n",
       ".sk-estimator-doc-link:hover {\n",
       "  /* unfitted */\n",
       "  background-color: var(--sklearn-color-unfitted-level-3);\n",
       "  color: var(--sklearn-color-background);\n",
       "  text-decoration: none;\n",
       "}\n",
       "\n",
       "div.sk-estimator.fitted:hover .sk-estimator-doc-link.fitted:hover,\n",
       ".sk-estimator-doc-link.fitted:hover,\n",
       "div.sk-label-container:hover .sk-estimator-doc-link.fitted:hover,\n",
       ".sk-estimator-doc-link.fitted:hover {\n",
       "  /* fitted */\n",
       "  background-color: var(--sklearn-color-fitted-level-3);\n",
       "  color: var(--sklearn-color-background);\n",
       "  text-decoration: none;\n",
       "}\n",
       "\n",
       "/* Span, style for the box shown on hovering the info icon */\n",
       ".sk-estimator-doc-link span {\n",
       "  display: none;\n",
       "  z-index: 9999;\n",
       "  position: relative;\n",
       "  font-weight: normal;\n",
       "  right: .2ex;\n",
       "  padding: .5ex;\n",
       "  margin: .5ex;\n",
       "  width: min-content;\n",
       "  min-width: 20ex;\n",
       "  max-width: 50ex;\n",
       "  color: var(--sklearn-color-text);\n",
       "  box-shadow: 2pt 2pt 4pt #999;\n",
       "  /* unfitted */\n",
       "  background: var(--sklearn-color-unfitted-level-0);\n",
       "  border: .5pt solid var(--sklearn-color-unfitted-level-3);\n",
       "}\n",
       "\n",
       ".sk-estimator-doc-link.fitted span {\n",
       "  /* fitted */\n",
       "  background: var(--sklearn-color-fitted-level-0);\n",
       "  border: var(--sklearn-color-fitted-level-3);\n",
       "}\n",
       "\n",
       ".sk-estimator-doc-link:hover span {\n",
       "  display: block;\n",
       "}\n",
       "\n",
       "/* \"?\"-specific style due to the `<a>` HTML tag */\n",
       "\n",
       "#sk-container-id-1 a.estimator_doc_link {\n",
       "  float: right;\n",
       "  font-size: 1rem;\n",
       "  line-height: 1em;\n",
       "  font-family: monospace;\n",
       "  background-color: var(--sklearn-color-background);\n",
       "  border-radius: 1rem;\n",
       "  height: 1rem;\n",
       "  width: 1rem;\n",
       "  text-decoration: none;\n",
       "  /* unfitted */\n",
       "  color: var(--sklearn-color-unfitted-level-1);\n",
       "  border: var(--sklearn-color-unfitted-level-1) 1pt solid;\n",
       "}\n",
       "\n",
       "#sk-container-id-1 a.estimator_doc_link.fitted {\n",
       "  /* fitted */\n",
       "  border: var(--sklearn-color-fitted-level-1) 1pt solid;\n",
       "  color: var(--sklearn-color-fitted-level-1);\n",
       "}\n",
       "\n",
       "/* On hover */\n",
       "#sk-container-id-1 a.estimator_doc_link:hover {\n",
       "  /* unfitted */\n",
       "  background-color: var(--sklearn-color-unfitted-level-3);\n",
       "  color: var(--sklearn-color-background);\n",
       "  text-decoration: none;\n",
       "}\n",
       "\n",
       "#sk-container-id-1 a.estimator_doc_link.fitted:hover {\n",
       "  /* fitted */\n",
       "  background-color: var(--sklearn-color-fitted-level-3);\n",
       "}\n",
       "</style><div id=\"sk-container-id-1\" class=\"sk-top-container\"><div class=\"sk-text-repr-fallback\"><pre>GridSearchCV(cv=5, estimator=MLPRegressor(random_state=42), n_jobs=-1,\n",
       "             param_grid={&#x27;activation&#x27;: [&#x27;relu&#x27;], &#x27;alpha&#x27;: [0.01, 0.1],\n",
       "                         &#x27;hidden_layer_sizes&#x27;: [(50, 30), (100,)],\n",
       "                         &#x27;max_iter&#x27;: [1500]})</pre><b>In a Jupyter environment, please rerun this cell to show the HTML representation or trust the notebook. <br />On GitHub, the HTML representation is unable to render, please try loading this page with nbviewer.org.</b></div><div class=\"sk-container\" hidden><div class=\"sk-item sk-dashed-wrapped\"><div class=\"sk-label-container\"><div class=\"sk-label fitted sk-toggleable\"><input class=\"sk-toggleable__control sk-hidden--visually\" id=\"sk-estimator-id-1\" type=\"checkbox\" ><label for=\"sk-estimator-id-1\" class=\"sk-toggleable__label fitted sk-toggleable__label-arrow fitted\">&nbsp;&nbsp;GridSearchCV<a class=\"sk-estimator-doc-link fitted\" rel=\"noreferrer\" target=\"_blank\" href=\"https://scikit-learn.org/1.5/modules/generated/sklearn.model_selection.GridSearchCV.html\">?<span>Documentation for GridSearchCV</span></a><span class=\"sk-estimator-doc-link fitted\">i<span>Fitted</span></span></label><div class=\"sk-toggleable__content fitted\"><pre>GridSearchCV(cv=5, estimator=MLPRegressor(random_state=42), n_jobs=-1,\n",
       "             param_grid={&#x27;activation&#x27;: [&#x27;relu&#x27;], &#x27;alpha&#x27;: [0.01, 0.1],\n",
       "                         &#x27;hidden_layer_sizes&#x27;: [(50, 30), (100,)],\n",
       "                         &#x27;max_iter&#x27;: [1500]})</pre></div> </div></div><div class=\"sk-parallel\"><div class=\"sk-parallel-item\"><div class=\"sk-item\"><div class=\"sk-label-container\"><div class=\"sk-label fitted sk-toggleable\"><input class=\"sk-toggleable__control sk-hidden--visually\" id=\"sk-estimator-id-2\" type=\"checkbox\" ><label for=\"sk-estimator-id-2\" class=\"sk-toggleable__label fitted sk-toggleable__label-arrow fitted\">best_estimator_: MLPRegressor</label><div class=\"sk-toggleable__content fitted\"><pre>MLPRegressor(alpha=0.01, hidden_layer_sizes=(50, 30), max_iter=1500,\n",
       "             random_state=42)</pre></div> </div></div><div class=\"sk-serial\"><div class=\"sk-item\"><div class=\"sk-estimator fitted sk-toggleable\"><input class=\"sk-toggleable__control sk-hidden--visually\" id=\"sk-estimator-id-3\" type=\"checkbox\" ><label for=\"sk-estimator-id-3\" class=\"sk-toggleable__label fitted sk-toggleable__label-arrow fitted\">&nbsp;MLPRegressor<a class=\"sk-estimator-doc-link fitted\" rel=\"noreferrer\" target=\"_blank\" href=\"https://scikit-learn.org/1.5/modules/generated/sklearn.neural_network.MLPRegressor.html\">?<span>Documentation for MLPRegressor</span></a></label><div class=\"sk-toggleable__content fitted\"><pre>MLPRegressor(alpha=0.01, hidden_layer_sizes=(50, 30), max_iter=1500,\n",
       "             random_state=42)</pre></div> </div></div></div></div></div></div></div></div></div>"
      ],
      "text/plain": [
       "GridSearchCV(cv=5, estimator=MLPRegressor(random_state=42), n_jobs=-1,\n",
       "             param_grid={'activation': ['relu'], 'alpha': [0.01, 0.1],\n",
       "                         'hidden_layer_sizes': [(50, 30), (100,)],\n",
       "                         'max_iter': [1500]})"
      ]
     },
     "execution_count": 124,
     "metadata": {},
     "output_type": "execute_result"
    },
    {
     "name": "stdout",
     "output_type": "stream",
     "text": [
      "En iyi parametreler: {'activation': 'relu', 'alpha': 0.01, 'hidden_layer_sizes': (50, 30), 'max_iter': 1500}\n"
     ]
    }
   ],
   "source": [
    "# Hiperparametre Taraması\n",
    "param_grid = {\n",
    "    \"alpha\": [0.01, 0.1],\n",
    "    \"hidden_layer_sizes\": [(50, 30), (100,)],\n",
    "    \"activation\": [\"relu\"],\n",
    "    \"max_iter\": [1500]\n",
    "}\n",
    "\n",
    "gs_ann = GridSearchCV(MLPRegressor(random_state=42), param_grid, cv=5, n_jobs=-1)\n",
    "gs_ann.fit(x_train_scl, y_egitimset)\n",
    "print(\"En iyi parametreler:\", gs_ann.best_params_)"
   ]
  },
  {
   "cell_type": "code",
   "execution_count": 252,
   "id": "d282428b-912a-44ca-be1c-92d5c2ff602b",
   "metadata": {},
   "outputs": [
    {
     "name": "stdout",
     "output_type": "stream",
     "text": [
      "BEST MSE : 1300.1572207776621\n",
      "BEST R^2 : 0.9131813019654103\n"
     ]
    }
   ],
   "source": [
    "best_ann = MLPRegressor(**gs_ann.best_params_, random_state=42).fit(x_train_scl, y_egitimset)\n",
    "print(\"BEST MSE :\", mean_squared_error(y_testset, best_ann.predict(x_test_scl)))\n",
    "print(\"BEST R^2 :\", r2_score(y_testset,  best_ann.predict(x_test_scl)))"
   ]
  },
  {
   "cell_type": "code",
   "execution_count": 254,
   "id": "860f2579-a3d7-4a03-ab97-998dee537743",
   "metadata": {},
   "outputs": [],
   "source": [
    "# Temel ANN Modeli (Hiperparametre Optimizasyonsuz)\n",
    "# MSE: 1475.18\n",
    "\n",
    "# R²: 0.901\n",
    "\n",
    "# Yapı: 3 katman (1 gizli katman, 100 nöron)\n",
    "\n",
    "# Yorum: Başlangıç modeli zaten yüksek performans gösteriyor (R² > 0.9).\n",
    "\n",
    "# GridSearch ile Optimize Edilmiş ANN\n",
    "# En İyi Parametreler:\n",
    "\n",
    "# alpha=0.01 (regularizasyon),\n",
    "\n",
    "# hidden_layer_sizes=(50, 30) (2 gizli katman),\n",
    "\n",
    "# activation=relu.\n",
    "\n",
    "# Test Performansı:\n",
    "\n",
    "# MSE: 1300.16 (önceki modelden %12 daha iyi),\n",
    "\n",
    "# R²: 0.913 (önceki modelden %1.2 daha iyi)."
   ]
  },
  {
   "cell_type": "code",
   "execution_count": 256,
   "id": "09ffd0ec-e0a5-4c3e-9c77-f68d8215048e",
   "metadata": {},
   "outputs": [],
   "source": [
    "# ANN, bu veri setinde en iyi performansı gösterdi (MSE: 1300, R²: 0.913).\n",
    "\n",
    "# Ridge, basitliği ve hızıyla makul bir alternatif (MSE: 2093, R²: 0.877).\n",
    "\n",
    "# KNN, yüksek boyutlu veride başarısız oldu (MSE: 7809, R²: 0.478)."
   ]
  },
  {
   "cell_type": "code",
   "execution_count": 258,
   "id": "3576b202-b137-4105-aca9-9e58261ece08",
   "metadata": {},
   "outputs": [],
   "source": [
    "# CART (Classification and Regression Tree)"
   ]
  },
  {
   "cell_type": "code",
   "execution_count": 260,
   "id": "a4266707-4211-4eb1-97ee-41d57a02cf7f",
   "metadata": {},
   "outputs": [
    {
     "name": "stdout",
     "output_type": "stream",
     "text": [
      "Başlangıç MSE : 2352.0988764044946\n",
      "Başlangıç R²  : 0.8429373318590517\n"
     ]
    }
   ],
   "source": [
    "cart_0 = DecisionTreeRegressor().fit(x_egitimset, y_egitimset)\n",
    "pred_0 = cart_0.predict(x_testset)\n",
    "print(\"Başlangıç MSE :\", mean_squared_error(y_testset, pred_0))\n",
    "print(\"Başlangıç R²  :\", r2_score(y_testset,  pred_0))"
   ]
  },
  {
   "cell_type": "code",
   "execution_count": 262,
   "id": "bd441388-a3f1-4b30-a111-128f9ba510d6",
   "metadata": {},
   "outputs": [
    {
     "name": "stdout",
     "output_type": "stream",
     "text": [
      "En iyi parametreler: {'max_leaf_nodes': 10, 'min_samples_split': 2}\n"
     ]
    }
   ],
   "source": [
    "param_grid = {\n",
    "    \"min_samples_split\": [2, 4, 6],\n",
    "    \"max_leaf_nodes\": [5, 10]\n",
    "}\n",
    "cart_grid = GridSearchCV(DecisionTreeRegressor(), param_grid, cv=5).fit(x_egitimset, y_egitimset)\n",
    "best_params = cart_grid.best_params_\n",
    "print(\"En iyi parametreler:\", best_params)"
   ]
  },
  {
   "cell_type": "code",
   "execution_count": 264,
   "id": "09d69109-99ac-48fa-9404-76be0276a5c9",
   "metadata": {},
   "outputs": [
    {
     "name": "stdout",
     "output_type": "stream",
     "text": [
      "Best MSE : 2548.55759018373\n",
      "Best R²  : 0.8298186955316225\n"
     ]
    }
   ],
   "source": [
    "cart_best = DecisionTreeRegressor(**best_params).fit(x_egitimset, y_egitimset)\n",
    "pred_best = cart_best.predict(x_testset)\n",
    "print(\"Best MSE :\", mean_squared_error(y_testset, pred_best))\n",
    "print(\"Best R²  :\", r2_score(y_testset,  pred_best))"
   ]
  },
  {
   "cell_type": "code",
   "execution_count": 266,
   "id": "57179cba-e3dc-4cea-a9c4-5b4286d1c726",
   "metadata": {},
   "outputs": [],
   "source": [
    "#  Temel CART Modeli (Hiperparametre Optimizasyonsuz)\n",
    "# MSE: 2352.10\n",
    "\n",
    "# R²: 0.8429\n",
    "\n",
    "# Yorum: Başlangıç modeli oldukça iyi performans gösteriyor (R² > 0.84)"
   ]
  },
  {
   "cell_type": "code",
   "execution_count": 270,
   "id": "4f245033-b6a2-4ea4-8412-a7464a550a00",
   "metadata": {},
   "outputs": [],
   "source": [
    "# GridSearch ile Optimize Edilmiş CART\n",
    "# En İyi Parametreler:\n",
    "\n",
    "# max_leaf_nodes=10\n",
    "\n",
    "# min_samples_split=2\n",
    "\n",
    "# Test Performansı:\n",
    "\n",
    "# MSE: 2548.56 (temel modele göre daha kötü)\n",
    "\n",
    "# R²: 0.8298 (temel modele göre daha düşük)"
   ]
  },
  {
   "cell_type": "code",
   "execution_count": 274,
   "id": "4d658e39-7d51-429a-8cc6-f56e8a57ad87",
   "metadata": {},
   "outputs": [],
   "source": [
    "# Bu veri setinde:\n",
    "\n",
    "# ANN > Ridge > CART > KNN sıralaması oluştu\n",
    "\n",
    "# CART, Ridge'e göre daha düşük performans gösterdi"
   ]
  },
  {
   "cell_type": "code",
   "execution_count": 276,
   "id": "ec9b4eb8-1920-47e1-b7e4-e5278e8011ad",
   "metadata": {},
   "outputs": [],
   "source": [
    "# BOOTSTRAP AGGREGATION (BAGGING)"
   ]
  },
  {
   "cell_type": "code",
   "execution_count": 278,
   "id": "c4bdbbcd-0949-49fb-8d35-1459c55b49ad",
   "metadata": {},
   "outputs": [
    {
     "name": "stdout",
     "output_type": "stream",
     "text": [
      "BAG MODEL MSE: 2452.660696629213\n",
      "BAG MODEL R^2: 0.8362222622010327\n"
     ]
    }
   ],
   "source": [
    "model_BAG = BaggingRegressor(bootstrap_features=True, random_state=42).fit(x_egitimset, y_egitimset)\n",
    "pred_BAG  = model_BAG.predict(x_testset)\n",
    "print(\"BAG MODEL MSE:\", mean_squared_error(y_testset, pred_BAG))\n",
    "print(\"BAG MODEL R^2:\", r2_score(y_testset,  pred_BAG))"
   ]
  },
  {
   "cell_type": "code",
   "execution_count": 280,
   "id": "68a00198-b629-43c4-8881-29a695f4ea3d",
   "metadata": {},
   "outputs": [
    {
     "name": "stdout",
     "output_type": "stream",
     "text": [
      "BOOTSTRAP EN İYİ PARAMETRE: {'n_estimators': 20}\n"
     ]
    }
   ],
   "source": [
    "param_grid = {\n",
    "    \"n_estimators\": [5, 10, 20]\n",
    "}\n",
    "bag_cv = GridSearchCV(BaggingRegressor(bootstrap_features=True, random_state=42),\n",
    "                      param_grid, cv=5, n_jobs=-1).fit(x_egitimset, y_egitimset)\n",
    "print(\"BOOTSTRAP EN İYİ PARAMETRE:\", bag_cv.best_params_)"
   ]
  },
  {
   "cell_type": "code",
   "execution_count": 282,
   "id": "8e6a53f6-bdbe-4b3f-a551-4977125d7f42",
   "metadata": {},
   "outputs": [
    {
     "name": "stdout",
     "output_type": "stream",
     "text": [
      "OPTİMİZASYON SONUCU BAG MODEL MSE: 1982.0107528089889\n",
      "OPTİMİZASYON SONUCU BAG MODEL R^2: 0.8676501654572899\n"
     ]
    }
   ],
   "source": [
    "best_n  = bag_cv.best_params_[\"n_estimators\"]\n",
    "bag_best = BaggingRegressor(bootstrap_features=True,\n",
    "                            n_estimators=best_n,\n",
    "                            random_state=42).fit(x_egitimset, y_egitimset)\n",
    "best_pred = bag_best.predict(x_testset)\n",
    "print(\"OPTİMİZASYON SONUCU BAG MODEL MSE:\", mean_squared_error(y_testset, best_pred))\n",
    "print(\"OPTİMİZASYON SONUCU BAG MODEL R^2:\",  r2_score(y_testset,  best_pred))"
   ]
  },
  {
   "cell_type": "code",
   "execution_count": 286,
   "id": "73c674a6-76c7-4b6f-8e3b-cd4f1ebf5a79",
   "metadata": {},
   "outputs": [],
   "source": [
    "# Temel Bagging Modeli\n",
    "# MSE: 2452.66\n",
    "\n",
    "# R²: 0.8362\n",
    "# Başlangıç modeli CART'tan daha iyi performans gösterdi"
   ]
  },
  {
   "cell_type": "code",
   "execution_count": 288,
   "id": "e2066c61-e0bf-4cc0-958b-3f88a6819ac0",
   "metadata": {},
   "outputs": [],
   "source": [
    "# GridSearch ile Optimize Edilmiş Bagging\n",
    "# En İyi Parametre: n_estimators=20\n",
    "\n",
    "# Test Performansı:\n",
    "\n",
    "# MSE: 1982.01 (Neredeyse 5te 1 oranında iyileşme)\n",
    "\n",
    "# R²: 0.8676 (Daha iyi)"
   ]
  },
  {
   "cell_type": "code",
   "execution_count": 290,
   "id": "1a5424d3-1e4e-4626-aa6b-909190b088ee",
   "metadata": {},
   "outputs": [],
   "source": [
    "# Performans Değerlendirmesi:\n",
    "\n",
    "# Bagging, Ridge ile benzer performans gösterdi\n",
    "\n",
    "# ANN hala açık ara lider\n",
    "\n",
    "# CART'tan önemli ölçüde daha iyi"
   ]
  },
  {
   "cell_type": "code",
   "execution_count": 292,
   "id": "2d0aee68-deec-4ddf-8d0b-765600509245",
   "metadata": {},
   "outputs": [],
   "source": [
    "# RANDOM FOREST"
   ]
  },
  {
   "cell_type": "code",
   "execution_count": 294,
   "id": "3d1a8019-2768-49fd-8408-2cadb1c5d74b",
   "metadata": {},
   "outputs": [
    {
     "name": "stdout",
     "output_type": "stream",
     "text": [
      "Başlangıç MSE : 1119.0681604494384\n",
      "Başlangıç R²  : 0.9252736214132075\n"
     ]
    }
   ],
   "source": [
    "rf_0 = RandomForestRegressor(random_state=42).fit(x_egitimset, y_egitimset)\n",
    "pred_0 = rf_0.predict(x_testset)\n",
    "print(\"Başlangıç MSE :\", mean_squared_error(y_testset, pred_0))\n",
    "print(\"Başlangıç R²  :\", r2_score(y_testset,  pred_0))"
   ]
  },
  {
   "cell_type": "code",
   "execution_count": 296,
   "id": "a9a3c0c9-ff86-41f1-9c21-e1edcf42a651",
   "metadata": {},
   "outputs": [
    {
     "name": "stdout",
     "output_type": "stream",
     "text": [
      "En iyi parametreler: {'max_depth': 10, 'max_features': 5, 'n_estimators': 150}\n"
     ]
    }
   ],
   "source": [
    "param_grid = {\n",
    "    \"max_depth\": [5, 10],\n",
    "    \"max_features\": [3, 5],\n",
    "    \"n_estimators\": [100, 150]\n",
    "}\n",
    "rf_cv = GridSearchCV(rf_0, param_grid, cv=3, n_jobs=-1).fit(x_egitimset, y_egitimset)\n",
    "best_params = rf_cv.best_params_\n",
    "print(\"En iyi parametreler:\", best_params)"
   ]
  },
  {
   "cell_type": "code",
   "execution_count": 298,
   "id": "36599a9c-3ad0-4515-aacf-4d3c5d7e9b8b",
   "metadata": {},
   "outputs": [
    {
     "name": "stdout",
     "output_type": "stream",
     "text": [
      "Best MSE : 1143.0312955274212\n",
      "Best R²  : 0.923673470173765\n"
     ]
    }
   ],
   "source": [
    "rf_best = RandomForestRegressor(**best_params, random_state=42).fit(x_egitimset, y_egitimset)\n",
    "pred_best = rf_best.predict(x_testset)\n",
    "print(\"Best MSE :\", mean_squared_error(y_testset, pred_best))\n",
    "print(\"Best R²  :\", r2_score(y_testset,  pred_best))"
   ]
  },
  {
   "cell_type": "code",
   "execution_count": 300,
   "id": "83db3730-e4cb-4bab-808b-66b08bc8d71d",
   "metadata": {},
   "outputs": [],
   "source": [
    "# Temel Random Forest Modeli\n",
    "# MSE: 1119.07\n",
    "\n",
    "# R²: 0.9253\n",
    "\n",
    "# Başlangıç modeli tüm modeller arasında en iyi performansı gösterdi"
   ]
  },
  {
   "cell_type": "code",
   "execution_count": 302,
   "id": "99dbe9b5-31d6-4d31-988e-bda87f841a01",
   "metadata": {},
   "outputs": [],
   "source": [
    "# GridSearch ile Optimize Edilmiş Random Forest\n",
    "# En İyi Parametreler:\n",
    "\n",
    "# max_depth=10\n",
    "\n",
    "# max_features=5\n",
    "\n",
    "# n_estimators=150"
   ]
  },
  {
   "cell_type": "code",
   "execution_count": 304,
   "id": "f6070d13-7a11-4ca5-be27-5a28770b9fd4",
   "metadata": {},
   "outputs": [],
   "source": [
    "# Test Performansı:\n",
    "\n",
    "# MSE: 1143.03 (kötüleşti)\n",
    "\n",
    "# R²: 0.9237 (kötüleşti)"
   ]
  },
  {
   "cell_type": "code",
   "execution_count": 306,
   "id": "a5c95046-1cb3-413f-a8ab-040f1ad82167",
   "metadata": {},
   "outputs": [],
   "source": [
    "# Performans Değerlendirmesi:\n",
    "\n",
    "# Random Forest açık ara en iyi performansı gösterdi\n",
    "\n",
    "# Optimizasyon gerekli olmayabilir (temel model yeterli)"
   ]
  },
  {
   "cell_type": "code",
   "execution_count": 308,
   "id": "e3e440ff-3464-4ecf-87ce-ecd0a9c9c161",
   "metadata": {},
   "outputs": [],
   "source": [
    "# GRADIENT BOOSTING"
   ]
  },
  {
   "cell_type": "code",
   "execution_count": 310,
   "id": "e890a87f-8739-4ac7-b1c4-d81c1d8b172f",
   "metadata": {},
   "outputs": [
    {
     "name": "stdout",
     "output_type": "stream",
     "text": [
      "Başlangıç MSE : 1106.9887961813752\n",
      "Başlangıç R²  : 0.9260802274621371\n"
     ]
    }
   ],
   "source": [
    "grb_0 = GradientBoostingRegressor(random_state=42).fit(x_egitimset, y_egitimset)\n",
    "pred_0 = grb_0.predict(x_testset)\n",
    "print(\"Başlangıç MSE :\", mean_squared_error(y_testset, pred_0))\n",
    "print(\"Başlangıç R²  :\", r2_score(y_testset,  pred_0))\n"
   ]
  },
  {
   "cell_type": "code",
   "execution_count": 312,
   "id": "b560c96d-b5f3-4e28-a75a-bc83f4cc7832",
   "metadata": {},
   "outputs": [
    {
     "name": "stdout",
     "output_type": "stream",
     "text": [
      "En iyi parametreler: {'learning_rate': 0.1, 'max_depth': 5, 'n_estimators': 150, 'subsample': 0.8}\n"
     ]
    }
   ],
   "source": [
    "param_grid = {\n",
    "    'n_estimators': [100, 150],\n",
    "    'learning_rate': [0.05, 0.1],\n",
    "    'max_depth': [3, 5],\n",
    "    'subsample': [0.8, 1.0]\n",
    "}\n",
    "grb_cv = GridSearchCV(grb_0, param_grid, cv=3, n_jobs=-1).fit(x_egitimset, y_egitimset)\n",
    "print(\"En iyi parametreler:\", grb_cv.best_params_)"
   ]
  },
  {
   "cell_type": "code",
   "execution_count": 314,
   "id": "ead7c2af-dc62-49d1-80d8-057561a1d7c9",
   "metadata": {},
   "outputs": [
    {
     "name": "stdout",
     "output_type": "stream",
     "text": [
      "Best MSE : 989.2974970941666\n",
      "Best R²  : 0.9339391272886053\n"
     ]
    }
   ],
   "source": [
    "best_grb = GradientBoostingRegressor(**grb_cv.best_params_, random_state=42).fit(x_egitimset, y_egitimset)\n",
    "pred_best = best_grb.predict(x_testset)\n",
    "print(\"Best MSE :\", mean_squared_error(y_testset, pred_best))\n",
    "print(\"Best R²  :\", r2_score(y_testset,  pred_best))"
   ]
  },
  {
   "cell_type": "code",
   "execution_count": 316,
   "id": "f81486df-76e3-471c-81fa-88cbb0665b35",
   "metadata": {},
   "outputs": [],
   "source": [
    "# Temel Gradient Boosting Modeli\n",
    "# MSE: 1106.99\n",
    "\n",
    "# R²: 0.9269\n",
    "\n",
    "# Başlangıç modeli Random Forest'i geçerek en iyi performansı gösterdi"
   ]
  },
  {
   "cell_type": "code",
   "execution_count": 320,
   "id": "b4c3e8a8-4028-45de-824c-49a3f62c8515",
   "metadata": {},
   "outputs": [],
   "source": [
    "# GridSearch ile Optimize Edilmiş Gradient Boosting\n",
    "# En İyi Parametreler:\n",
    "\n",
    "# learning_rate=0.1\n",
    "\n",
    "# max_depth=5\n",
    "\n",
    "# n_estimators=150\n",
    "\n",
    "# subsample=0.8\n",
    "\n",
    "# Test Performansı:\n",
    "\n",
    "# MSE: 989.30 (iyileşti)\n",
    "\n",
    "# R²: 0.9339 (iyileşti)"
   ]
  },
  {
   "cell_type": "code",
   "execution_count": 322,
   "id": "90856fff-7662-4215-adfe-673b2298cd0b",
   "metadata": {},
   "outputs": [],
   "source": [
    "# Nihai Değerlendirme:\n",
    "\n",
    "# Gradient Boosting mutlak lider oldu\n",
    "\n",
    "# Optimizasyonla daha da iyileşti\n",
    "\n",
    "# R² > 0.93 ile mükemmele yakın sonuç"
   ]
  },
  {
   "cell_type": "code",
   "execution_count": 324,
   "id": "d65730b2-aead-489b-8df7-44dfc62bdd68",
   "metadata": {},
   "outputs": [],
   "source": [
    "# XGBOOST MODELİ"
   ]
  },
  {
   "cell_type": "code",
   "execution_count": 326,
   "id": "90c2f418-f592-4b99-b5c7-ccfc9e0a09fb",
   "metadata": {},
   "outputs": [
    {
     "name": "stdout",
     "output_type": "stream",
     "text": [
      "MSE (ilk model): 1186.1767367031755\n",
      "R² (ilk model): 0.9207924101226072\n"
     ]
    }
   ],
   "source": [
    "xgb_0 = XGBRegressor(random_state=42).fit(x_egitimset, y_egitimset)\n",
    "pred_0 = xgb_0.predict(x_testset)\n",
    "print(\"MSE (ilk model):\", mean_squared_error(y_testset, pred_0))\n",
    "print(\"R² (ilk model):\",  r2_score(y_testset,  pred_0))\n"
   ]
  },
  {
   "cell_type": "code",
   "execution_count": 328,
   "id": "3db211a2-6cb3-46ce-8cec-085c912b66b4",
   "metadata": {},
   "outputs": [
    {
     "data": {
      "text/html": [
       "<style>#sk-container-id-2 {\n",
       "  /* Definition of color scheme common for light and dark mode */\n",
       "  --sklearn-color-text: black;\n",
       "  --sklearn-color-line: gray;\n",
       "  /* Definition of color scheme for unfitted estimators */\n",
       "  --sklearn-color-unfitted-level-0: #fff5e6;\n",
       "  --sklearn-color-unfitted-level-1: #f6e4d2;\n",
       "  --sklearn-color-unfitted-level-2: #ffe0b3;\n",
       "  --sklearn-color-unfitted-level-3: chocolate;\n",
       "  /* Definition of color scheme for fitted estimators */\n",
       "  --sklearn-color-fitted-level-0: #f0f8ff;\n",
       "  --sklearn-color-fitted-level-1: #d4ebff;\n",
       "  --sklearn-color-fitted-level-2: #b3dbfd;\n",
       "  --sklearn-color-fitted-level-3: cornflowerblue;\n",
       "\n",
       "  /* Specific color for light theme */\n",
       "  --sklearn-color-text-on-default-background: var(--sg-text-color, var(--theme-code-foreground, var(--jp-content-font-color1, black)));\n",
       "  --sklearn-color-background: var(--sg-background-color, var(--theme-background, var(--jp-layout-color0, white)));\n",
       "  --sklearn-color-border-box: var(--sg-text-color, var(--theme-code-foreground, var(--jp-content-font-color1, black)));\n",
       "  --sklearn-color-icon: #696969;\n",
       "\n",
       "  @media (prefers-color-scheme: dark) {\n",
       "    /* Redefinition of color scheme for dark theme */\n",
       "    --sklearn-color-text-on-default-background: var(--sg-text-color, var(--theme-code-foreground, var(--jp-content-font-color1, white)));\n",
       "    --sklearn-color-background: var(--sg-background-color, var(--theme-background, var(--jp-layout-color0, #111)));\n",
       "    --sklearn-color-border-box: var(--sg-text-color, var(--theme-code-foreground, var(--jp-content-font-color1, white)));\n",
       "    --sklearn-color-icon: #878787;\n",
       "  }\n",
       "}\n",
       "\n",
       "#sk-container-id-2 {\n",
       "  color: var(--sklearn-color-text);\n",
       "}\n",
       "\n",
       "#sk-container-id-2 pre {\n",
       "  padding: 0;\n",
       "}\n",
       "\n",
       "#sk-container-id-2 input.sk-hidden--visually {\n",
       "  border: 0;\n",
       "  clip: rect(1px 1px 1px 1px);\n",
       "  clip: rect(1px, 1px, 1px, 1px);\n",
       "  height: 1px;\n",
       "  margin: -1px;\n",
       "  overflow: hidden;\n",
       "  padding: 0;\n",
       "  position: absolute;\n",
       "  width: 1px;\n",
       "}\n",
       "\n",
       "#sk-container-id-2 div.sk-dashed-wrapped {\n",
       "  border: 1px dashed var(--sklearn-color-line);\n",
       "  margin: 0 0.4em 0.5em 0.4em;\n",
       "  box-sizing: border-box;\n",
       "  padding-bottom: 0.4em;\n",
       "  background-color: var(--sklearn-color-background);\n",
       "}\n",
       "\n",
       "#sk-container-id-2 div.sk-container {\n",
       "  /* jupyter's `normalize.less` sets `[hidden] { display: none; }`\n",
       "     but bootstrap.min.css set `[hidden] { display: none !important; }`\n",
       "     so we also need the `!important` here to be able to override the\n",
       "     default hidden behavior on the sphinx rendered scikit-learn.org.\n",
       "     See: https://github.com/scikit-learn/scikit-learn/issues/21755 */\n",
       "  display: inline-block !important;\n",
       "  position: relative;\n",
       "}\n",
       "\n",
       "#sk-container-id-2 div.sk-text-repr-fallback {\n",
       "  display: none;\n",
       "}\n",
       "\n",
       "div.sk-parallel-item,\n",
       "div.sk-serial,\n",
       "div.sk-item {\n",
       "  /* draw centered vertical line to link estimators */\n",
       "  background-image: linear-gradient(var(--sklearn-color-text-on-default-background), var(--sklearn-color-text-on-default-background));\n",
       "  background-size: 2px 100%;\n",
       "  background-repeat: no-repeat;\n",
       "  background-position: center center;\n",
       "}\n",
       "\n",
       "/* Parallel-specific style estimator block */\n",
       "\n",
       "#sk-container-id-2 div.sk-parallel-item::after {\n",
       "  content: \"\";\n",
       "  width: 100%;\n",
       "  border-bottom: 2px solid var(--sklearn-color-text-on-default-background);\n",
       "  flex-grow: 1;\n",
       "}\n",
       "\n",
       "#sk-container-id-2 div.sk-parallel {\n",
       "  display: flex;\n",
       "  align-items: stretch;\n",
       "  justify-content: center;\n",
       "  background-color: var(--sklearn-color-background);\n",
       "  position: relative;\n",
       "}\n",
       "\n",
       "#sk-container-id-2 div.sk-parallel-item {\n",
       "  display: flex;\n",
       "  flex-direction: column;\n",
       "}\n",
       "\n",
       "#sk-container-id-2 div.sk-parallel-item:first-child::after {\n",
       "  align-self: flex-end;\n",
       "  width: 50%;\n",
       "}\n",
       "\n",
       "#sk-container-id-2 div.sk-parallel-item:last-child::after {\n",
       "  align-self: flex-start;\n",
       "  width: 50%;\n",
       "}\n",
       "\n",
       "#sk-container-id-2 div.sk-parallel-item:only-child::after {\n",
       "  width: 0;\n",
       "}\n",
       "\n",
       "/* Serial-specific style estimator block */\n",
       "\n",
       "#sk-container-id-2 div.sk-serial {\n",
       "  display: flex;\n",
       "  flex-direction: column;\n",
       "  align-items: center;\n",
       "  background-color: var(--sklearn-color-background);\n",
       "  padding-right: 1em;\n",
       "  padding-left: 1em;\n",
       "}\n",
       "\n",
       "\n",
       "/* Toggleable style: style used for estimator/Pipeline/ColumnTransformer box that is\n",
       "clickable and can be expanded/collapsed.\n",
       "- Pipeline and ColumnTransformer use this feature and define the default style\n",
       "- Estimators will overwrite some part of the style using the `sk-estimator` class\n",
       "*/\n",
       "\n",
       "/* Pipeline and ColumnTransformer style (default) */\n",
       "\n",
       "#sk-container-id-2 div.sk-toggleable {\n",
       "  /* Default theme specific background. It is overwritten whether we have a\n",
       "  specific estimator or a Pipeline/ColumnTransformer */\n",
       "  background-color: var(--sklearn-color-background);\n",
       "}\n",
       "\n",
       "/* Toggleable label */\n",
       "#sk-container-id-2 label.sk-toggleable__label {\n",
       "  cursor: pointer;\n",
       "  display: block;\n",
       "  width: 100%;\n",
       "  margin-bottom: 0;\n",
       "  padding: 0.5em;\n",
       "  box-sizing: border-box;\n",
       "  text-align: center;\n",
       "}\n",
       "\n",
       "#sk-container-id-2 label.sk-toggleable__label-arrow:before {\n",
       "  /* Arrow on the left of the label */\n",
       "  content: \"▸\";\n",
       "  float: left;\n",
       "  margin-right: 0.25em;\n",
       "  color: var(--sklearn-color-icon);\n",
       "}\n",
       "\n",
       "#sk-container-id-2 label.sk-toggleable__label-arrow:hover:before {\n",
       "  color: var(--sklearn-color-text);\n",
       "}\n",
       "\n",
       "/* Toggleable content - dropdown */\n",
       "\n",
       "#sk-container-id-2 div.sk-toggleable__content {\n",
       "  max-height: 0;\n",
       "  max-width: 0;\n",
       "  overflow: hidden;\n",
       "  text-align: left;\n",
       "  /* unfitted */\n",
       "  background-color: var(--sklearn-color-unfitted-level-0);\n",
       "}\n",
       "\n",
       "#sk-container-id-2 div.sk-toggleable__content.fitted {\n",
       "  /* fitted */\n",
       "  background-color: var(--sklearn-color-fitted-level-0);\n",
       "}\n",
       "\n",
       "#sk-container-id-2 div.sk-toggleable__content pre {\n",
       "  margin: 0.2em;\n",
       "  border-radius: 0.25em;\n",
       "  color: var(--sklearn-color-text);\n",
       "  /* unfitted */\n",
       "  background-color: var(--sklearn-color-unfitted-level-0);\n",
       "}\n",
       "\n",
       "#sk-container-id-2 div.sk-toggleable__content.fitted pre {\n",
       "  /* unfitted */\n",
       "  background-color: var(--sklearn-color-fitted-level-0);\n",
       "}\n",
       "\n",
       "#sk-container-id-2 input.sk-toggleable__control:checked~div.sk-toggleable__content {\n",
       "  /* Expand drop-down */\n",
       "  max-height: 200px;\n",
       "  max-width: 100%;\n",
       "  overflow: auto;\n",
       "}\n",
       "\n",
       "#sk-container-id-2 input.sk-toggleable__control:checked~label.sk-toggleable__label-arrow:before {\n",
       "  content: \"▾\";\n",
       "}\n",
       "\n",
       "/* Pipeline/ColumnTransformer-specific style */\n",
       "\n",
       "#sk-container-id-2 div.sk-label input.sk-toggleable__control:checked~label.sk-toggleable__label {\n",
       "  color: var(--sklearn-color-text);\n",
       "  background-color: var(--sklearn-color-unfitted-level-2);\n",
       "}\n",
       "\n",
       "#sk-container-id-2 div.sk-label.fitted input.sk-toggleable__control:checked~label.sk-toggleable__label {\n",
       "  background-color: var(--sklearn-color-fitted-level-2);\n",
       "}\n",
       "\n",
       "/* Estimator-specific style */\n",
       "\n",
       "/* Colorize estimator box */\n",
       "#sk-container-id-2 div.sk-estimator input.sk-toggleable__control:checked~label.sk-toggleable__label {\n",
       "  /* unfitted */\n",
       "  background-color: var(--sklearn-color-unfitted-level-2);\n",
       "}\n",
       "\n",
       "#sk-container-id-2 div.sk-estimator.fitted input.sk-toggleable__control:checked~label.sk-toggleable__label {\n",
       "  /* fitted */\n",
       "  background-color: var(--sklearn-color-fitted-level-2);\n",
       "}\n",
       "\n",
       "#sk-container-id-2 div.sk-label label.sk-toggleable__label,\n",
       "#sk-container-id-2 div.sk-label label {\n",
       "  /* The background is the default theme color */\n",
       "  color: var(--sklearn-color-text-on-default-background);\n",
       "}\n",
       "\n",
       "/* On hover, darken the color of the background */\n",
       "#sk-container-id-2 div.sk-label:hover label.sk-toggleable__label {\n",
       "  color: var(--sklearn-color-text);\n",
       "  background-color: var(--sklearn-color-unfitted-level-2);\n",
       "}\n",
       "\n",
       "/* Label box, darken color on hover, fitted */\n",
       "#sk-container-id-2 div.sk-label.fitted:hover label.sk-toggleable__label.fitted {\n",
       "  color: var(--sklearn-color-text);\n",
       "  background-color: var(--sklearn-color-fitted-level-2);\n",
       "}\n",
       "\n",
       "/* Estimator label */\n",
       "\n",
       "#sk-container-id-2 div.sk-label label {\n",
       "  font-family: monospace;\n",
       "  font-weight: bold;\n",
       "  display: inline-block;\n",
       "  line-height: 1.2em;\n",
       "}\n",
       "\n",
       "#sk-container-id-2 div.sk-label-container {\n",
       "  text-align: center;\n",
       "}\n",
       "\n",
       "/* Estimator-specific */\n",
       "#sk-container-id-2 div.sk-estimator {\n",
       "  font-family: monospace;\n",
       "  border: 1px dotted var(--sklearn-color-border-box);\n",
       "  border-radius: 0.25em;\n",
       "  box-sizing: border-box;\n",
       "  margin-bottom: 0.5em;\n",
       "  /* unfitted */\n",
       "  background-color: var(--sklearn-color-unfitted-level-0);\n",
       "}\n",
       "\n",
       "#sk-container-id-2 div.sk-estimator.fitted {\n",
       "  /* fitted */\n",
       "  background-color: var(--sklearn-color-fitted-level-0);\n",
       "}\n",
       "\n",
       "/* on hover */\n",
       "#sk-container-id-2 div.sk-estimator:hover {\n",
       "  /* unfitted */\n",
       "  background-color: var(--sklearn-color-unfitted-level-2);\n",
       "}\n",
       "\n",
       "#sk-container-id-2 div.sk-estimator.fitted:hover {\n",
       "  /* fitted */\n",
       "  background-color: var(--sklearn-color-fitted-level-2);\n",
       "}\n",
       "\n",
       "/* Specification for estimator info (e.g. \"i\" and \"?\") */\n",
       "\n",
       "/* Common style for \"i\" and \"?\" */\n",
       "\n",
       ".sk-estimator-doc-link,\n",
       "a:link.sk-estimator-doc-link,\n",
       "a:visited.sk-estimator-doc-link {\n",
       "  float: right;\n",
       "  font-size: smaller;\n",
       "  line-height: 1em;\n",
       "  font-family: monospace;\n",
       "  background-color: var(--sklearn-color-background);\n",
       "  border-radius: 1em;\n",
       "  height: 1em;\n",
       "  width: 1em;\n",
       "  text-decoration: none !important;\n",
       "  margin-left: 1ex;\n",
       "  /* unfitted */\n",
       "  border: var(--sklearn-color-unfitted-level-1) 1pt solid;\n",
       "  color: var(--sklearn-color-unfitted-level-1);\n",
       "}\n",
       "\n",
       ".sk-estimator-doc-link.fitted,\n",
       "a:link.sk-estimator-doc-link.fitted,\n",
       "a:visited.sk-estimator-doc-link.fitted {\n",
       "  /* fitted */\n",
       "  border: var(--sklearn-color-fitted-level-1) 1pt solid;\n",
       "  color: var(--sklearn-color-fitted-level-1);\n",
       "}\n",
       "\n",
       "/* On hover */\n",
       "div.sk-estimator:hover .sk-estimator-doc-link:hover,\n",
       ".sk-estimator-doc-link:hover,\n",
       "div.sk-label-container:hover .sk-estimator-doc-link:hover,\n",
       ".sk-estimator-doc-link:hover {\n",
       "  /* unfitted */\n",
       "  background-color: var(--sklearn-color-unfitted-level-3);\n",
       "  color: var(--sklearn-color-background);\n",
       "  text-decoration: none;\n",
       "}\n",
       "\n",
       "div.sk-estimator.fitted:hover .sk-estimator-doc-link.fitted:hover,\n",
       ".sk-estimator-doc-link.fitted:hover,\n",
       "div.sk-label-container:hover .sk-estimator-doc-link.fitted:hover,\n",
       ".sk-estimator-doc-link.fitted:hover {\n",
       "  /* fitted */\n",
       "  background-color: var(--sklearn-color-fitted-level-3);\n",
       "  color: var(--sklearn-color-background);\n",
       "  text-decoration: none;\n",
       "}\n",
       "\n",
       "/* Span, style for the box shown on hovering the info icon */\n",
       ".sk-estimator-doc-link span {\n",
       "  display: none;\n",
       "  z-index: 9999;\n",
       "  position: relative;\n",
       "  font-weight: normal;\n",
       "  right: .2ex;\n",
       "  padding: .5ex;\n",
       "  margin: .5ex;\n",
       "  width: min-content;\n",
       "  min-width: 20ex;\n",
       "  max-width: 50ex;\n",
       "  color: var(--sklearn-color-text);\n",
       "  box-shadow: 2pt 2pt 4pt #999;\n",
       "  /* unfitted */\n",
       "  background: var(--sklearn-color-unfitted-level-0);\n",
       "  border: .5pt solid var(--sklearn-color-unfitted-level-3);\n",
       "}\n",
       "\n",
       ".sk-estimator-doc-link.fitted span {\n",
       "  /* fitted */\n",
       "  background: var(--sklearn-color-fitted-level-0);\n",
       "  border: var(--sklearn-color-fitted-level-3);\n",
       "}\n",
       "\n",
       ".sk-estimator-doc-link:hover span {\n",
       "  display: block;\n",
       "}\n",
       "\n",
       "/* \"?\"-specific style due to the `<a>` HTML tag */\n",
       "\n",
       "#sk-container-id-2 a.estimator_doc_link {\n",
       "  float: right;\n",
       "  font-size: 1rem;\n",
       "  line-height: 1em;\n",
       "  font-family: monospace;\n",
       "  background-color: var(--sklearn-color-background);\n",
       "  border-radius: 1rem;\n",
       "  height: 1rem;\n",
       "  width: 1rem;\n",
       "  text-decoration: none;\n",
       "  /* unfitted */\n",
       "  color: var(--sklearn-color-unfitted-level-1);\n",
       "  border: var(--sklearn-color-unfitted-level-1) 1pt solid;\n",
       "}\n",
       "\n",
       "#sk-container-id-2 a.estimator_doc_link.fitted {\n",
       "  /* fitted */\n",
       "  border: var(--sklearn-color-fitted-level-1) 1pt solid;\n",
       "  color: var(--sklearn-color-fitted-level-1);\n",
       "}\n",
       "\n",
       "/* On hover */\n",
       "#sk-container-id-2 a.estimator_doc_link:hover {\n",
       "  /* unfitted */\n",
       "  background-color: var(--sklearn-color-unfitted-level-3);\n",
       "  color: var(--sklearn-color-background);\n",
       "  text-decoration: none;\n",
       "}\n",
       "\n",
       "#sk-container-id-2 a.estimator_doc_link.fitted:hover {\n",
       "  /* fitted */\n",
       "  background-color: var(--sklearn-color-fitted-level-3);\n",
       "}\n",
       "</style><div id=\"sk-container-id-2\" class=\"sk-top-container\"><div class=\"sk-text-repr-fallback\"><pre>GridSearchCV(cv=3,\n",
       "             estimator=XGBRegressor(base_score=None, booster=None,\n",
       "                                    callbacks=None, colsample_bylevel=None,\n",
       "                                    colsample_bynode=None,\n",
       "                                    colsample_bytree=None, device=None,\n",
       "                                    early_stopping_rounds=None,\n",
       "                                    enable_categorical=False, eval_metric=None,\n",
       "                                    feature_types=None, feature_weights=None,\n",
       "                                    gamma=None, grow_policy=None,\n",
       "                                    importance_type=None,\n",
       "                                    interaction_constraints=None...\n",
       "                                    max_cat_to_onehot=None, max_delta_step=None,\n",
       "                                    max_depth=None, max_leaves=None,\n",
       "                                    min_child_weight=None, missing=nan,\n",
       "                                    monotone_constraints=None,\n",
       "                                    multi_strategy=None, n_estimators=None,\n",
       "                                    n_jobs=None, num_parallel_tree=None, ...),\n",
       "             n_jobs=-1,\n",
       "             param_grid={&#x27;colsample_bytree&#x27;: [0.8, 1.0],\n",
       "                         &#x27;learning_rate&#x27;: [0.05, 0.1], &#x27;max_depth&#x27;: [3, 5],\n",
       "                         &#x27;n_estimators&#x27;: [100, 150], &#x27;subsample&#x27;: [0.8, 1.0]})</pre><b>In a Jupyter environment, please rerun this cell to show the HTML representation or trust the notebook. <br />On GitHub, the HTML representation is unable to render, please try loading this page with nbviewer.org.</b></div><div class=\"sk-container\" hidden><div class=\"sk-item sk-dashed-wrapped\"><div class=\"sk-label-container\"><div class=\"sk-label fitted sk-toggleable\"><input class=\"sk-toggleable__control sk-hidden--visually\" id=\"sk-estimator-id-4\" type=\"checkbox\" ><label for=\"sk-estimator-id-4\" class=\"sk-toggleable__label fitted sk-toggleable__label-arrow fitted\">&nbsp;&nbsp;GridSearchCV<a class=\"sk-estimator-doc-link fitted\" rel=\"noreferrer\" target=\"_blank\" href=\"https://scikit-learn.org/1.5/modules/generated/sklearn.model_selection.GridSearchCV.html\">?<span>Documentation for GridSearchCV</span></a><span class=\"sk-estimator-doc-link fitted\">i<span>Fitted</span></span></label><div class=\"sk-toggleable__content fitted\"><pre>GridSearchCV(cv=3,\n",
       "             estimator=XGBRegressor(base_score=None, booster=None,\n",
       "                                    callbacks=None, colsample_bylevel=None,\n",
       "                                    colsample_bynode=None,\n",
       "                                    colsample_bytree=None, device=None,\n",
       "                                    early_stopping_rounds=None,\n",
       "                                    enable_categorical=False, eval_metric=None,\n",
       "                                    feature_types=None, feature_weights=None,\n",
       "                                    gamma=None, grow_policy=None,\n",
       "                                    importance_type=None,\n",
       "                                    interaction_constraints=None...\n",
       "                                    max_cat_to_onehot=None, max_delta_step=None,\n",
       "                                    max_depth=None, max_leaves=None,\n",
       "                                    min_child_weight=None, missing=nan,\n",
       "                                    monotone_constraints=None,\n",
       "                                    multi_strategy=None, n_estimators=None,\n",
       "                                    n_jobs=None, num_parallel_tree=None, ...),\n",
       "             n_jobs=-1,\n",
       "             param_grid={&#x27;colsample_bytree&#x27;: [0.8, 1.0],\n",
       "                         &#x27;learning_rate&#x27;: [0.05, 0.1], &#x27;max_depth&#x27;: [3, 5],\n",
       "                         &#x27;n_estimators&#x27;: [100, 150], &#x27;subsample&#x27;: [0.8, 1.0]})</pre></div> </div></div><div class=\"sk-parallel\"><div class=\"sk-parallel-item\"><div class=\"sk-item\"><div class=\"sk-label-container\"><div class=\"sk-label fitted sk-toggleable\"><input class=\"sk-toggleable__control sk-hidden--visually\" id=\"sk-estimator-id-5\" type=\"checkbox\" ><label for=\"sk-estimator-id-5\" class=\"sk-toggleable__label fitted sk-toggleable__label-arrow fitted\">best_estimator_: XGBRegressor</label><div class=\"sk-toggleable__content fitted\"><pre>XGBRegressor(base_score=None, booster=None, callbacks=None,\n",
       "             colsample_bylevel=None, colsample_bynode=None,\n",
       "             colsample_bytree=0.8, device=None, early_stopping_rounds=None,\n",
       "             enable_categorical=False, eval_metric=None, feature_types=None,\n",
       "             feature_weights=None, gamma=None, grow_policy=None,\n",
       "             importance_type=None, interaction_constraints=None,\n",
       "             learning_rate=0.1, max_bin=None, max_cat_threshold=None,\n",
       "             max_cat_to_onehot=None, max_delta_step=None, max_depth=5,\n",
       "             max_leaves=None, min_child_weight=None, missing=nan,\n",
       "             monotone_constraints=None, multi_strategy=None, n_estimators=150,\n",
       "             n_jobs=None, num_parallel_tree=None, ...)</pre></div> </div></div><div class=\"sk-serial\"><div class=\"sk-item\"><div class=\"sk-estimator fitted sk-toggleable\"><input class=\"sk-toggleable__control sk-hidden--visually\" id=\"sk-estimator-id-6\" type=\"checkbox\" ><label for=\"sk-estimator-id-6\" class=\"sk-toggleable__label fitted sk-toggleable__label-arrow fitted\">&nbsp;XGBRegressor<a class=\"sk-estimator-doc-link fitted\" rel=\"noreferrer\" target=\"_blank\" href=\"https://xgboost.readthedocs.io/en/release_3.0.0/python/python_api.html#xgboost.XGBRegressor\">?<span>Documentation for XGBRegressor</span></a></label><div class=\"sk-toggleable__content fitted\"><pre>XGBRegressor(base_score=None, booster=None, callbacks=None,\n",
       "             colsample_bylevel=None, colsample_bynode=None,\n",
       "             colsample_bytree=0.8, device=None, early_stopping_rounds=None,\n",
       "             enable_categorical=False, eval_metric=None, feature_types=None,\n",
       "             feature_weights=None, gamma=None, grow_policy=None,\n",
       "             importance_type=None, interaction_constraints=None,\n",
       "             learning_rate=0.1, max_bin=None, max_cat_threshold=None,\n",
       "             max_cat_to_onehot=None, max_delta_step=None, max_depth=5,\n",
       "             max_leaves=None, min_child_weight=None, missing=nan,\n",
       "             monotone_constraints=None, multi_strategy=None, n_estimators=150,\n",
       "             n_jobs=None, num_parallel_tree=None, ...)</pre></div> </div></div></div></div></div></div></div></div></div>"
      ],
      "text/plain": [
       "GridSearchCV(cv=3,\n",
       "             estimator=XGBRegressor(base_score=None, booster=None,\n",
       "                                    callbacks=None, colsample_bylevel=None,\n",
       "                                    colsample_bynode=None,\n",
       "                                    colsample_bytree=None, device=None,\n",
       "                                    early_stopping_rounds=None,\n",
       "                                    enable_categorical=False, eval_metric=None,\n",
       "                                    feature_types=None, feature_weights=None,\n",
       "                                    gamma=None, grow_policy=None,\n",
       "                                    importance_type=None,\n",
       "                                    interaction_constraints=None...\n",
       "                                    max_cat_to_onehot=None, max_delta_step=None,\n",
       "                                    max_depth=None, max_leaves=None,\n",
       "                                    min_child_weight=None, missing=nan,\n",
       "                                    monotone_constraints=None,\n",
       "                                    multi_strategy=None, n_estimators=None,\n",
       "                                    n_jobs=None, num_parallel_tree=None, ...),\n",
       "             n_jobs=-1,\n",
       "             param_grid={'colsample_bytree': [0.8, 1.0],\n",
       "                         'learning_rate': [0.05, 0.1], 'max_depth': [3, 5],\n",
       "                         'n_estimators': [100, 150], 'subsample': [0.8, 1.0]})"
      ]
     },
     "execution_count": 328,
     "metadata": {},
     "output_type": "execute_result"
    },
    {
     "name": "stdout",
     "output_type": "stream",
     "text": [
      "En iyi parametreler: {'colsample_bytree': 0.8, 'learning_rate': 0.1, 'max_depth': 5, 'n_estimators': 150, 'subsample': 0.8}\n"
     ]
    }
   ],
   "source": [
    "param_grid = {\n",
    "    \"n_estimators\": [100, 150],\n",
    "    \"learning_rate\": [0.05, 0.1],\n",
    "    \"max_depth\": [3, 5],\n",
    "    \"subsample\": [0.8, 1.0],\n",
    "    \"colsample_bytree\": [0.8, 1.0]\n",
    "}\n",
    "\n",
    "xgb_cv = GridSearchCV(XGBRegressor(random_state=42),\n",
    "                      param_grid, cv=3, n_jobs=-1)\n",
    "xgb_cv.fit(x_egitimset, y_egitimset)\n",
    "print(\"En iyi parametreler:\", xgb_cv.best_params_)"
   ]
  },
  {
   "cell_type": "code",
   "execution_count": 330,
   "id": "5dbee46e-1910-4c3f-992e-b2dddbd5db31",
   "metadata": {},
   "outputs": [
    {
     "name": "stdout",
     "output_type": "stream",
     "text": [
      "Best Model MSE: 1048.5819531255813\n",
      "Best Model R² : 0.929980375836025\n"
     ]
    }
   ],
   "source": [
    "best_xgb = XGBRegressor(**xgb_cv.best_params_, random_state=42).fit(x_egitimset, y_egitimset)\n",
    "pred_best = best_xgb.predict(x_testset)\n",
    "print(\"Best Model MSE:\", mean_squared_error(y_testset, pred_best))\n",
    "print(\"Best Model R² :\",  r2_score(y_testset,  pred_best))"
   ]
  },
  {
   "cell_type": "code",
   "execution_count": 332,
   "id": "134c0400-52ea-4a4b-b460-05112b5208a1",
   "metadata": {},
   "outputs": [],
   "source": [
    "# Temel XGBoost Modeli\n",
    "# MSE: 1186.18\n",
    "\n",
    "# R²: 0.9208\n",
    "\n",
    "# Başlangıç modeli Gradient Boosting ve Random Forest'in ardından 3. sırada"
   ]
  },
  {
   "cell_type": "code",
   "execution_count": 334,
   "id": "e31cd7cb-26ca-4a1a-8cdd-2860ffd72a0b",
   "metadata": {},
   "outputs": [],
   "source": [
    "# GridSearch ile Optimize Edilmiş XGBoost\n",
    "# En İyi Parametreler:\n",
    "\n",
    "# colsample_bytree=0.8\n",
    "\n",
    "# learning_rate=0.1\n",
    "\n",
    "# max_depth=5\n",
    "\n",
    "# n_estimators=150\n",
    "\n",
    "# subsample=0.8\n",
    "\n",
    "# Test Performansı:\n",
    "\n",
    "# MSE: 1048.58 (iyileşti)\n",
    "\n",
    "# R²: 0.9300 (iyileşti)"
   ]
  },
  {
   "cell_type": "code",
   "execution_count": 336,
   "id": "d72414ed-1589-4301-aee5-ec34806614c7",
   "metadata": {},
   "outputs": [],
   "source": [
    "# Model Seçimi İçin:\n",
    "\n",
    "# Mutlak performans için Gradient Boosting\n",
    "\n",
    "# Hız/performans dengesi için XGBoost\n",
    "\n",
    "# Interpretability için Random Forest"
   ]
  },
  {
   "cell_type": "code",
   "execution_count": 338,
   "id": "8cf8cf82-1762-4be3-a564-9d88f71836a8",
   "metadata": {},
   "outputs": [],
   "source": [
    "# Bu projede New York Exchange Data seti kullanılarak çok sayıda regresyon modeli uygulanmış ve karşılaştırıldı.\n",
    "# OLS, Linear Regression, Ridge, Lasso, PCR, PLS, KNN, ANN, CART, Bagging, Random Forest, Gradient Boosting ve XGBoost\n",
    "# modelleri denendi.\n",
    "# Model performanslarına MSE, RMSE, R² ve MAPE metrikleri üzerinden bakıldı.\n",
    "# XGBoost ve Gradient Boosting gibi modeller diğerlerine göre daha başarılı sonuçlar buldu. \n",
    "# KNN gibi modeller verinin yapısına uymadı.\n",
    "\n",
    "# Veri setine göre regresyon modelinin ne kadar ciddi değişimler yarattığı ve uygun modellerle çalışmanın ne kadar önemli olduğu \n",
    "# ayrıca model farkları anlaşıldı."
   ]
  },
  {
   "cell_type": "code",
   "execution_count": null,
   "id": "b0d291f4-2e18-4ff5-b885-47593b7b78d7",
   "metadata": {},
   "outputs": [],
   "source": []
  }
 ],
 "metadata": {
  "kernelspec": {
   "display_name": "Python [conda env:base] *",
   "language": "python",
   "name": "conda-base-py"
  },
  "language_info": {
   "codemirror_mode": {
    "name": "ipython",
    "version": 3
   },
   "file_extension": ".py",
   "mimetype": "text/x-python",
   "name": "python",
   "nbconvert_exporter": "python",
   "pygments_lexer": "ipython3",
   "version": "3.12.7"
  }
 },
 "nbformat": 4,
 "nbformat_minor": 5
}
